{
 "cells": [
  {
   "cell_type": "markdown",
   "metadata": {},
   "source": [
    "## Day 3"
   ]
  },
  {
   "cell_type": "markdown",
   "metadata": {},
   "source": [
    "## File IO - Basics"
   ]
  },
  {
   "cell_type": "code",
   "execution_count": null,
   "metadata": {},
   "outputs": [],
   "source": [
    "# Review - Collection of Data\n",
    "# 1. List : [] - ordered, mutable elements(remove, insert, append, ,,), mutable container, reassign\n",
    "# 2. Set : {}, set() - unordered, immutable elements, mutable container(add, remove,, ) (duplicate (x))\n",
    "# -> hash technique(검색 속도가 빠름)\n",
    "# 3. Tuple : () - ordered, mutable elements, immutable container(reassign 불가능, container 크기 변경 불가능)\n",
    "# 4. Dictionary : {} - ordered, immutable keys and mutable values, mutable container(pair 추가,삭제 가능, reassign)\n",
    "# -> key,value pair를 element로 보면 mutable 하다고 봄\n",
    "\n",
    "# mutable container : collection size, reassign possible\n"
   ]
  },
  {
   "cell_type": "code",
   "execution_count": 1,
   "metadata": {},
   "outputs": [],
   "source": [
    "# user IO by using various structures, string, list, tuple, ,,(user Input  - output(print))\n",
    "# user IO : python - user 소통\n",
    "\n",
    "# In the real world, there are lots and lots of data in files\n",
    "# file과 python 소통(file IO)\n",
    "# file로부터 python 영역으로\n",
    "# python 영역에서부터 file로 저장\n",
    "\n",
    "# we will focus on text files\n"
   ]
  },
  {
   "cell_type": "code",
   "execution_count": 6,
   "metadata": {},
   "outputs": [
    {
     "name": "stdout",
     "output_type": "stream",
     "text": [
      "First line of text\n",
      "Second line of text\n",
      "Third line of text\n",
      "\n",
      "First line of text\n",
      "Second line of text\n",
      "Third line of text\n"
     ]
    }
   ],
   "source": [
    "# Opening File\n",
    "# open(<<file_name>>, mode) : file_name(경로 포함)\n",
    "# > file object 생성 - class로 method, attribute 존재(file.method)\n",
    "# > file object - cursor 존재(현재 pointing하는 위치가 저장됨(시작점 > 오른쪽 > 끝줄))\n",
    "# mode - 'r' : reading, 'w' : writing(빈 파일이라고 생각하고 처음부터 다시 씀), 'a' : appending(이전 keep & 맨 뒤부터 작성성)\n",
    "\n",
    "file = open('file_example.txt', 'r') # open함수 - file object로 할당\n",
    "# variable file에 file object assignment\n",
    "contents = file.read() # cursor(왼쪽 위> 전체 컨텐츠를 ** 하나의 전체 string **으로 가져옴)\n",
    "# 'First line of text\\nSecond line of text\\nThird line of text'\n",
    "file.close() # file 열려있으면 memory를 잡아먹으므로 필수\n",
    "print(contents)\n",
    "print()\n",
    "\n",
    "# 좀 더 안전한 방식 'with'  \n",
    "with open('file_example.txt', 'r') as file : # file : variable_name\n",
    "  contents= file.read() # with모드로 열고 block이 종료되면 ** 자동으로 파일 종료 **\n",
    "print(contents)\n",
    "\n",
    "  "
   ]
  },
  {
   "cell_type": "markdown",
   "metadata": {},
   "source": [
    "#### 01. File Path"
   ]
  },
  {
   "cell_type": "code",
   "execution_count": 16,
   "metadata": {},
   "outputs": [
    {
     "data": {
      "text/plain": [
       "'c:\\\\Users\\\\chjin\\\\OneDrive - 인하대학교\\\\바탕 화면\\\\취업 준비\\\\02. 대외 활동\\\\2025 SNU 데이터사이언스\\\\데이터 사이언스를 위한 파이썬 프로그래밍\\\\Day3'"
      ]
     },
     "execution_count": 16,
     "metadata": {},
     "output_type": "execute_result"
    }
   ],
   "source": [
    "# Absolute\n",
    "# Mac : /User/hskim,,,\n",
    "# Windows : C:/user/hskim (원래 backslash로 되어있어 수정해야 함)\n",
    "\n",
    "# Relative\n",
    "# : 현재 위치에서 가기 위한 상대적인 위치\n",
    "# Windows : ../(한단계 위), file.example.txt(현 위치), \n",
    "\n",
    "import os\n",
    "os.getcwd() # show the current working directly(absolute path)\n",
    "os.chdir('../')\n",
    "os.getcwd() # 작업 위치가 한 단계 올라감\n",
    "os.chdir('../')\n",
    "os.getcwd()\n",
    "os.chdir('데이터 사이언스를 위한 파이썬 프로그래밍/Day3')\n",
    "os.getcwd()"
   ]
  },
  {
   "cell_type": "code",
   "execution_count": null,
   "metadata": {},
   "outputs": [],
   "source": [
    "# practice\n",
    "os.chdir('../')\n",
    "os.getcwd()"
   ]
  },
  {
   "cell_type": "code",
   "execution_count": 18,
   "metadata": {},
   "outputs": [
    {
     "name": "stdout",
     "output_type": "stream",
     "text": [
      "First line of text\n",
      "Second line of text\n",
      "Third line of text\n"
     ]
    }
   ],
   "source": [
    "# with open(file= 'file_example.txt', mode= 'r') as file_example : # 오류 : 파일 위치 참조 error\n",
    "#   contents = file_example.read()\n",
    "# print(contents)\n",
    "\n",
    "# FileNotFoundError: [Errno 2] No such file or directory: 'file_example.txt'\n",
    "\n",
    "os.chdir('Day3') # 현 위치 : 데이터 사이언스를 위한 파이썬 프로그래밍\n",
    "os.getcwd()\n",
    "\n",
    "with open(file= 'file_example.txt', mode= 'r') as file_example : # 오류 : 파일 위치 참조 error\n",
    "  contents = file_example.read()\n",
    "print(contents)"
   ]
  },
  {
   "cell_type": "markdown",
   "metadata": {},
   "source": [
    "#### 02. Read contents"
   ]
  },
  {
   "cell_type": "code",
   "execution_count": 32,
   "metadata": {},
   "outputs": [
    {
     "name": "stdout",
     "output_type": "stream",
     "text": [
      "First line\n",
      "['First line of text', 'Second line of text', 'Third line of text']\n",
      "['First line of text', 'Second line of text', 'Third line of text']\n",
      "First line of text\n",
      "\n",
      "Second line of text\n",
      "\n",
      "First line of text\n",
      "\n",
      "Second line of text\n",
      "\n",
      "Third line of text\n"
     ]
    }
   ],
   "source": [
    "# 전체 string\n",
    "# file.read()\n",
    "\n",
    "# 일부 내용 읽어오기\n",
    "# 1) character\n",
    "# read(number)\n",
    "with open(file= 'file_example.txt', mode= 'r') as file_example : # 오류 : 파일 위치 참조 error\n",
    "  contents = file_example.read(10) # 10개의 character만 읽어옴\n",
    "print(contents)\n",
    "# current cursor location : 11-th character\n",
    "# if I want to read what I have already read again,\n",
    "# ** close and open ** the file again(cursor 뒤로 움직이지 않음 - 전진만 함)\n",
    "\n",
    "# 2) individual lines\n",
    "with open('file_example.txt', 'r') as file_example :\n",
    "  lines_list= file_example.readlines() # '\\n'으로 구분된 line을 개별로 list로 받음\n",
    "  for idx, line in enumerate(lines_list) :\n",
    "    line = line.strip('\\n') # str.strip : 불필요한 char 제거\n",
    "    lines_list[idx] = line\n",
    "print(lines_list)\n",
    "print(sorted(lines_list))\n",
    "# reversed(lines_list) # ?\n",
    "\n",
    "# 3) individual line\n",
    "with open('file_example.txt', 'r') as file_example :\n",
    "  line = file_example.readline() # 현재 커서의 위치에서 한 줄\n",
    "  line_2 = file_example.readline()\n",
    "print(line)\n",
    "print(line_2)\n",
    "\n",
    "# 4) line loop by for\n",
    "with open('file_example.txt', 'r') as file_example :\n",
    "  for line in file_example : # line별로 mapping됨\n",
    "    print(line)\n",
    "\n",
    "\n",
    "# ------------------하드디스크 상의 파일 불러오기"
   ]
  },
  {
   "cell_type": "code",
   "execution_count": 36,
   "metadata": {},
   "outputs": [],
   "source": [
    "# 인터넷에서 파일 불러오기\n",
    "import urllib.request\n",
    "\n",
    "url = 'https://robjhyndman.com/tsdldata/ecology1/hopedale.dat'\n",
    "\n",
    "# urllib.request.method(urlopen(url))\n",
    "with urllib.request.urlopen(url) as file :\n",
    "  for line in file : # 'n을 기준으로 line을 불러옴\n",
    "    line = line.strip() # 양 끝 공백 제거\n",
    "    line = line.decode('utf-8') # byte > text\n",
    "    # print(line)\n",
    "\n",
    "# there are so many data types in a file in the Internet,\n",
    "# text파일(string type)이라는 보장이 없음, 음악, 영상, 사진 등\n",
    "# 일단 byte type으로 가져옴(모든 파일의 원초적인 데이터 타입)"
   ]
  },
  {
   "cell_type": "code",
   "execution_count": null,
   "metadata": {},
   "outputs": [],
   "source": [
    "# Bit(binary digits)\n",
    "# 0 or 1 sequence(nothing but bits)\n",
    "# All data(characters, sounds, and pixels) are represented as sequence of bits\n",
    "# 공간 차지가 큼\n",
    "\n",
    "# Byte\n",
    "# = 8bits\n",
    "# programming language interprete bytes for users to think them as integers, str, func, and documents\n",
    "\n",
    "# 인터넷에서 불러오는 파일은 어떤 데이터 타입인지 알 수 없으므로\n",
    "# 우선 Byte로 불러오고 해석해서 사용해야 함"
   ]
  },
  {
   "cell_type": "markdown",
   "metadata": {},
   "source": [
    "#### 03. Writing Files"
   ]
  },
  {
   "cell_type": "code",
   "execution_count": 41,
   "metadata": {},
   "outputs": [],
   "source": [
    "with open('file_example.txt', 'w') as output_file :\n",
    "  output_file.write('Programming for Data Science')\n",
    "# file 열리고 cursor 맨 왼쪽 위에 위치하고 \n",
    "# 그 이전 컨텐츠는 모두 무시된 백지 상태에서 내용을 입력함\n",
    "\n",
    "# file_example.txt 확인"
   ]
  },
  {
   "cell_type": "code",
   "execution_count": 42,
   "metadata": {},
   "outputs": [],
   "source": [
    "# append mode\n",
    "# 기존 것 살리고 뒤에 더 쓰는 것\n",
    "\n",
    "with open('file_example.txt', 'a') as output_file :\n",
    "  output_file.write(' is fun...?') # 뒤에 붙음\n"
   ]
  },
  {
   "cell_type": "code",
   "execution_count": 44,
   "metadata": {},
   "outputs": [],
   "source": [
    "with open('file_example.txt', 'a') as output_file :\n",
    "  output_file.write('\\n줄바꾸기 연습')\n",
    "  output_file.write('\\n줄바꾸기 연습 2\\n안녕')\n"
   ]
  },
  {
   "cell_type": "markdown",
   "metadata": {},
   "source": [
    "#### 04. Reading and Writing Together"
   ]
  },
  {
   "cell_type": "code",
   "execution_count": null,
   "metadata": {},
   "outputs": [],
   "source": [
    "# 'r' : 조작하고 저장하지 않음\n",
    "# 'w' : 조작하여 저장함\n",
    "\n",
    "# with open('file_example.txt', 'r') as input_file, open('file_example.txt', 'w') as output_file :\n",
    "#   input_file.read()"
   ]
  },
  {
   "cell_type": "markdown",
   "metadata": {},
   "source": [
    "#### 05. Reading Techniques"
   ]
  },
  {
   "cell_type": "code",
   "execution_count": 45,
   "metadata": {},
   "outputs": [],
   "source": [
    "# Now let's extract data from a file\n",
    "# and organize them as data structures we've learned!\n",
    "# file > list, set, tuple, dictionary"
   ]
  },
  {
   "cell_type": "markdown",
   "metadata": {},
   "source": [
    "- Whitespace-delimited\n"
   ]
  },
  {
   "cell_type": "code",
   "execution_count": 6,
   "metadata": {},
   "outputs": [
    {
     "name": "stdout",
     "output_type": "stream",
     "text": [
      "['Inhoe', 'Jaewook', 'Hyungsin'] ['2021-1111', '2021-2222', '2022-9999'] ['A+', 'A+', 'F']\n"
     ]
    }
   ],
   "source": [
    "\n",
    "# A file example for student grading\n",
    "# Inhoe 2021-1111 A+\n",
    "# Jaewook 2021-2222 A+\n",
    "# ,,,\n",
    "\n",
    "# A line divided by ** white space **\n",
    "# [name, number, and grade]로 재구성\n",
    "\n",
    "from typing import TextIO\n",
    "\n",
    "# 1) 지역 변수 선언\n",
    "\n",
    "def process_file(input_file : TextIO) -> None :\n",
    "\n",
    "  names = [] # 바깥에서도 보려면 바깥에서 선언\n",
    "  numbers = [] # 안에서 선언하면 return 해줘야 함\n",
    "  grades = []\n",
    "  \n",
    "  line = input_file.readline()\n",
    "  while line :\n",
    "    line = line.strip() # 양 옆 공백 제거\n",
    "    value = line.split() # 띄어쓰기 단위로 나뉘어 리스트로 반환\n",
    "\n",
    "    names.append(value[0])\n",
    "    numbers.append(value[1])\n",
    "    grades.append(value[2])\n",
    "\n",
    "    line = input_file.readline() # line 다음 라인으로 업데이트\n",
    "\n",
    "  return names, numbers, grades\n",
    "\n",
    "with open('student_grading.txt', 'r') as students :\n",
    "  # process file 함수를 만들어서 파일 불러올 때 재사용 가능하도록\n",
    "  names, numbers, grades = process_file(students)\n",
    "\n",
    "print(names, numbers, grades)\n"
   ]
  },
  {
   "cell_type": "code",
   "execution_count": 11,
   "metadata": {},
   "outputs": [
    {
     "data": {
      "text/plain": [
       "['A+', 'A+', 'F']"
      ]
     },
     "execution_count": 11,
     "metadata": {},
     "output_type": "execute_result"
    }
   ],
   "source": [
    "# 2) 전역 변수 선언\n",
    "  \n",
    "names = [] # 바깥에서도 보려면 바깥에서 선언\n",
    "numbers = [] # 안에서 선언하면 return 해줘야 함\n",
    "grades = []\n",
    "\n",
    "def process_file(input_file : TextIO) -> None :\n",
    "\n",
    "  line = input_file.readline()\n",
    "  while line :\n",
    "    line = line.strip() # 양 옆 공백 제거\n",
    "    value = line.split() # 띄어쓰기 단위로 나뉘어 리스트로 반환\n",
    "\n",
    "    names.append(value[0])\n",
    "    numbers.append(value[1])\n",
    "    grades.append(value[2])\n",
    "\n",
    "    line = input_file.readline() # line 다음 라인으로 업데이트\n",
    "\n",
    "with open('student_grading.txt', 'r') as students :\n",
    "  # process file 함수를 만들어서 파일 불러올 때 재사용 가능하도록\n",
    "  process_file(students)\n",
    "\n",
    "names\n",
    "numbers\n",
    "grades"
   ]
  },
  {
   "cell_type": "markdown",
   "metadata": {},
   "source": [
    "- Skipping the Header"
   ]
  },
  {
   "cell_type": "code",
   "execution_count": 25,
   "metadata": {},
   "outputs": [
    {
     "data": {
      "text/plain": [
       "['A+', 'A+', 'F']"
      ]
     },
     "execution_count": 25,
     "metadata": {},
     "output_type": "execute_result"
    }
   ],
   "source": [
    "# 저작권 표시, 파일 정보 - 관심 없는 데이터 skip\n",
    "# cursor를 데이터부분까지\n",
    "\n",
    "# 파일 확인 > header - #으로 시작\n",
    "\n",
    "def skip_header(input_file: TextIO) -> str : # return line(string)\n",
    "  line = input_file.readline()\n",
    "  while line.startswith('#') :\n",
    "    line = input_file.readline()\n",
    "  return line\n",
    "\n",
    "def process_file(input_file : TextIO) -> None :\n",
    "  # skip_header 함수\n",
    "  line = skip_header(input_file) # The first useful line after skipping header\n",
    "  while line :\n",
    "    line = line.strip() # 양 옆 공백 제거\n",
    "    value = line.split() # 띄어쓰기 단위로 나뉘어 리스트로 반환\n",
    "\n",
    "    names.append(value[0])\n",
    "    numbers.append(value[1])\n",
    "    grades.append(value[2])\n",
    "\n",
    "    line = input_file.readline() # line 다음 라인으로 업데이트\n",
    "\n",
    "names= []\n",
    "numbers= []\n",
    "grades= []\n",
    "\n",
    "with open('skip_info.txt', 'r') as input_file :\n",
    "  process_file(input_file)\n",
    "\n",
    "names\n",
    "numbers\n",
    "grades\n",
    "# #이 붙어있는 정보는 무시하고 잘 불러와짐"
   ]
  },
  {
   "cell_type": "code",
   "execution_count": 26,
   "metadata": {},
   "outputs": [
    {
     "data": {
      "text/plain": [
       "['#', '#', 'Inhoe', 'Jaewook', 'Hyungsin']"
      ]
     },
     "execution_count": 26,
     "metadata": {},
     "output_type": "execute_result"
    }
   ],
   "source": [
    "def skip_header(input_file: TextIO) -> str : # return line(string)\n",
    "  line = input_file.readline()\n",
    "  # while line.startswith('#') :\n",
    "    # line = input_file.readline()\n",
    "  return line\n",
    "\n",
    "def process_file(input_file : TextIO) -> None :\n",
    "  # skip_header 함수\n",
    "  line = skip_header(input_file) # The first useful line after skipping header\n",
    "  while line :\n",
    "    line = line.strip() # 양 옆 공백 제거\n",
    "    value = line.split() # 띄어쓰기 단위로 나뉘어 리스트로 반환\n",
    "\n",
    "    names.append(value[0])\n",
    "    numbers.append(value[1])\n",
    "    grades.append(value[2])\n",
    "\n",
    "    line = input_file.readline() # line 다음 라인으로 업데이트\n",
    "\n",
    "names= []\n",
    "numbers= []\n",
    "grades= []\n",
    "\n",
    "with open('skip_info.txt', 'r') as input_file :\n",
    "  process_file(input_file)\n",
    "\n",
    "names\n",
    "# #이 붙어있는 정보를 포함해서 불러와짐"
   ]
  },
  {
   "cell_type": "code",
   "execution_count": 27,
   "metadata": {},
   "outputs": [
    {
     "data": {
      "text/plain": [
       "['This', 'Nobody', '2021-1111', '2021-2222', '2022-9999']"
      ]
     },
     "execution_count": 27,
     "metadata": {},
     "output_type": "execute_result"
    }
   ],
   "source": [
    "numbers"
   ]
  },
  {
   "cell_type": "code",
   "execution_count": 28,
   "metadata": {},
   "outputs": [
    {
     "data": {
      "text/plain": [
       "['file', 'can', 'A+', 'A+', 'F']"
      ]
     },
     "execution_count": 28,
     "metadata": {},
     "output_type": "execute_result"
    }
   ],
   "source": [
    "grades"
   ]
  },
  {
   "cell_type": "code",
   "execution_count": 33,
   "metadata": {},
   "outputs": [
    {
     "data": {
      "text/plain": [
       "['2021-2222', '2022-9999']"
      ]
     },
     "execution_count": 33,
     "metadata": {},
     "output_type": "execute_result"
    }
   ],
   "source": [
    "# Q. cursor가 밑으로 이동해 있으니까 return을 안해줘도 괜찮지 않나?\n",
    "\n",
    "def skip_header(input_file: TextIO) : # return X\n",
    "  line = input_file.readline()\n",
    "  while line.startswith('#') :\n",
    "    line = input_file.readline()\n",
    "\n",
    "def process_file(input_file : TextIO) -> None :\n",
    "  # skip_header 함수\n",
    "  skip_header(input_file) # return없이 커서 이동(변수에 할당 x)\n",
    "  line = input_file.readline()\n",
    "  while line :\n",
    "    line = line.strip() # 양 옆 공백 제거\n",
    "    value = line.split() # 띄어쓰기 단위로 나뉘어 리스트로 반환\n",
    "\n",
    "    names.append(value[0])\n",
    "    numbers.append(value[1])\n",
    "    grades.append(value[2])\n",
    "\n",
    "    line = input_file.readline() # line 다음 라인으로 업데이트\n",
    "\n",
    "names= []\n",
    "numbers= []\n",
    "grades= []\n",
    "\n",
    "with open('skip_info.txt', 'r') as input_file :\n",
    "  process_file(input_file)\n",
    "\n",
    "names\n",
    "numbers\n",
    "grades\n",
    "# 제일 위에 있는 데이터가 무시되는 결과\n",
    "# skip_header에서 #으로 시작하지 않는 문장을 읽어서 False가 되어야 문장 종료하므로\n",
    "# cursor의 위치는 첫번째 데이터를 이미 읽은 상태"
   ]
  },
  {
   "cell_type": "markdown",
   "metadata": {},
   "source": [
    "- Handling Missing Values"
   ]
  },
  {
   "cell_type": "code",
   "execution_count": null,
   "metadata": {},
   "outputs": [],
   "source": [
    "# 오타, 결측치\n",
    "# 1) 결측치 무시\n",
    "# 2) interpolation(보간법) - 이전날+다음날의 평균, ,,\n",
    "\n",
    "# list에 append할 내용이 없음 > error\n",
    "\n",
    "# simple sol) 결측치 종류가 '-'밖에 없을 때\n",
    "\n",
    "# while line :\n",
    "#   line = line.strip()\n",
    "#   if line != '-' :\n",
    "#     value = line.split()\n"
   ]
  },
  {
   "cell_type": "code",
   "execution_count": null,
   "metadata": {},
   "outputs": [],
   "source": [
    "# Summary\n",
    "\n",
    "# File can be read, written to, and added to\n",
    "# Contents are commonly stored in list of strings\n",
    "# file from internet : line.decode('utf-8') (txt파일인 경우)\n",
    "# Three common stages for reusability : Input, processing, and output stages\n",
    "# 다양한 형태의 file 처리할 수 있는 별도의 processing function화 권장\n",
    "# txt파일의 파일 object는 TextIO 형식 - cursor정보, read, write method, ,, "
   ]
  }
 ],
 "metadata": {
  "kernelspec": {
   "display_name": "base",
   "language": "python",
   "name": "python3"
  },
  "language_info": {
   "codemirror_mode": {
    "name": "ipython",
    "version": 3
   },
   "file_extension": ".py",
   "mimetype": "text/x-python",
   "name": "python",
   "nbconvert_exporter": "python",
   "pygments_lexer": "ipython3",
   "version": "3.11.5"
  }
 },
 "nbformat": 4,
 "nbformat_minor": 2
}
