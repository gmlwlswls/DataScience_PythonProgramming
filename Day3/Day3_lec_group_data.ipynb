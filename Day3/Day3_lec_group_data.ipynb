{
 "cells": [
  {
   "cell_type": "markdown",
   "metadata": {},
   "source": [
    "## 1. Sets"
   ]
  },
  {
   "cell_type": "code",
   "execution_count": null,
   "metadata": {},
   "outputs": [],
   "source": [
    "# 집합\n",
    "# 1)  ** unordered **\n",
    "# 2) ** distinct **\n",
    "# 3) mutable : 값 추가 & 감소 가능 - 단, mutable한 데이터를 가질 수 없음 ex. list\n",
    "# function auguments 가능\n",
    "# own methods(values + methods) - 주로 집합 연산자\n",
    "# {}\n",
    "# empty set = set()\n"
   ]
  },
  {
   "cell_type": "code",
   "execution_count": null,
   "metadata": {},
   "outputs": [],
   "source": [
    "# set vs tuple vs dictionary\n",
    "\n",
    "# 1) set : unordered, distinct, mutable(but not mutable element, {1,2,3}, set())\n",
    "# 2) tuple : ordered, immutable(but mutable element possible ex. ([1,2,3], 6, 7)), (8, ), empty tuple = () - (8) : 수학식과 동일 not tuple\n",
    "# 그래서 tuple[0] = 1111은 불가능한데 tuple[0][1] = 2는 가능\n",
    "# 3) dictionary : ordered, mutable, key가 index, {'key' : 'value'}, empty dict = {}\n"
   ]
  },
  {
   "cell_type": "code",
   "execution_count": 3,
   "metadata": {},
   "outputs": [
    {
     "data": {
      "text/plain": [
       "{'a', 'e', 'i', 'o', 'u'}"
      ]
     },
     "execution_count": 3,
     "metadata": {},
     "output_type": "execute_result"
    }
   ],
   "source": [
    "vowels= {'a', 'e', 'i', 'o', 'u', 'a', 'e', 'i', 'o', 'u'}\n",
    "vowels # 순서 상관없고 랜덤하게 섞여나올 수 있음 "
   ]
  },
  {
   "cell_type": "code",
   "execution_count": 5,
   "metadata": {},
   "outputs": [
    {
     "data": {
      "text/plain": [
       "True"
      ]
     },
     "execution_count": 5,
     "metadata": {},
     "output_type": "execute_result"
    }
   ],
   "source": [
    "{'a', 'e', 'i', 'o', 'u', 'a', 'e', 'i', 'o', 'u'} == {'a', 'e', 'i', 'o', 'u'}"
   ]
  },
  {
   "cell_type": "code",
   "execution_count": 8,
   "metadata": {},
   "outputs": [
    {
     "data": {
      "text/plain": [
       "True"
      ]
     },
     "execution_count": 8,
     "metadata": {},
     "output_type": "execute_result"
    }
   ],
   "source": [
    "# empty set\n",
    "# no {}\n",
    "# yes ** set() **\n",
    "\n",
    "set([2,3,2,5,5,5]) == {2, 3, 5}\n"
   ]
  },
  {
   "cell_type": "code",
   "execution_count": 10,
   "metadata": {},
   "outputs": [
    {
     "name": "stdout",
     "output_type": "stream",
     "text": [
      "yesong\n",
      "suun\n",
      "inhoe\n",
      "yeha\n",
      "jaehyuk\n"
     ]
    }
   ],
   "source": [
    "# loop 가능한데\n",
    "# 순서는 상관없음 **\n",
    "\n",
    "students = set(['inhoe', 'yesong', 'jaehyuk', 'yeha', 'suun'])\n",
    "for student in students :\n",
    "  print(student) # 순서 랜덤"
   ]
  },
  {
   "cell_type": "markdown",
   "metadata": {},
   "source": [
    "#### 01. Set Methods"
   ]
  },
  {
   "cell_type": "code",
   "execution_count": 16,
   "metadata": {},
   "outputs": [
    {
     "data": {
      "text/plain": [
       "{0, 1, 2, 3, 4, 5}"
      ]
     },
     "execution_count": 16,
     "metadata": {},
     "output_type": "execute_result"
    }
   ],
   "source": [
    "digits = set([0,1,2,3,4,5])\n",
    "odds = set([1,3,5,7,9])\n",
    "# .add : 순서 상관없이 삽입\n",
    "# .remove : 삭제\n",
    "# .clear() : 전체 삭제\n",
    "digits.add(6)\n",
    "digits\n",
    "\n",
    "digits.remove(6)\n",
    "digits\n",
    "\n",
    "digits.clear()\n",
    "digits\n",
    "\n",
    "digits = set([0,1,2,3,4,5])\n",
    "digits\n",
    "\n",
    "# list\n",
    "# append : 끝 삽입\n",
    "# insert : 중간 삽입"
   ]
  },
  {
   "cell_type": "code",
   "execution_count": 26,
   "metadata": {},
   "outputs": [
    {
     "data": {
      "text/plain": [
       "{0, 1, 2, 3, 4, 5, 7, 9}"
      ]
     },
     "execution_count": 26,
     "metadata": {},
     "output_type": "execute_result"
    }
   ],
   "source": [
    "# .issubset(odds) == digits <= odds\n",
    "# .issuperset(odds) == digits >= odds\n",
    "\n",
    "# .difference(odds) == digits - odds\n",
    "# .intersection(odds) == digits & odds\n",
    "# .symmetric_difference(odds) == digits ^ odds # 합집합 - 교집합\n",
    "# .union(odds) == digits | odds\n",
    "\n",
    "digits.issubset(odds)\n",
    "digits.issuperset(odds)\n",
    "\n",
    "digits.difference(odds)\n",
    "digits.intersection(odds)\n",
    "digits.symmetric_difference(odds)\n",
    "digits.union(odds)\n",
    "\n",
    "digits ^ odds\n",
    "digits | odds"
   ]
  },
  {
   "cell_type": "markdown",
   "metadata": {},
   "source": [
    "#### 02. immutable content"
   ]
  },
  {
   "cell_type": "code",
   "execution_count": null,
   "metadata": {},
   "outputs": [],
   "source": [
    "# 'in' operator\n",
    "# in evaluation) set 속도 > list\n",
    "# : list는 순서대로 확인\n",
    "# : set은 한 번에 찾음 ** \n",
    "\n",
    "# 왜?\n",
    "# hashing \n",
    "# 조건) 순서 없고 중복 허용 불가\n",
    "# + 조건) all element are immutable\n",
    "# list는 mutable하므로 element가 될 수 없음(unhashable)\n",
    "\n",
    "S = set()\n",
    "L = [1,2,3]\n",
    "L[0] = 2 # mutable element\n",
    "# S.add(L) #error"
   ]
  },
  {
   "cell_type": "code",
   "execution_count": null,
   "metadata": {},
   "outputs": [],
   "source": [
    "# immutable vs hashable (그냥 참고)\n",
    "# immutable한 데이터 즉, hashable한 데이터\n",
    "\n",
    "# immutable : int, string, tuple, etc.\n",
    "# hashable : unique hash value(해시값 : object에 부여된 identifier)\n",
    "\n",
    "# python에서는 immutable > hashable\n",
    "# 예외) user-defined(custom) class : hashable(identifier)\n",
    "# : element를 바꿀 수 있음"
   ]
  },
  {
   "cell_type": "markdown",
   "metadata": {},
   "source": [
    "## 2. Tuples"
   ]
  },
  {
   "cell_type": "code",
   "execution_count": 30,
   "metadata": {},
   "outputs": [
    {
     "name": "stdout",
     "output_type": "stream",
     "text": [
      "1\n",
      "2\n",
      "3\n",
      "4\n"
     ]
    }
   ],
   "source": [
    "# ** ordered **\n",
    "# ** immutable **\n",
    "# empty tuple : ()\n",
    "# no (8) : 수학식과 동일\n",
    "# yes (8, )\n",
    "\n",
    "num = (5+3, ) # , 중요\n",
    "num\n",
    "\n",
    "# loop \n",
    "nums= (1,2,3,4)\n",
    "for num in nums :\n",
    "  print(num)\n"
   ]
  },
  {
   "cell_type": "code",
   "execution_count": 33,
   "metadata": {},
   "outputs": [
    {
     "data": {
      "text/plain": [
       "(['dad', 61], ['mom', 58], ['me', 27], ['brother', 24])"
      ]
     },
     "execution_count": 33,
     "metadata": {},
     "output_type": "execute_result"
    }
   ],
   "source": [
    "# immutable\n",
    "family= ('dad', 'mom', 'me', 'brother')\n",
    "# family[0] = 'grandfather' # error : not support item assignment\n",
    "\n",
    "# element 중 list가 가능한데\n",
    "# 이 때 list는 mutable하므로 mutate가능\n",
    "family= (['dad', 60], ['mom', 58], ['me', 27], ['brother', 24])\n",
    "# family[0] = 1111 # 원소 변경 불가능\n",
    "family[0][1] = 61 # 원소인 리스트 내부로 들어가서 변경 가능\n",
    "family"
   ]
  },
  {
   "cell_type": "markdown",
   "metadata": {},
   "source": [
    "## 3. Dictionaries"
   ]
  },
  {
   "cell_type": "code",
   "execution_count": 1,
   "metadata": {},
   "outputs": [],
   "source": [
    "# ** ordered ** - dict에 추가된 순서\n",
    "# ** mutable **\n",
    "# ** without duplicates **\n",
    "# key/value pairs - key가 index\n",
    "# {}\n",
    "# dict_empty = {}\n",
    "# dict_grades = {'inhoe' : 'A', ,,}\n",
    "# dict_grades['inhoe'] output : \"A\"\n"
   ]
  },
  {
   "cell_type": "code",
   "execution_count": 4,
   "metadata": {},
   "outputs": [
    {
     "data": {
      "text/plain": [
       "{}"
      ]
     },
     "execution_count": 4,
     "metadata": {},
     "output_type": "execute_result"
    }
   ],
   "source": [
    "# update\n",
    "dict_grades = {}\n",
    "dict_grades['inhoe'] = 'A' # adding a new key/value pair\n",
    "dict_grades['inhoe'] = 'B' # modifying an existing pair, not adding\n",
    "\n",
    "'inhoe' in dict_grades\n",
    "del dict_grades['inhoe'] # key로 찾음(not value) - fast like sets\n",
    "dict_grades # {} : 빈 dictionary\n",
    "\n",
    "\n",
    "# fast like sets\n",
    "# dict의 key는 set의 element의 특징과 마찬가지로 immutable, unduplicated > hash technique 적용 가능해서\n",
    "# 빠른 것"
   ]
  },
  {
   "cell_type": "code",
   "execution_count": 7,
   "metadata": {},
   "outputs": [
    {
     "name": "stdout",
     "output_type": "stream",
     "text": [
      "hongsik got grade A+\n",
      "yejin got grade A++\n",
      "inhoe got grade A\n"
     ]
    }
   ],
   "source": [
    "# looping over dict\n",
    "# for <<variable>> in <<dictionary>> :\n",
    "#     <<block>>\n",
    "# - The loop variable is assigned each key from the dictionary\n",
    "\n",
    "dict_grades= {'hongsik' : 'A+', 'yejin' : 'A++'}\n",
    "dict_grades['inhoe'] = 'A' # adding a new key/value pair\n",
    "\n",
    "for student in dict_grades :\n",
    "  print(student, 'got grade', dict_grades[student])"
   ]
  },
  {
   "cell_type": "markdown",
   "metadata": {},
   "source": [
    "#### 01. Methods"
   ]
  },
  {
   "cell_type": "code",
   "execution_count": 20,
   "metadata": {},
   "outputs": [
    {
     "data": {
      "text/plain": [
       "{'key': None}"
      ]
     },
     "execution_count": 20,
     "metadata": {},
     "output_type": "execute_result"
    }
   ],
   "source": [
    "# Dict\n",
    "# keys(), items(), values()\n",
    "dict_grades= {'hongsik' : 'A+', 'yejin' : 'A++'}\n",
    "dict_grades.keys() # keys as a set-like object(unique entries)\n",
    "dict_grades.items() # all key/value pairs as set-like objects(unique entries)\n",
    "dict_grades.values()\n",
    "\n",
    "# get(key, (value)), pop(key, (value)), clear()\n",
    "dict_grades.get('hongsik') # key를 넣어주면 해당하는 value 반환\n",
    "dict_grades.get('key', 'default value') # key가 있으면 해당하는 value, 없으면 default value 반환\n",
    "dict_grades.pop('hongsik') # 해당하는 key삭제, ** 관련 value 반환 **\n",
    "# ** 관련 value 반환해주지만 key pair는 dict에서 삭제됨\n",
    "dict_grades.pop('key', 'default_value') # 해당하는 key없으면 default value 반환\n",
    "dict_grades.clear() # remove all key/value pairs\n",
    "dict_grades\n",
    "\n",
    "# setdefault(key, (value))\n",
    "dict_grades.setdefault('key') # key있으면 관련 value return, k없으면 key 추가하고 None을 할당\n",
    "dict_grades.setdefault('key','default_value') # key있으면 관련 value return, k가 없으면 key를 추가하고 default_value로 할당\n",
    "dict_grades # {'key' : None}\n",
    "\n",
    "# update(dictionary)\n",
    "# dict_grades.update(dict2)\n"
   ]
  },
  {
   "cell_type": "markdown",
   "metadata": {},
   "source": [
    "#### 02. 'in' Operation"
   ]
  },
  {
   "cell_type": "code",
   "execution_count": 22,
   "metadata": {},
   "outputs": [
    {
     "data": {
      "text/plain": [
       "False"
      ]
     },
     "execution_count": 22,
     "metadata": {},
     "output_type": "execute_result"
    }
   ],
   "source": [
    "# only checks ** keys **\n",
    "\n",
    "grades = {'inhoe' : 'A', 'yesong' : 'A+', 'jaewook' : 'A', 'hyung-sin' : 'C'}\n",
    "\n",
    "'jaewook' in grades # True\n",
    "\n",
    "'A' in grades # False\n"
   ]
  },
  {
   "cell_type": "code",
   "execution_count": 31,
   "metadata": {},
   "outputs": [
    {
     "data": {
      "text/plain": [
       "{'A': ['inhoe', 'jaewook'], 'A+': 'yesong', 'C': 'hyung-sin'}"
      ]
     },
     "execution_count": 31,
     "metadata": {},
     "output_type": "execute_result"
    }
   ],
   "source": [
    "# Invert a Dictionary! \n",
    "grades = {'inhoe' : 'A', 'yesong' : 'A+', 'jaewook' : 'A', 'hyung-sin' : 'C'}\n",
    "\n",
    "grades_inv = {}\n",
    "for name, grade in grades.items() :\n",
    "  if grades_inv.get(grade, 'default_value') == 'default_value' :\n",
    "    grades_inv[grade] = name\n",
    "  else :\n",
    "    same_grade_student_lst = [grades_inv.get(grade)]\n",
    "    same_grade_student_lst.append(name)\n",
    "    grades_inv[grade] = same_grade_student_lst\n",
    "\n",
    "grades_inv"
   ]
  },
  {
   "cell_type": "code",
   "execution_count": 34,
   "metadata": {},
   "outputs": [
    {
     "data": {
      "text/plain": [
       "{'A': ['inhoe', 'jaewook'], 'A+': ['yesong'], 'C': ['hyung-sin']}"
      ]
     },
     "execution_count": 34,
     "metadata": {},
     "output_type": "execute_result"
    }
   ],
   "source": [
    "# sol)\n",
    "grades_inv = {}\n",
    "for name, grade in grades.items() :\n",
    "  if grade in grades_inv :\n",
    "    grades_inv[grade].append(name) # grades_inv[grade] : list\n",
    "  else :\n",
    "    grades_inv[grade] = [name]\n",
    "\n",
    "grades_inv"
   ]
  },
  {
   "cell_type": "markdown",
   "metadata": {},
   "source": [
    "## 4. Mutability"
   ]
  },
  {
   "cell_type": "code",
   "execution_count": 37,
   "metadata": {},
   "outputs": [
    {
     "data": {
      "text/plain": [
       "(['inhoe', 'A+'], ['yesong', 'S'])"
      ]
     },
     "execution_count": 37,
     "metadata": {},
     "output_type": "execute_result"
    }
   ],
   "source": [
    "# 01. List\n",
    "# : list 자체(container) : mutable & element : mutable\n",
    "# ex. list[5] = ['inhoe', 'A+]\n",
    "\n",
    "# 02. Tuple\n",
    "# : Tuple 자체 : immutable & element : mutable\n",
    "ex_tuple = (['inhoe', 'A+'], ['nayeon', 'S'])\n",
    "ex_tuple[0] # index(ordered)\n",
    "ex_tuple[1][0] = 'yesong' # 가능\n",
    "ex_tuple\n",
    "# it is valid operation because student[1] is still pointing at the **same** address\n",
    "# Tuple is immutable but its elements can be mutable objects\n",
    "\n",
    "# 03. Set\n",
    "# : Set 자체 : mutable & element : immutable(hashable) - int, float, str not list\n",
    "\n",
    "# 04. Dict\n",
    "# : dict 자체 : mutable & element : mutable ** key : immutable\n"
   ]
  },
  {
   "cell_type": "code",
   "execution_count": null,
   "metadata": {},
   "outputs": [],
   "source": []
  }
 ],
 "metadata": {
  "kernelspec": {
   "display_name": "base",
   "language": "python",
   "name": "python3"
  },
  "language_info": {
   "codemirror_mode": {
    "name": "ipython",
    "version": 3
   },
   "file_extension": ".py",
   "mimetype": "text/x-python",
   "name": "python",
   "nbconvert_exporter": "python",
   "pygments_lexer": "ipython3",
   "version": "3.11.5"
  }
 },
 "nbformat": 4,
 "nbformat_minor": 2
}
