{
 "cells": [
  {
   "cell_type": "code",
   "execution_count": 4,
   "metadata": {},
   "outputs": [
    {
     "data": {
      "text/plain": [
       "set()"
      ]
     },
     "execution_count": 4,
     "metadata": {},
     "output_type": "execute_result"
    }
   ],
   "source": [
    "# 1.\n",
    "\n",
    "def P1(lst : list) -> set :\n",
    "  freq_num_set = set()\n",
    "  for num in lst :\n",
    "    if lst.count(num) >= 2 :\n",
    "      freq_num_set.add(num)\n",
    "  return freq_num_set  \n",
    "    \n",
    "P1([1,2,3,1])\n",
    "P1([1,1,2,2,3,3,3])\n",
    "P1([1,2,3,4,5])"
   ]
  },
  {
   "cell_type": "code",
   "execution_count": 3,
   "metadata": {},
   "outputs": [
    {
     "data": {
      "text/plain": [
       "set()"
      ]
     },
     "execution_count": 3,
     "metadata": {},
     "output_type": "execute_result"
    }
   ],
   "source": [
    "# sol 1)\n",
    "\n",
    "def P1(lst :list) -> set :\n",
    "  seen = set()\n",
    "  duplicates= set()\n",
    "  \n",
    "  for num in lst :\n",
    "    if num not in seen : \n",
    "      seen.add(num)\n",
    "    else :\n",
    "      duplicates.add(num)\n",
    "  return duplicates\n",
    "\n",
    "P1([1,2,3,1])\n",
    "P1([1,1,2,2,3,3,3])\n",
    "P1([1,2,3,4,5])"
   ]
  },
  {
   "cell_type": "code",
   "execution_count": 6,
   "metadata": {},
   "outputs": [
    {
     "data": {
      "text/plain": [
       "'proton'"
      ]
     },
     "execution_count": 6,
     "metadata": {},
     "output_type": "execute_result"
    }
   ],
   "source": [
    "# 2. \n",
    "\n",
    "def P2(dict : dict) -> str :\n",
    "  key_list = []\n",
    "  value_list = []\n",
    "  for key, value in dict.items() :\n",
    "    key_list.append(key)\n",
    "    value_list.append(value)\n",
    "  max_value= max(value_list)\n",
    "  max_value_idx = value_list.index(max_value)\n",
    "  max_key = key_list[max_value_idx]\n",
    "  return max_key\n",
    "\n",
    "P2({'neutron' : 0.55, 'proton' : 0.21, 'meson' : 0.03, 'muon' : 0.07, 'neutrino' : 0.14})\n",
    "P2({'neutron' : 0.11, 'proton' : 0.21, 'meson' : 0.05, 'muon' : 0.09, 'neutrino' : 0.12})\n"
   ]
  },
  {
   "cell_type": "code",
   "execution_count": 5,
   "metadata": {},
   "outputs": [
    {
     "data": {
      "text/plain": [
       "'proton'"
      ]
     },
     "execution_count": 5,
     "metadata": {},
     "output_type": "execute_result"
    }
   ],
   "source": [
    "# sol 2)\n",
    "\n",
    "def P2(dct) :\n",
    "  max_prob = -1\n",
    "  max_atom= ''\n",
    "  \n",
    "  for atom, prob in dct.items() :\n",
    "    if prob > max_prob :\n",
    "      max_prob = prob\n",
    "      max_atom = atom\n",
    "  return max_atom\n",
    "\n",
    "P2({'neutron' : 0.55, 'proton' : 0.21, 'meson' : 0.03, 'muon' : 0.07, 'neutrino' : 0.14})\n",
    "P2({'neutron' : 0.11, 'proton' : 0.21, 'meson' : 0.05, 'muon' : 0.09, 'neutrino' : 0.12})\n"
   ]
  },
  {
   "cell_type": "code",
   "execution_count": 37,
   "metadata": {},
   "outputs": [
    {
     "data": {
      "text/plain": [
       "1"
      ]
     },
     "execution_count": 37,
     "metadata": {},
     "output_type": "execute_result"
    }
   ],
   "source": [
    "# 3. \n",
    "# 문제 있는 풀이\n",
    "\n",
    "def P3(dct) :\n",
    "  ref_key = list(dct.keys())[0]\n",
    "  ref_inner_keys = set(dct[ref_key].keys()) # set으로 주는 이유 : == 연산자 시 순서 고려안해도 됨(list는 == 에 순서도 반영)\n",
    "  \n",
    "  for inner_dict in dct.values() : # dct.values 활용!!\n",
    "    inner_dict_keys = set(inner_dict.keys())\n",
    "    if inner_dict_keys == ref_inner_keys :\n",
    "      return 1 # 이렇게 하면 return문이 너무 빨리 실행돼서 첫번째 반복만 실행됨\n",
    "               # 조건문이 바로 충족되므로 첫번째 반복에서 종료\n",
    "    else :\n",
    "      return 0\n",
    "\n",
    "P3({'a' : {'aa' : 123, 'ab' : [1,2]}, 'b' : {'aa' : 'bb', 'ab' : 'cc'}})\n",
    "P3({'A' : {1 : 'a', 2: 'b'}, 'B' : {2 : 'c', 3: 'd'}})\n",
    "    "
   ]
  },
  {
   "cell_type": "code",
   "execution_count": 39,
   "metadata": {},
   "outputs": [
    {
     "data": {
      "text/plain": [
       "1"
      ]
     },
     "execution_count": 39,
     "metadata": {},
     "output_type": "execute_result"
    }
   ],
   "source": [
    "# 문제 있는 풀이 2\n",
    "\n",
    "def P3(dct) :\n",
    "  ref_key = list(dct.keys())[0]\n",
    "  ref_inner_keys = set(dct[ref_key].keys())\n",
    "  \n",
    "  for inner_dict in dct.values() : # dct.values 활용!!\n",
    "    inner_dict_keys = set(inner_dict.keys())\n",
    "    if inner_dict_keys != ref_inner_keys : # 둘 중에 하나\n",
    "      return 0 \n",
    "    else :\n",
    "      return 1 # 이것 역시 바로 else문에서 종료됨 - for문 다 돌도록 수정\n",
    "              # (무조건 둘중에 하나 return되는거라 for문 1개만 돎돎)\n",
    "\n",
    "P3({'a' : {'aa' : 123, 'ab' : [1,2]}, 'b' : {'aa' : 'bb', 'ab' : 'cc'}})\n",
    "P3({'A' : {1 : 'a', 2: 'b'}, 'B' : {2 : 'c', 3: 'd'}})"
   ]
  },
  {
   "cell_type": "code",
   "execution_count": 40,
   "metadata": {},
   "outputs": [
    {
     "data": {
      "text/plain": [
       "0"
      ]
     },
     "execution_count": 40,
     "metadata": {},
     "output_type": "execute_result"
    }
   ],
   "source": [
    "# sol 3)\n",
    "\n",
    "def P3(dct) :\n",
    "  ref_key_set = set(list(dct.values())[0].keys())\n",
    "  \n",
    "  for inner_dict in dct.values() : # dct.values() 활용\n",
    "    if set(inner_dict.keys()) != ref_key_set :\n",
    "      return 0\n",
    "  return 1 # for문 다 돌았는데도 return이 안되었을때 실행\n",
    "\n",
    "\n",
    "P3({'a' : {'aa' : 123, 'ab' : [1,2]}, 'b' : {'aa' : 'bb', 'ab' : 'cc'}})\n",
    "P3({'A' : {1 : 'a', 2: 'b'}, 'B' : {2 : 'c', 3: 'd'}})"
   ]
  },
  {
   "cell_type": "code",
   "execution_count": 10,
   "metadata": {},
   "outputs": [
    {
     "data": {
      "text/plain": [
       "dict_keys(['aa', 'ab'])"
      ]
     },
     "execution_count": 10,
     "metadata": {},
     "output_type": "execute_result"
    }
   ],
   "source": [
    "dct= {'a' : {'aa' : 123, 'ab' : [1,2]}, 'b' : {'aa' : 'bb', 'ab' : 'cc'}}\n",
    "list(dct.values())[0].keys()"
   ]
  },
  {
   "cell_type": "code",
   "execution_count": null,
   "metadata": {},
   "outputs": [],
   "source": [
    "###### \n",
    "# * for문에 돌 때 return 주의 - return되면 바로 종료되는 것!!"
   ]
  },
  {
   "cell_type": "code",
   "execution_count": 38,
   "metadata": {},
   "outputs": [
    {
     "data": {
      "text/plain": [
       "['DecafeCaffeLatte 4.38 3.82',\n",
       " 'CafeLatte 4.11 4.56 5.00',\n",
       " 'Americano 3.66 4.11 4.56',\n",
       " 'CafeMocha 4.55 5.00 5.45']"
      ]
     },
     "execution_count": 38,
     "metadata": {},
     "output_type": "execute_result"
    }
   ],
   "source": [
    "# 4. \n",
    "\n",
    "from typing import TextIO\n",
    "# 1) \n",
    "def menu(file_path : TextIO) -> list :\n",
    "  with open(file= file_path, mode= 'r') as file :\n",
    "    lines = file.readlines()\n",
    "    lst_of_lsts = []\n",
    "    for line in lines :\n",
    "      line= line.strip() # 양 옆 공백 제거\n",
    "      line= line.strip('\\n')\n",
    "      line= line.split(sep= ' ')\n",
    "      lst_of_lsts.append(line)\n",
    "  return lst_of_lsts\n",
    "\n",
    "menu('menu.txt')\n",
    "\n",
    "# 2)\n",
    "def reverse_menu(file_path : TextIO) -> list :\n",
    "  with open(file= file_path, mode= 'r') as file :\n",
    "    lines = file.readlines()\n",
    "    lines_list = []\n",
    "    for line in lines :\n",
    "      line= line.strip()\n",
    "      line= line.strip('\\n')\n",
    "      lines_list.append(line)\n",
    "      lines_list.reverse() # list에 바로 반영\n",
    "  return lines_list\n",
    "\n",
    "# reverse : list 함수\n",
    "# reversed : 파이썬 내장 함수\n",
    "\n",
    "reverse_menu('menu.txt')"
   ]
  },
  {
   "cell_type": "code",
   "execution_count": 25,
   "metadata": {},
   "outputs": [
    {
     "data": {
      "text/plain": [
       "['DecafeCaffeLatte 4.38 3.82',\n",
       " 'CafeMocha 4.55 5.00 5.45',\n",
       " 'CafeLatte 4.11 4.56 5.00',\n",
       " 'Americano 3.66 4.11 4.56']"
      ]
     },
     "execution_count": 25,
     "metadata": {},
     "output_type": "execute_result"
    }
   ],
   "source": [
    "# sol 4)\n",
    "\n",
    "# 4-1) \n",
    "from typing import TextIO\n",
    "\n",
    "def menu(file_name : TextIO) :\n",
    "  with open(file_name, 'r') as txt_file :\n",
    "    line_lst = []\n",
    "    line = txt_file.readline()\n",
    "    while line :\n",
    "      # line = line.strip() # 불필요 - split으로 whitespace(\\n) 제거\n",
    "      line= line.split(' ')\n",
    "      # line= line.split() # split line by whitespaces(에 해당하는 space, \\n, \\t 다 포함됨)\n",
    "      line_lst.append(line)\n",
    "      line = txt_file.readline()\n",
    "  return line_lst\n",
    "\n",
    "menu('menu.txt')\n",
    "\n",
    "# 4-2)\n",
    "\n",
    "def reverse_menu(file_name : TextIO) :\n",
    "  reverse_menu_lst= []\n",
    "  with open(file_name, 'r') as txt_file :\n",
    "    line= txt_file.readline()\n",
    "    \n",
    "    while line :\n",
    "      line= line.strip() # 양 옆 공백 삭제(space, \\n) 등\n",
    "      reverse_menu_lst.insert(0, line)\n",
    "      line= txt_file.readline()\n",
    "  return reverse_menu_lst\n",
    "\n",
    "reverse_menu('menu.txt')\n",
    "      "
   ]
  },
  {
   "cell_type": "code",
   "execution_count": 60,
   "metadata": {},
   "outputs": [],
   "source": [
    "# 5. \n",
    "\n",
    "def read_csv(csv_file : TextIO) -> dict :\n",
    "  contacts_dict= {}\n",
    "  name_list= []\n",
    "  age_list= []\n",
    "  email_list= []\n",
    "  with open(csv_file, 'r') as input_file :\n",
    "    first_line= input_file.readline()\n",
    "    first_line = first_line.strip()\n",
    "    key_list = first_line.split(',')\n",
    "    \n",
    "    contents_line= input_file.readlines() # 둘째줄로 커서 이동\n",
    "    for line in contents_line :\n",
    "      line= line.strip()\n",
    "      value_list = line.split(',')\n",
    "      name_list.append(value_list[0])\n",
    "      age_list.append(value_list[1])\n",
    "      email_list.append(value_list[2])\n",
    "    \n",
    "    total_list= [name_list, age_list, email_list]\n",
    "    \n",
    "    for i, key in enumerate(key_list) :\n",
    "      contacts_dict[key] = total_list[i]    \n",
    "  return contacts_dict\n",
    "\n"
   ]
  },
  {
   "cell_type": "code",
   "execution_count": 61,
   "metadata": {},
   "outputs": [
    {
     "data": {
      "text/plain": [
       "{'Name': ['Alice', 'Bob', 'Charlie', 'Dana', 'Eve'],\n",
       " 'Age': ['30', '25', '35', '28', '22'],\n",
       " 'Email': ['alice@example.com',\n",
       "  'bob@example.com',\n",
       "  'charlie@example.com',\n",
       "  'dana@example.com',\n",
       "  'eve@example.com']}"
      ]
     },
     "execution_count": 61,
     "metadata": {},
     "output_type": "execute_result"
    }
   ],
   "source": [
    "read_csv('contacts.csv')"
   ]
  },
  {
   "cell_type": "code",
   "execution_count": 30,
   "metadata": {},
   "outputs": [
    {
     "data": {
      "text/plain": [
       "{'Name': ['Alice', 'Bob', 'Charlie', 'Dana', 'Eve'],\n",
       " 'Age': ['30', '25', '35', '28', '22'],\n",
       " 'Email': ['alice@example.com',\n",
       "  'bob@example.com',\n",
       "  'charlie@example.com',\n",
       "  'dana@example.com',\n",
       "  'eve@example.com']}"
      ]
     },
     "execution_count": 30,
     "metadata": {},
     "output_type": "execute_result"
    }
   ],
   "source": [
    "# sol 5)\n",
    "\n",
    "def read_csv(file_name : TextIO) -> dict :\n",
    "  csv_dict= dict() # csv_dict 변수 초기화\n",
    "  \n",
    "  with open(file_name, 'r') as csv_file :\n",
    "    line= csv_file.readline() \n",
    "    header= line.strip().split(',') # 공백이 아닌 ','로 구분, strip()이 없으면 마지막 data에 \\n이 포함됨\n",
    "    csv_dict = {col : [] for col in header}\n",
    "    \n",
    "    line= csv_file.readline()\n",
    "    while line :\n",
    "      content_lst = line.strip().split(',')\n",
    "      for i in range(len(header)) :\n",
    "        csv_dict[header[i]].append(content_lst[i])\n",
    "      line= csv_file.readline()\n",
    "  return csv_dict\n",
    "\n",
    "read_csv('contacts.csv')    \n",
    "      "
   ]
  },
  {
   "cell_type": "code",
   "execution_count": null,
   "metadata": {},
   "outputs": [],
   "source": []
  }
 ],
 "metadata": {
  "kernelspec": {
   "display_name": "base",
   "language": "python",
   "name": "python3"
  },
  "language_info": {
   "codemirror_mode": {
    "name": "ipython",
    "version": 3
   },
   "file_extension": ".py",
   "mimetype": "text/x-python",
   "name": "python",
   "nbconvert_exporter": "python",
   "pygments_lexer": "ipython3",
   "version": "3.11.5"
  }
 },
 "nbformat": 4,
 "nbformat_minor": 2
}
