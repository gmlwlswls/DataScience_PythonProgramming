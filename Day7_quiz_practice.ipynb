{
 "cells": [
  {
   "cell_type": "code",
   "execution_count": null,
   "metadata": {},
   "outputs": [],
   "source": [
    "# quiz\n",
    "# append() using self.tail\n",
    "\n",
    "class Node :\n",
    "  def __init__(self, x):\n",
    "    self.value = x\n",
    "    self.next = None\n",
    "\n",
    "class SLList :\n",
    "  def __init__(self):\n",
    "    self.sentinel = Node(0)\n",
    "    self.tail = self.sentinel\n",
    "\n",
    "  def append(self, x) :\n",
    "    append_node = Node(x)\n",
    "    self.tail.next = append_node # self.tail = (x1, (x2, None)) > (x2, (x3, None)\n",
    "    self.tail = append_node # self.tail = (x2, None) > (x3, None)\n",
    "    # 화살표 : x1 > (x2, None) > (x3, None) > ,,\n",
    "    # self.tail에 마지막으로 append한 node가 저장되어 있음"
   ]
  },
  {
   "cell_type": "code",
   "execution_count": null,
   "metadata": {},
   "outputs": [],
   "source": []
  }
 ],
 "metadata": {
  "kernelspec": {
   "display_name": "base",
   "language": "python",
   "name": "python3"
  },
  "language_info": {
   "name": "python",
   "version": "3.11.5"
  }
 },
 "nbformat": 4,
 "nbformat_minor": 2
}
