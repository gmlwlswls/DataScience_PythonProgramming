{
 "cells": [
  {
   "cell_type": "markdown",
   "metadata": {},
   "source": [
    "## Testing and Debugging"
   ]
  },
  {
   "cell_type": "code",
   "execution_count": 1,
   "metadata": {},
   "outputs": [],
   "source": [
    "# Quality Assuarance(QA)\n",
    "\n",
    "# - QA check that software is working correctly\n",
    "# - Before finializing and releasing your code, you need to write another program for test your code\n",
    "# - if you don't do QA and find bugs later, you will waste 10x or 100x more time\n",
    "\n",
    "# - Test program should be ** reusable **  so that anyone using your code can test it\n"
   ]
  },
  {
   "cell_type": "markdown",
   "metadata": {},
   "source": [
    "- Example - Testing above_freezing"
   ]
  },
  {
   "cell_type": "code",
   "execution_count": 3,
   "metadata": {},
   "outputs": [],
   "source": [
    "# We wamt to make a funciton that determines \n",
    "# if an input temperature(celsius) is above freezing point or not\n",
    "\n",
    "def above_freezing(celsius: float) : # -> Bool\n",
    "  return celsius >= 0\n",
    "\n",
    "# But now, we focus more on test cases for the function than implementation.\n",
    "\n",
    "# There are numerous values we can test... What are reasonable test cases?\n",
    "# 1) above freezing point : above_freezing(5.2) > True\n",
    "# 2) below freezing point : above_freezing(-2) > False\n",
    "\n",
    "  \n",
    "# Are they sufficient?\n",
    "# - 녹는점 자체\n",
    "\n",
    "def above_freezing_v1(celsius: float) : \n",
    "  return celsius > 0\n",
    "\n",
    "def above_freezing_v2(celsius: float) :\n",
    "  return celsius >= 0\n",
    "\n",
    "# Can we distinguish which is correct by using previous test cases?\n",
    "# 3) freezing poing : above_freezing(0)\n",
    "# - it is a ** boundary case ** \n",
    "\n",
    "# 나중에 인공지능, 딥러닝을 해도 어떤 경우 사람, 개 고양이\n",
    "# 알고리즘 학습할때 정확성 높이려면 구분이 어려운 것을 가지고 학습\n",
    "# boundary를 계속 학습시킴\n",
    "\n",
    "# Overall, above_freezing requires at least three test cases"
   ]
  },
  {
   "cell_type": "markdown",
   "metadata": {},
   "source": [
    "- Example - Testing running_sum"
   ]
  },
  {
   "cell_type": "code",
   "execution_count": 9,
   "metadata": {},
   "outputs": [
    {
     "name": "stdout",
     "output_type": "stream",
     "text": [
      "[]\n",
      "[10]\n",
      "[7, 12]\n",
      "[-5, -10, -13, -17]\n",
      "[0, 0, 0, 0]\n"
     ]
    }
   ],
   "source": [
    "# We want to make a function that modifies a list so that it contains a running sum of the values in it\n",
    "\n",
    "def running_sum(L: list) : # -> None\n",
    "  for i in range(len(L)) :\n",
    "    L[i] = L[i-1] + L[i]\n",
    "\n",
    "# Now instead of a return value, we need to look into the input list after the function runs\n",
    "# return value가 없으므로\n",
    "\n",
    "# Test cases\n",
    "# - Do you see any failure? Why?\n",
    "\n",
    "# 1. Empty list = []\n",
    "# - input의 size를 고려해야 함\n",
    "empty_list = []\n",
    "running_sum(empty_list)\n",
    "print(empty_list) # [] : unchanged\n",
    "\n",
    "# 2. One-item list\n",
    "# - sum은 2개부터 동작하므로 아무 일도 안일어아나야 함\n",
    "one_item_list = [5]\n",
    "running_sum(one_item_list)\n",
    "print(one_item_list) # [5]여야 하는데 [10] > 확인 필요\n",
    "\n",
    "# 3. Two-item list\n",
    "two_item_list = [2,5]\n",
    "running_sum(two_item_list)\n",
    "print(two_item_list) # expect : [2,7] real : [7, 12]\n",
    "\n",
    "# 4. Multiple items, all negative\n",
    "multiple_negative_list = [-1, -5, -3, -4]\n",
    "running_sum(multiple_negative_list)\n",
    "print(multiple_negative_list) # expect : [-1, -6, -9, -13]\n",
    "\n",
    "# 5. Multiple items, all zero\n",
    "multiple_zero_list = [0, 0, 0, 0]\n",
    "running_sum(multiple_zero_list)\n",
    "print(multiple_zero_list) # expect : [0,0,0,0]\n",
    "\n",
    "# 6. Multiple items, all positive\n",
    "multiple_positive_list = [4,2,3,6]\n",
    "running_sum(multiple_positive_list)\n",
    "print(multiple_positive_list) # expect : [4,6,9,15]\n",
    "\n",
    "# 7. Multiple items, mixed\n",
    "multiple_mix_list = [4, 0, 2, -5, 0]\n",
    "running_sum(multiple_mix_list) \n",
    "multiple_mix_list # expect : [4, 4, 6, 1, 1]\n"
   ]
  },
  {
   "cell_type": "code",
   "execution_count": 12,
   "metadata": {},
   "outputs": [
    {
     "name": "stdout",
     "output_type": "stream",
     "text": [
      "[]\n",
      "[5]\n",
      "[2, 7]\n",
      "[-1, -6, -9, -13]\n",
      "[0, 0, 0, 0]\n",
      "[4, 6, 9, 15]\n",
      "[4, 4, 6, 1, 1]\n"
     ]
    }
   ],
   "source": [
    "\n",
    "# Correct implementation\n",
    "def running_sum(L:list) :\n",
    "  for i in range(1, len(L)) :\n",
    "    L[i] = L[i-1] + L[i]\n",
    "\n",
    "\n",
    "# Test cases\n",
    "# - Do you see any failure? Why?\n",
    "\n",
    "# 1. Empty list = []\n",
    "# - input의 size를 고려해야 함\n",
    "empty_list = []\n",
    "running_sum(empty_list)\n",
    "print(empty_list) # [] : unchanged\n",
    "\n",
    "# 2. One-item list\n",
    "# - sum은 2개부터 동작하므로 아무 일도 안일어아나야 함\n",
    "one_item_list = [5]\n",
    "running_sum(one_item_list)\n",
    "print(one_item_list) # [5]\n",
    "\n",
    "# 3. Two-item list\n",
    "two_item_list = [2,5]\n",
    "running_sum(two_item_list)\n",
    "print(two_item_list) # expect : [2,7] \n",
    "\n",
    "# 4. Multiple items, all negative\n",
    "multiple_negative_list = [-1, -5, -3, -4]\n",
    "running_sum(multiple_negative_list)\n",
    "print(multiple_negative_list) # expect : [-1, -6, -9, -13]\n",
    "\n",
    "# 5. Multiple items, all zero\n",
    "multiple_zero_list = [0, 0, 0, 0]\n",
    "running_sum(multiple_zero_list)\n",
    "print(multiple_zero_list) # expect : [0,0,0,0]\n",
    "\n",
    "# 6. Multiple items, all positive\n",
    "multiple_positive_list = [4,2,3,6]\n",
    "running_sum(multiple_positive_list)\n",
    "print(multiple_positive_list) # expect : [4,6,9,15]\n",
    "\n",
    "# 7. Multiple items, mixed\n",
    "multiple_mix_list = [4, 0, 2, -5, 0]\n",
    "running_sum(multiple_mix_list) \n",
    "print(multiple_mix_list) # expect : [4, 4, 6, 1, 1]"
   ]
  },
  {
   "cell_type": "markdown",
   "metadata": {},
   "source": [
    "### How to Choose Test cases?"
   ]
  },
  {
   "cell_type": "code",
   "execution_count": 13,
   "metadata": {},
   "outputs": [],
   "source": [
    "# How to Choose Test cases?\n",
    "# Your test cases need to have good converage\n",
    "\n",
    "# 1. Size\n",
    "# Empty collection, the smallest case(동작할 수 있는 가장 작은 case), one item, general cases with several items\n",
    "\n",
    "# 2. Dichotomies(나뉘는 부분) ex. above freezing\n",
    "# If a func deals with two or more different categories, make sure you test all of them\n",
    "# condition이 있다면 크고, 작고 모든 조건을을 전부 test\n",
    "\n",
    "# 3. Boundaries\n",
    "# 경계점 포함\n",
    "\n",
    "# 4. Order\n",
    "# ordered 하다면 달라지는게 있는지 test, 같은 value인데 순서에 따라 달라지는지\n"
   ]
  },
  {
   "cell_type": "markdown",
   "metadata": {},
   "source": [
    "### Guidelines for Bug Hunting"
   ]
  },
  {
   "cell_type": "code",
   "execution_count": null,
   "metadata": {},
   "outputs": [],
   "source": [
    "# Make sure you know what the program is supposed to do\n",
    "# - 풀고자 하는 문제를 정확히 이해\n",
    "# - Manual calculation(손으로 풀이), reading documents(다른 사람의 프로그램인 경우), writing a test(test 작성)\n",
    "\n",
    "# Repeat the failure(reproducible error)\n",
    "# Find a test case that makes the program fail reliably\n",
    "# 반복적으로 발생해야 일관성있는 해결이 가능\n",
    "# -> test case를 잘 작성\n",
    "\n",
    "# Divide and conquer\n",
    "# Try to find the first moment where something goes wrong by examining input/output of a block of code\n",
    "# -> 어디에서 error 발생하는지 발견하여 수정\n",
    "#    print()를 찍어보며 내가 원하는 output이 안나오는 ** 가장 처음 부분 ** 을 발견\n",
    "\n",
    "# Change ** one thing ** at a time for a reason and check!\n",
    "# 하나를 고친 후 test case를 거쳐 다음을 차근히 발견해 나가야 함\n",
    "\n",
    "# Keep records\n",
    "# You cannot remember the results of the tests you've run\n"
   ]
  },
  {
   "cell_type": "code",
   "execution_count": null,
   "metadata": {},
   "outputs": [],
   "source": [
    "# Summary\n",
    "\n",
    "# Quality assurance(QA)\n",
    "\n",
    "# Test case generation\n",
    "\n",
    "# Bug hunting : 체계적으로"
   ]
  }
 ],
 "metadata": {
  "kernelspec": {
   "display_name": "base",
   "language": "python",
   "name": "python3"
  },
  "language_info": {
   "codemirror_mode": {
    "name": "ipython",
    "version": 3
   },
   "file_extension": ".py",
   "mimetype": "text/x-python",
   "name": "python",
   "nbconvert_exporter": "python",
   "pygments_lexer": "ipython3",
   "version": "3.11.5"
  }
 },
 "nbformat": 4,
 "nbformat_minor": 2
}
