{
 "cells": [
  {
   "cell_type": "markdown",
   "metadata": {},
   "source": [
    "### Algorithm Design"
   ]
  },
  {
   "cell_type": "code",
   "execution_count": null,
   "metadata": {},
   "outputs": [],
   "source": [
    "# Top-down Design Thinking\n",
    "\n",
    "# Recall function design guideline(Module 2-1-4)\n",
    "# Understand the given problem\n",
    "# Think about various ways of solving the problem\n",
    "# Describe your solution(recipe) logically in ** human language **\n",
    "# Divide the solution into logival steps\n",
    "# Translate each logical step into computer language"
   ]
  },
  {
   "cell_type": "code",
   "execution_count": null,
   "metadata": {},
   "outputs": [],
   "source": [
    "# Technical Interview Process\n",
    "\n",
    "# Interviewer\n",
    "# - Describe the problem and shows a few examples\n",
    "# - Answer interviewee's questions kindly\n",
    "# - Give feedback to interviewee's solution(optimal or not?) so that they can end up the best solution\n",
    "\n",
    "# Interviewee\n",
    "# - Make sure they understand the problem correctly\n",
    "# - Think what data structure and algorithm to use to solve the problem\n",
    "# - Solve the problem and ** think out loud ** so that interviewer can see their thought process\n",
    "# - Discuss memory overhead and time complexity of the solution\n",
    "# - Verify if the solution works well by using some test cases\n"
   ]
  },
  {
   "cell_type": "code",
   "execution_count": null,
   "metadata": {},
   "outputs": [],
   "source": [
    "# What Companies Want\n",
    "# - Engineers who know what they do and describe it fluently\n",
    "# - \"I analyzed the problem, planned what data structures and algorithms to use, analyzed time complextity and memory overhead.\n",
    "#   varified if it works through some representative test cases. \n",
    "#   Moreover, I can describe why I chose these data structures and algorithms.\"\n"
   ]
  },
  {
   "cell_type": "code",
   "execution_count": null,
   "metadata": {},
   "outputs": [],
   "source": [
    "# Where we are\n",
    "# we just learnt basic data structures and algorithms\n",
    "# Of course, these are not the end, there are separate courses, data structures and algorithms,\n",
    "# offered by DS, CS, and ECE\n",
    "# knoing more of them enables you to solve more problem more efficiently\n"
   ]
  },
  {
   "cell_type": "code",
   "execution_count": null,
   "metadata": {},
   "outputs": [],
   "source": [
    "# https://leetcode.com/"
   ]
  },
  {
   "cell_type": "markdown",
   "metadata": {},
   "source": [
    "- Example - Two Sum"
   ]
  },
  {
   "cell_type": "code",
   "execution_count": null,
   "metadata": {},
   "outputs": [
    {
     "name": "stdout",
     "output_type": "stream",
     "text": [
      "[0, 1]\n",
      "[1, 2]\n",
      "[0, 1]\n",
      "[1, 2]\n"
     ]
    }
   ],
   "source": [
    "# https://leetcode.com/problems/two-sum/\n",
    "# : target 숫자를 주면 리스트에서 뽑아낸 2개의 숫자의 합이어야 함\n",
    "# : 그 idx 2개를 return\n",
    "# : 단, 리스트 내에서 2개만 존재\n",
    "\n",
    "# case case)\n",
    "# Given nums = [2,7,11,15], target = 9\n",
    "# return : 0, 1\n",
    "\n",
    "\n",
    "def two_sum(lst: list, target: int) :\n",
    "  for i in range(len(lst)) :\n",
    "    for j in range(1, len(lst)) : # 자기 자신과의 결과 제외\n",
    "      if lst[i] + lst[j] == target :\n",
    "        return [i, j]\n",
    "\n",
    "print(two_sum([2,7,11,15], 9))\n",
    "print(two_sum([3,2,4], 6))\n",
    "print(two_sum([3,3], 6))\n",
    "\n",
    "class Solution() :\n",
    "  def __init__(self):\n",
    "    pass\n",
    "  \n",
    "  def twoSum(self, nums: list, target: int) :\n",
    "    for i in range(len(nums)) :\n",
    "      for j in range(1, len(nums)) :\n",
    "        if nums[i] + nums[j] == target :\n",
    "          return [i, j]\n",
    "\n",
    "solution = Solution()\n",
    "print(solution.twoSum([3,2,4], 6))\n",
    "        "
   ]
  },
  {
   "cell_type": "code",
   "execution_count": null,
   "metadata": {},
   "outputs": [],
   "source": [
    "# sol\n",
    "import random\n",
    "L = list(range(20000))\n",
    "random.shuffle(L)"
   ]
  },
  {
   "cell_type": "code",
   "execution_count": null,
   "metadata": {},
   "outputs": [],
   "source": [
    "def two_sum(nums: list, target: int) -> list :\n",
    "  for i in range(len(nums)) :\n",
    "    for j in range(len(nums)) :\n",
    "      if nums[i] + nums[j] == target :\n",
    "        return [i,j]\n",
    "      \n",
    "# for루프가 0부터 돌 필요가 없음 - i+1만 돌면 됨\n",
    "# time complexity : O(N**2) - for loop 2개\n",
    "# memory complexity : X"
   ]
  },
  {
   "cell_type": "code",
   "execution_count": null,
   "metadata": {},
   "outputs": [
    {
     "name": "stdout",
     "output_type": "stream",
     "text": [
      "[353, 12106]\n",
      "1.7245176000287756\n"
     ]
    }
   ],
   "source": [
    "import time\n",
    "t_start = time.perf_counter()\n",
    "print(two_sum(L, 1)) # 하나의 set만 나옴\n",
    "t_end = time.perf_counter()\n",
    "print(t_end - t_start)"
   ]
  },
  {
   "cell_type": "code",
   "execution_count": null,
   "metadata": {},
   "outputs": [],
   "source": [
    "def two_sumV2(nums: list, target: int) :\n",
    "  for i in range(len(nums)) :\n",
    "    for j in range(i+1, len(nums)) :\n",
    "      if nums[i] + nums[j] == target :\n",
    "        return [i,j]"
   ]
  },
  {
   "cell_type": "code",
   "execution_count": null,
   "metadata": {},
   "outputs": [
    {
     "name": "stdout",
     "output_type": "stream",
     "text": [
      "[353, 12106]\n",
      "1.1540508000180125\n"
     ]
    }
   ],
   "source": [
    "import time\n",
    "t_start = time.perf_counter()\n",
    "print(two_sumV2(L, 1)) # 하나의 set만 나옴\n",
    "t_end = time.perf_counter()\n",
    "print(t_end - t_start)\n",
    "\n",
    "# time complexity : 여전히 O(N**2)/2 - for loop 2개"
   ]
  },
  {
   "cell_type": "code",
   "execution_count": null,
   "metadata": {},
   "outputs": [],
   "source": [
    "def two_sumV3(nums: list, target: int) :\n",
    "  my_dict = {}\n",
    "  for i in range(len(nums)) :\n",
    "    my_dict[nums[i]] = i # 값이 key, ** idx가 value ** \n",
    "    # dict를 활용해서 idx를 이용해서 값을 찾는 것이 아니라\n",
    "    # 값을 활용해서 idx를 찾는 방법\n",
    "  for i in range(len(nums)) : # 바깥에서 for문 추가하므로 time complexity가 증가하지 않음\n",
    "    complement = target - nums[i] # complement를 찾음\n",
    "    if complement in my_dict : # in my_dict : key에서 찾음\n",
    "      return [i, my_dict[complement]]\n",
    "    \n",
    "# time complexity - 2N\n",
    "# space complexity - N\n",
    "    "
   ]
  },
  {
   "cell_type": "code",
   "execution_count": null,
   "metadata": {},
   "outputs": [],
   "source": [
    "# practice\n",
    "\n",
    "def two_sum(nums: list, target: int) :\n",
    "  my_dict = {}\n",
    "  for i in range(len(nums)) :\n",
    "    my_dict[nums[i]] = i\n",
    "  for i in range(len(nums)) :\n",
    "    complement = target - nums[i] # for문 한 개 > 값이 하나만 주어짐\n",
    "    if complement in my_dict :\n",
    "      return [i, my_dict[complement]]\n"
   ]
  },
  {
   "cell_type": "code",
   "execution_count": null,
   "metadata": {},
   "outputs": [
    {
     "name": "stdout",
     "output_type": "stream",
     "text": [
      "[353, 12106]\n",
      "0.017168199992738664\n"
     ]
    }
   ],
   "source": [
    "import time\n",
    "t_start = time.perf_counter()\n",
    "print(two_sumV3(L, 1)) # 하나의 set만 나옴\n",
    "t_end = time.perf_counter()\n",
    "print(t_end - t_start)\n",
    "\n",
    "# 2N(for loop 두 개), O(N) : 엄청나게 시간이 줄어듦"
   ]
  },
  {
   "cell_type": "code",
   "execution_count": null,
   "metadata": {},
   "outputs": [],
   "source": [
    "# dict 만드는 것과 찾는 것 동시에\n",
    "\n",
    "def two_sumV4(nums: list, target: int) :\n",
    "  my_dict= {}\n",
    "  for i in range(len(nums)) :\n",
    "    if nums[i] in my_dict : # complement 값(4)이 등장\n",
    "      return [my_dict[nums[i]], i] # 저장해놓은 값(2)와 현재 complement(4)\n",
    "    complement= target - nums[i] # 기존 값(2)와의 complement(4)를 dict에 저장장\n",
    "    my_dict[complement] = i # 예전에 저장햇던 idx(2에 해당하는)"
   ]
  },
  {
   "cell_type": "code",
   "execution_count": null,
   "metadata": {},
   "outputs": [
    {
     "name": "stdout",
     "output_type": "stream",
     "text": [
      "[353, 12106]\n",
      "0.013943099998869002\n"
     ]
    }
   ],
   "source": [
    "import time\n",
    "t_start = time.perf_counter()\n",
    "print(two_sumV4(L, 1)) # 하나의 set만 나옴\n",
    "t_end = time.perf_counter()\n",
    "print(t_end - t_start)\n",
    "\n",
    "# 조금 더 빨라짐"
   ]
  },
  {
   "cell_type": "code",
   "execution_count": null,
   "metadata": {},
   "outputs": [],
   "source": [
    "# What if the list is sorted?"
   ]
  },
  {
   "cell_type": "code",
   "execution_count": null,
   "metadata": {},
   "outputs": [],
   "source": [
    "def two_sum_sorted(nums: list, target: int) :\n",
    "  i,j = 0, len(nums-1)\n",
    "  while nums[i] + nums[j] != target :\n",
    "    if nums[i] + nums[j] < target :\n",
    "      i = i+1\n",
    "    else :\n",
    "      j = j-1\n",
    "  return [i,j]\n",
    "\n",
    "# dict 안씀 > memory complexity 1\n"
   ]
  }
 ],
 "metadata": {
  "kernelspec": {
   "display_name": "base",
   "language": "python",
   "name": "python3"
  },
  "language_info": {
   "name": "python",
   "version": "3.11.5"
  }
 },
 "nbformat": 4,
 "nbformat_minor": 2
}
