{
 "cells": [
  {
   "cell_type": "code",
   "execution_count": 13,
   "metadata": {},
   "outputs": [
    {
     "data": {
      "text/plain": [
       "True"
      ]
     },
     "execution_count": 13,
     "metadata": {},
     "output_type": "execute_result"
    }
   ],
   "source": [
    "# 1.\n",
    "\n",
    "# 3의 n제곱인지 확인\n",
    "# Recreate the same function but using a loop"
   ]
  },
  {
   "cell_type": "code",
   "execution_count": 23,
   "metadata": {},
   "outputs": [
    {
     "data": {
      "text/plain": [
       "False"
      ]
     },
     "execution_count": 23,
     "metadata": {},
     "output_type": "execute_result"
    }
   ],
   "source": [
    "# 1 sol)\n",
    "\n",
    "def P1_Recursion(n) :\n",
    "  if n == 1 :\n",
    "    return True\n",
    "  elif n <=0 or (n%3) != 0 : # 음수면 안되고 3으로 나눴을때 나머지가 0이어도 안됨\n",
    "    return False\n",
    "  return P1_Recursion(n/3)\n",
    "\n",
    "P1_Recursion(27)\n",
    "P1_Recursion(15631)\n",
    "P1_Recursion(59049)\n",
    "\n",
    "def P1_Loop(n) :\n",
    "  while (n%3) == 0 :\n",
    "    n = n/3\n",
    "  return n == 1\n",
    "\n",
    "P1_Loop(27)\n",
    "P1_Loop(15631)\n",
    "P1_Loop(59049)"
   ]
  },
  {
   "cell_type": "code",
   "execution_count": 4,
   "metadata": {},
   "outputs": [
    {
     "data": {
      "text/plain": [
       "[1, 5, 10, 10, 5, 1]"
      ]
     },
     "execution_count": 4,
     "metadata": {},
     "output_type": "execute_result"
    }
   ],
   "source": [
    "# 2. \n",
    "\n",
    "\"\"\"\n",
    "Q2. Pascal's Triangle\n",
    "Create a function for calculating a desired row of the Pascal’s triangle using Recursion\n",
    "Pascal's Triangle: Each number lies between two numbers and below them, and its value is the sum of the two numbers above it.\n",
    "\"\"\"\n",
    "\n",
    "# 0번쨰 행 0C0\n",
    "# 1        1C0 1C1\n",
    "# 2        2C0 2C1 2C2\n",
    "# 3        3C0 3C1 3C2 3C3\n",
    "\n",
    "# sol 2)\n",
    "def Pascal_Recursion(n : int) : # ->list[int]\n",
    "  if n == 0 :\n",
    "    return [1]\n",
    "  elif n == 1 :\n",
    "    return [1, 1]\n",
    "  else :\n",
    "    prev_list = Pascal_Recursion(n-1)\n",
    "    new_list = [prev_list[i] + prev_list[i+1] for i in range(len(prev_list) - 1)]\n",
    "    return [1] + new_list + [1]\n",
    "  \n",
    "Pascal_Recursion(5)\n",
    "    "
   ]
  },
  {
   "cell_type": "code",
   "execution_count": 5,
   "metadata": {},
   "outputs": [
    {
     "data": {
      "text/plain": [
       "[1, 4, 6, 4, 1]"
      ]
     },
     "execution_count": 5,
     "metadata": {},
     "output_type": "execute_result"
    }
   ],
   "source": [
    "def Pascal_Recursion(n : int) :\n",
    "  if n == 0 :\n",
    "    return [1]\n",
    "  elif n == 1 :\n",
    "    return [1, 1]\n",
    "  else :\n",
    "    prev_list = Pascal_Recursion(n-1)\n",
    "    new_list = [prev_list[i] + prev_list[i+1] for i in range(len(prev_list)-1)] # len(prev_list) = 4 > (prev_list - 1)= 3 range : 0~2 i = 0,1,2,3\n",
    "    return [1] + new_list + [1]\n",
    " \n",
    "Pascal_Recursion(4) "
   ]
  },
  {
   "cell_type": "code",
   "execution_count": 8,
   "metadata": {},
   "outputs": [
    {
     "data": {
      "text/plain": [
       "3"
      ]
     },
     "execution_count": 8,
     "metadata": {},
     "output_type": "execute_result"
    }
   ],
   "source": [
    "# 3. \n",
    "\n",
    "# 3 sol)\n",
    "def count_paths(m : int, n: int) :\n",
    "  if m == 1 or n == 1 :\n",
    "    return 1\n",
    "  else :\n",
    "    return count_paths(m-1, n) + count_paths(m, n-1) # 재귀적으로 위와 왼쪽에서 오는 경로 더함\n",
    "\n",
    "count_paths(2,2)\n",
    "count_paths(3,3)\n",
    "count_paths(2,3)\n",
    "    "
   ]
  },
  {
   "cell_type": "code",
   "execution_count": null,
   "metadata": {},
   "outputs": [
    {
     "data": {
      "text/plain": [
       "6"
      ]
     },
     "execution_count": 18,
     "metadata": {},
     "output_type": "execute_result"
    }
   ],
   "source": [
    "# practice\n",
    "\n",
    "def count_paths(m: int, n: int) :\n",
    "  if m==1 or n == 1 :\n",
    "    return 1\n",
    "  else :\n",
    "    return count_paths(m-1, n) + count_paths(m, n-1)\n",
    "  \n",
    "count_paths(3,3)"
   ]
  },
  {
   "cell_type": "code",
   "execution_count": null,
   "metadata": {},
   "outputs": [
    {
     "name": "stdout",
     "output_type": "stream",
     "text": [
      "['bc', 'cb']\n",
      "['ac', 'ca']\n",
      "['ab', 'ba']\n",
      "['abc', 'acb', 'bac', 'bca', 'cab', 'cba']\n"
     ]
    },
    {
     "data": {
      "text/plain": [
       "['abc', 'acb', 'bac', 'bca', 'cab', 'cba']"
      ]
     },
     "execution_count": 4,
     "metadata": {},
     "output_type": "execute_result"
    }
   ],
   "source": [
    "# 4.\n",
    "# str으로 만들 수 있는 모든 조합의 str set\n",
    "\n",
    "def permutations(s : str) : # return set\n",
    "  if len(s) == 1 : # base case\n",
    "    return set([s])\n",
    "  \n",
    "  result = []\n",
    "  for i in range(len(s)) :                      # i = 0                                                                     i = 1\n",
    "    current_char = s[i]                         # current = 'a'                                                             current = 'b'\n",
    "    remaining_char = s[:i] + s[i+1:]            # remaining = 'bc'                                                          remaining = 'ac'  \n",
    "    for perm in permutations(remaining_char) :  #   permutations('bc')                                                        permutations('ac')\n",
    "      result.append(current_char + perm)        #    : for i in range(len('bc'))                                                : for i in range(len('ac'))\n",
    "  print(result) # 재귀 결과도 출력됨\n",
    "  return result                                 #    i = 0                              i = 1                                   i = 0                         i = 1\n",
    "                                                #    current = 'b', remain = 'c'        current = 'c', remain = 'b'             current = 'a', remain = 'c'   current = 'c', remain = 'a'\n",
    "                                                #    perm in permutations('c')          perm in permutations('b')               perm in permutations('c')     perm in permutations('a')\n",
    "                                                #    perm = 'c'                         perm = 'b'                              perm = 'c'                    perm = 'a'\n",
    "                                                #    result = ['bc']                    result = ['bc', 'cb]                    result = ['ac']               result = ['ac', 'ca']\n",
    "                                                # for perm in permutations('bc') <=> for perm in ['bc', 'cb]                for perm in permutations('ac') <=> ['ac', 'ca']\n",
    "                                                # result = ['abc', 'acb]                                                    result = ['abc', 'acb', 'bac', 'bca']        \n",
    "\n",
    "permutations('abc')\n",
    "      "
   ]
  },
  {
   "cell_type": "code",
   "execution_count": 16,
   "metadata": {},
   "outputs": [
    {
     "data": {
      "text/plain": [
       "['abc', 'acb', 'bac', 'bca', 'cab', 'cba']"
      ]
     },
     "execution_count": 16,
     "metadata": {},
     "output_type": "execute_result"
    }
   ],
   "source": [
    "# 4. practice\n",
    "\n",
    "def permutations(s : str) : # -> list\n",
    "  if len(s) == 1 :\n",
    "    return [s]\n",
    "    \n",
    "  result = []\n",
    "  # else :  # if문이 성립되지 않으면 자연스럽게 result = []이 작동되므로 else가 if문에 이어지지 않아서 syntac error가 발생생\n",
    "  for i in range(len(s)) :\n",
    "    current_char = s[i]\n",
    "    remaining_char = s[:i] + s[i+1:]\n",
    "    for perm in permutations(remaining_char) :\n",
    "      result.append(current_char + perm)\n",
    "  return result\n",
    "\n",
    "# 각 return의 형식이 일치해야 함 : 위의 return set이고 아래 return이 list이면 오류 발생 확률이 높음음\n",
    "\n",
    "permutations('abc')"
   ]
  },
  {
   "cell_type": "code",
   "execution_count": null,
   "metadata": {},
   "outputs": [
    {
     "data": {
      "text/plain": [
       "['abc', 'acb', 'bac', 'bca', 'cab', 'cba']"
      ]
     },
     "execution_count": 12,
     "metadata": {},
     "output_type": "execute_result"
    }
   ],
   "source": [
    "# else를 쓰고 싶다면\n",
    "\n",
    "def permutations(s : str) : # -> list\n",
    "  if len(s) == 1 :\n",
    "    return [s]\n",
    "  else :\n",
    "    result = [] \n",
    "    for i in range(len(s)) :\n",
    "        current_char = s[i]\n",
    "        remaining_char = s[:i] + s[i+1:]\n",
    "        for perm in permutations(remaining_char) :\n",
    "          result.append(current_char + perm)\n",
    "  return result\n",
    "\n",
    "permutations('abc')"
   ]
  },
  {
   "cell_type": "code",
   "execution_count": null,
   "metadata": {},
   "outputs": [],
   "source": []
  }
 ],
 "metadata": {
  "kernelspec": {
   "display_name": "base",
   "language": "python",
   "name": "python3"
  },
  "language_info": {
   "codemirror_mode": {
    "name": "ipython",
    "version": 3
   },
   "file_extension": ".py",
   "mimetype": "text/x-python",
   "name": "python",
   "nbconvert_exporter": "python",
   "pygments_lexer": "ipython3",
   "version": "3.11.5"
  }
 },
 "nbformat": 4,
 "nbformat_minor": 2
}
