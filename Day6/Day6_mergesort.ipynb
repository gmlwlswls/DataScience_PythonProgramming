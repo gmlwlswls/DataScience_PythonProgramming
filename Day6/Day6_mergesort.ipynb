{
 "cells": [
  {
   "cell_type": "code",
   "execution_count": null,
   "metadata": {},
   "outputs": [],
   "source": [
    "# Review\n",
    "\n",
    "# Search and sort are essential\n",
    "# Linear Search : O(n)\n",
    "# Binary Search - sorted list O(logn)\n",
    "\n",
    "# Selection sort : unsorted list에서 min값을 sortedlist의 가장 왼쪽 값과 swa\n",
    "#                : for(for) > O(N**2)\n",
    "\n",
    "# Insertion sort : unsorted list에서 왼쪽 값을 sorted list에서 적합한 자리를 찾음\n",
    "#                : for(for) > O(N**2)\n",
    "#                : 전체 list를 안봐도 될 수 있지만 swap의 추가적인 부담담\n"
   ]
  },
  {
   "cell_type": "markdown",
   "metadata": {},
   "source": [
    "## Day 6"
   ]
  },
  {
   "cell_type": "code",
   "execution_count": null,
   "metadata": {},
   "outputs": [],
   "source": [
    "# https://leetcode.com/\n",
    "# 한국 - 백준\n",
    "# 미국 - 문제 3-400문제 풀면 입사"
   ]
  },
  {
   "cell_type": "markdown",
   "metadata": {},
   "source": [
    "### 1. Recursion"
   ]
  },
  {
   "cell_type": "code",
   "execution_count": 3,
   "metadata": {},
   "outputs": [
    {
     "data": {
      "text/plain": [
       "120"
      ]
     },
     "execution_count": 3,
     "metadata": {},
     "output_type": "execute_result"
    }
   ],
   "source": [
    "# Recursion\n",
    "# : Function that calls itself during execution\n",
    "\n",
    "# ex) factorial function (n! = 1 * 2 * ,,, * (n-1) * n)\n",
    "def facto(n: int) -> int :\n",
    "  ans= 1\n",
    "  for i in range(1, n+1) :\n",
    "    ans = ans * i\n",
    "  return ans\n",
    "\n",
    "facto(5)"
   ]
  },
  {
   "cell_type": "code",
   "execution_count": null,
   "metadata": {},
   "outputs": [],
   "source": [
    "def facto_recur(n:int):\n",
    "  if n==0 :\n",
    "    return 1\n",
    "  else :\n",
    "    return n*facto_recur(n-1) \n",
    "  # n=3 이면 3*facto_recur(2) > facto_recur(2)가 있어야 함\n",
    "  # n=2 이면 2*(facto_recur(1)) > facto_recur(1)가 있어야 함\n",
    "  # n=1 이면 1*1\n",
    "\n",
    "facto_recur(3)\n",
    "\n",
    "# Recursion can happen when solving a problem\n",
    "# includes solving subproblems ** having the same structure **\n",
    "# - Results of subproblems can be reused\n",
    "# 5! 풀 때 4!가 있으면 편함\n",
    "\n",
    "# structure\n",
    "def facto_recur(n= int) :\n",
    "  if n==0 : # conditional statements check for base cases \n",
    "    return 1 # Base case) evaluated without recursive calls(바로 답이 나오는 구간)\n",
    "  else :\n",
    "    return n*facto_recur(n-1) # Recuresive case(evaluated with recursive calls)\n",
    "    # 바로 전스텝의 결과만 고려하면 됨(recursive의 장점)\n",
    "    # n : 현재 step에서 고려할 추가적인 정보\n",
    "    # facto_recur(n-1): 이전 스텝의 결과물\n",
    "\n",
    "# 어떤 조건이 모든 자연수에 대해 참임을 증명\n",
    "# 자연수가 1일 때 True임을 증명\n",
    "# Recursive : True라고 가정했을 때 n+1이 참임을 증명하면 무한대까지 증명\n"
   ]
  },
  {
   "cell_type": "code",
   "execution_count": null,
   "metadata": {},
   "outputs": [],
   "source": [
    "# Whar are\n",
    "# (1) the conditional statement,\n",
    "# (2) the base case, and\n",
    "# (3) the recursive case?"
   ]
  },
  {
   "cell_type": "code",
   "execution_count": 17,
   "metadata": {},
   "outputs": [
    {
     "data": {
      "text/plain": [
       "3"
      ]
     },
     "execution_count": 17,
     "metadata": {},
     "output_type": "execute_result"
    }
   ],
   "source": [
    "# ex) - Fibonacci Sequence\n",
    "# Implement Fibonacci sequence starting from n=1\n",
    "# 1,2는 주어진 값\n",
    "\n",
    "def fibonacci_recur(n) :\n",
    "  if n == 1 or n ==2 : # n == 1 | n ==2 (x)\n",
    "    return n\n",
    "  else :\n",
    "    return fibonacci_recur(n-1) + fibonacci_recur(n-2)\n",
    "\n",
    "fibonacci_recur(3)"
   ]
  },
  {
   "cell_type": "markdown",
   "metadata": {},
   "source": [
    "### 2. Merge Sort"
   ]
  },
  {
   "cell_type": "code",
   "execution_count": 18,
   "metadata": {},
   "outputs": [],
   "source": [
    "# Insertion sort and selection sort but too slow - proportional n**2\n",
    "# binary search idea recall\n",
    "\n",
    "# Step 1 : divide the whole list into two sub-lists\n",
    "# Step 2 : Sort the left, right separately 가정\n",
    "# - smells like recursive : merge sort\n",
    "# Step 3 : Merge the two sorted sublist in a sorted way\n",
    "\n",
    "# How to sort sublists?\n",
    "# : list의 element가 하나만 되면 sort를 할 필요가 없음(base case)"
   ]
  },
  {
   "cell_type": "code",
   "execution_count": null,
   "metadata": {},
   "outputs": [],
   "source": [
    "# Mergesort()\n",
    "\n",
    "# Step 1 - sort(lst)\n",
    "# > lst1, lst2 - 4 elements\n",
    "# Step 2 - Mergesort(lst1), Mergesort(lst2)\n",
    "# > lst1_1, lst1_2, lst2_1, lst2_2 - 2 elements\n",
    "# Step 3 - Mergesort(lst1_1), ,,, Mergesort(lst2_2)\n",
    "# > lst1_1_1, lst1_1_2, ,,, lst2_2_1, lst2_2_2 - 1 elements\n",
    "# // step2\n",
    "\n",
    "# Step3 - Merge\n",
    "# Merge는 for로 돌림\n",
    "# lst1_1_1, lst11_1_2 = 5, -2 > lst1_1 = [-2, 5], lst1_2 = [0, 100]\n",
    "# lst1_1 > 왼쪽끼리 비교 : 작은 값이 전체에서 작은 값(sort되어있있기 때문에)\n",
    "#        > 작은 값이 빠진 list에서 가장 작은 값 한 개와 다른 list 가장 왼쪽 값 비교\n",
    "#        > 왼쪽 값들끼리 계속 비교해 나감\n",
    "\n",
    "values_list = [5, -2, 0, 100, -6, 7, 4, 9]\n",
    " "
   ]
  },
  {
   "cell_type": "code",
   "execution_count": 19,
   "metadata": {},
   "outputs": [],
   "source": [
    "# 2개의 리스트 비교 중 하나의 리스트 먼저 다 쓰면\n",
    "# 다른 리스트 통으로 붙이면 됨"
   ]
  },
  {
   "cell_type": "markdown",
   "metadata": {},
   "source": [
    "- Merge Sort Implementation"
   ]
  },
  {
   "cell_type": "code",
   "execution_count": null,
   "metadata": {},
   "outputs": [],
   "source": [
    "# sort되어있다는 가정하에 merge\n",
    "def merge(L: list, first_idx : int, mid_idx : int, last_idx : int) :\n",
    "  # L이라는 list 중 first~mid, mid+1~last sublist를 merge\n",
    "  # merge 실행 중 배열하는 과정에서 값 덮어씌우지 않도록 sublist copy\n",
    "  # sublist, merge되는 list 각각 index를 가지고 있음\n",
    "  # ex) sublist1(i), sublist(j), merged_list(k)\n",
    "  # i, j (copy된 subllist)는 0부터 시작\n",
    "  # 이 때 k의 index는 first부터 last까지 하나씩 커지는 형태\n",
    "  # i vs j 비교해서 작은 것을 k에 입력\n",
    "  # k는 1증가해야 하고\n",
    "  # i, j 중 k에 입력된 값의 인덱스는 + 1\n",
    "  # 다음 i,j를 비교해서 작은값 k에 입력\n",
    "  # list 하나에 속한 값이 다 끝나면\n",
    "  # 남은 list의 값 merged_list에 통으로 붙이면 끝남\n",
    "  # initialization\n",
    "  k = first_idx\n",
    "  sub1 = L[first_idx : mid_idx + 1] # copy 발생\n",
    "  sub2 = L[mid_idx+1 : last_idx + 1]\n",
    "  i = j = 0\n",
    "  # 두 sublist 중 하나라도 죽으면 loop을 실행할 이유가 없고 붙이면 됨\n",
    "  while i < len(sub1) and j < len(sub2) : # 둘 다 list 살아있는 조건\n",
    "    if sub1[i] <= sub2[j] :\n",
    "      L[k] = sub1[i]\n",
    "      i += 1\n",
    "    else :\n",
    "      L[k] = sub2[j]\n",
    "      j += 1\n",
    "    k = k + 1 \n",
    "    # At least one sublist is finished      \n",
    "  if i < len(sub1) :\n",
    "    L[k : last_idx + 1] = sub1[i:]\n",
    "  elif j < len(sub2) :\n",
    "    L[k : last_idx + 1] = sub2[j:]\n",
    "  else :\n",
    "    # doing nothing   \n",
    "    \n",
    "\n",
    "def mergeSortHelp(L : list, first_idx: int, last_idx: int) :\n",
    "  # Base case\n",
    "  if first_idx == last_idx: \n",
    "    # Conditional statements\n",
    "    # element가 1개\n",
    "    return # sort다 되었으니 할 것이 없음\n",
    "  # Recursive case\n",
    "  else :\n",
    "    # step 1 : list를 반으로 쪼갬\n",
    "    mid_idx = first_idx + (last_idx - first_idx) // 2\n",
    "    # step 2 : sort two sublists\n",
    "    mergeSortHelp(L, first_idx, mid_idx)\n",
    "    mergeSortHelp(L, mid_idx + 1, last_idx) # 알아서 sorting 가정(맨 마지막엔 sort필요 없음 - base case)\n",
    "    # step 3 : merge the 'two' sorted sublists\n",
    "    merge(L, first_idx, mid_idx, last_idx)\n",
    "    \n",
    "\n",
    "def mergeSort(L : list) :\n",
    "  mergeSortHelp(L, 0, len(L) - 1)"
   ]
  },
  {
   "cell_type": "code",
   "execution_count": 4,
   "metadata": {},
   "outputs": [
    {
     "data": {
      "text/plain": [
       "[-6, -2, 0, 4, 5, 7, 9, 100]"
      ]
     },
     "execution_count": 4,
     "metadata": {},
     "output_type": "execute_result"
    }
   ],
   "source": [
    "# practice)\n",
    "\n",
    "def merge(lst: list, strt_idx: int, mid_idx : int, end_idx: int) :\n",
    "  k = strt_idx\n",
    "  i = j = 0\n",
    "  sub1 = lst[strt_idx : mid_idx+1]\n",
    "  sub2 = lst[mid_idx+1 : end_idx+1]\n",
    "  while i < len(sub1) and j < len(sub2) : \n",
    "    if sub1[i] <= sub2[j] :\n",
    "      lst[k] = sub1[i]\n",
    "      i += 1\n",
    "    else :\n",
    "      lst[k] = sub2[j]\n",
    "      j += 1\n",
    "    k += 1\n",
    "  if i < len(sub1) :\n",
    "    lst[k:end_idx+1] = sub1[i:]\n",
    "  elif j < len(sub2) :\n",
    "    lst[k:end_idx+1] = sub2[j:]\n",
    "  else :\n",
    "    return\n",
    "\n",
    "def mergesort(lst : list, strt_idx : int, end_idx : int) :\n",
    "  if strt_idx == end_idx :\n",
    "    return\n",
    "  else :\n",
    "    # step 1 : divide two sublists\n",
    "    mid_idx = strt_idx + (end_idx - strt_idx) // 2\n",
    "    # step 2 : sort, start_idx== mid_idx==end_idx 할 떄까지\n",
    "    mergesort(lst, strt_idx, mid_idx)\n",
    "    mergesort(lst, mid_idx+1, end_idx)\n",
    "    # step3 : merge\n",
    "    # 다 나뉘었을때의 merge, ,,위로 쭉 올라감\n",
    "    merge(lst, strt_idx, mid_idx, end_idx)\n",
    "\n",
    "values_list = [5, -2, 0, 100, -6, 7, 4, 9]\n",
    "mergesort(values_list, 0, len(values_list)-1)\n",
    "values_list\n",
    "    "
   ]
  },
  {
   "cell_type": "code",
   "execution_count": null,
   "metadata": {},
   "outputs": [],
   "source": [
    "# Time complexity\n",
    "# merge에 따라 시간이 걸림\n",
    "# n*logn \n",
    "# 8*1 : list길이 * 깊이\n",
    "# 4*2 : list길이 * 깊이\n",
    "# 2*4 : ,,\n",
    "\n",
    "# Memory Complexity\n",
    "# slice에 따라 나타남(N만큼의)\n",
    "# 한 merge step별로 한 번의 복사\n",
    "# 끝나면 복사된 것도 사라지므로 복사가 쌓이는 것은 아님\n",
    "\n",
    "# Performance Comparison\n",
    "# vs selection sort(Nlog2N vs N**2)\n",
    "# 월등히 우수\n",
    "# list.sort : C로 구현되어 있어서 빠름\n",
    "\n",
    "# What sort algorithm is used for python?\n",
    "# : Tim Sort - a hybrid sorting algorithm(merge sort + insertion sort)\n",
    "# list : 32개까지 작아지면 더 쪼개지 말고 insertion sort로 sorting\n"
   ]
  },
  {
   "cell_type": "code",
   "execution_count": null,
   "metadata": {},
   "outputs": [],
   "source": [
    "# Summary\n",
    "\n",
    "# Mergesort\n",
    "# Divide and recursive calls\n",
    "# Merge sorted sublists\n",
    "\n",
    "# Time complexity O(NlogN)\n",
    "# O(logN) levels for recursion\n",
    "# - list 반으로 쪼개는 계층의 수\n",
    "# O(N) for merging at each level\n",
    "# - 합치는 단계에서 발생\n",
    "\n",
    "# Memory complexity O(N)\n",
    "# For copying sublists"
   ]
  },
  {
   "cell_type": "code",
   "execution_count": null,
   "metadata": {},
   "outputs": [],
   "source": [
    "# Review\n",
    "\n",
    "# Recursion\n",
    "# - 반복된 구조\n",
    "# - n에 대해 풀면 n+1이 풀리면 n에 대해 가정하고 푸는 방법\n",
    "# - base case\n",
    "\n",
    "# Merge sort\n",
    "# - Time complexity : O(NlogN) - 반으로 쪼개는 계층의 수 \n",
    "# - Memory complexity : O(N) - list 길이만큼의 복사\n"
   ]
  },
  {
   "cell_type": "code",
   "execution_count": null,
   "metadata": {},
   "outputs": [],
   "source": [
    "# quiz - merge sort\n",
    "\n",
    "def merge(left, right) :\n",
    "  # Merge two sorted arrays into one sorted array\n",
    "  sorted_array = []\n",
    "  while left and right : # trusy, falsy : list에 값의 유무\n",
    "    if left[0] < right[0] :\n",
    "      sorted_array.append(left.pop(0)) # 삭제하고 그 값을 반환\n",
    "    else :\n",
    "      sorted_array.append(right.pop(0))\n",
    "  sorted_array.extend(left or right) # 둘 중에 하나만 True이면 반환하는데 왼쪽 True면 left extend, 오른쪽 True이면 right extend\n",
    "  # 만약 둘 다 없어도 right 이어붙이면 빈 리스트 이어붙여서 영향 없음\n",
    "  return sorted_array\n",
    "\n",
    "def merge_sort(arr) :\n",
    "  if len(arr) <= 1 :\n",
    "    return arr\n",
    "  \n",
    "  mid = len(arr) // 2\n",
    "  left_half = merge_sort(arr[:mid])\n",
    "  right_half = merge_sort(arr[mid:])\n",
    "  \n",
    "  return merge(left_half, right_half)\n"
   ]
  },
  {
   "cell_type": "code",
   "execution_count": null,
   "metadata": {},
   "outputs": [],
   "source": []
  }
 ],
 "metadata": {
  "kernelspec": {
   "display_name": "base",
   "language": "python",
   "name": "python3"
  },
  "language_info": {
   "codemirror_mode": {
    "name": "ipython",
    "version": 3
   },
   "file_extension": ".py",
   "mimetype": "text/x-python",
   "name": "python",
   "nbconvert_exporter": "python",
   "pygments_lexer": "ipython3",
   "version": "3.11.5"
  }
 },
 "nbformat": 4,
 "nbformat_minor": 2
}
