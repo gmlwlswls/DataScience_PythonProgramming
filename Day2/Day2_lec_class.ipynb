{
 "cells": [
  {
   "cell_type": "markdown",
   "metadata": {},
   "source": [
    "## Day2 - Class"
   ]
  },
  {
   "cell_type": "code",
   "execution_count": 1,
   "metadata": {},
   "outputs": [],
   "source": [
    "# class 안에 function이 정의되면 ** 'method' **\n",
    "# module 안에 function이 정의되면 'function'\n",
    "\n",
    "# class 안에 function 정의할 때\n",
    "# parameter에 아무것도 입력 안해도 자동으로 받는 기본 파라미터(default)가 생김 : 클래스 자체(속해있는)\n",
    "\n",
    "\n",
    "# <<classs object>>.<<method>>"
   ]
  },
  {
   "cell_type": "code",
   "execution_count": 3,
   "metadata": {},
   "outputs": [],
   "source": [
    "# type : int, float, str, bool 전부 class로 구현되어있음\n",
    "# 이 안에 operator도 method로 정의되어 있는 것\n",
    "\n",
    "# help(int)\n",
    "# class\n",
    "# methods : __abs__(self, /) abs(self)\n"
   ]
  },
  {
   "cell_type": "code",
   "execution_count": 4,
   "metadata": {},
   "outputs": [],
   "source": [
    "# class vs class object\n",
    "# class : blueprint(청사진) ex) 건물, 테슬라 모델 y\n",
    "# object : realization of a blue print ex) 청사진을 토대로 만든 실제 object인 건물, 테슬라 모델 n개\n",
    "\n",
    "# - The model Y blueprint has an attribute 'color' (attribute(클래스 안) = variable)\n",
    "# (method(클래스 안) = function)\n",
    "# - My model Y(object)'s color attribute is blue\n",
    "# - your model Y's color attribute is red\n",
    "\n",
    "# class : int\n",
    "# class object : 9(현실화된 하나의 객체)\n"
   ]
  },
  {
   "cell_type": "code",
   "execution_count": 13,
   "metadata": {},
   "outputs": [
    {
     "data": {
      "text/plain": [
       "2"
      ]
     },
     "execution_count": 13,
     "metadata": {},
     "output_type": "execute_result"
    }
   ],
   "source": [
    "# 9(int class's object)\n",
    "9\n",
    "\n",
    "# ex) str class\n",
    "name = 'Jang-heejin' #(str class's object)\n",
    "\n",
    "name.lower() # ** 메서드기 때문에 자동으로 name이 파라미터로 들어감 ** \n",
    "name.upper()\n",
    "name.find('i') # 가장 처음 등장하는 곳의 index\n",
    "name.find('a')\n",
    "name.count('e')\n",
    "# count, find, lower, upper, lstrip, rstrip(우측 공백 제거), split"
   ]
  },
  {
   "cell_type": "code",
   "execution_count": 14,
   "metadata": {},
   "outputs": [],
   "source": [
    "# Object-oriented programming - object간의 소통\n"
   ]
  },
  {
   "cell_type": "code",
   "execution_count": null,
   "metadata": {},
   "outputs": [],
   "source": [
    "# Summary\n",
    "# Class vs class object (int vs 9, str vs 'name')\n",
    "# how to use methods in a class (default parameter 클래스 본인)\n",
    "\n",
    "# 지금까지의 클래스는 \n",
    "# class는 별도의 선언없이(ex. from math import pi ) 바로 object로 부여(할당)되는것 같음\n",
    "# int, str, float\n",
    "# name.upper() <- class method에는 self parameter 자동 포함되기 때문에 인자를 넣지 않아도 됨."
   ]
  }
 ],
 "metadata": {
  "kernelspec": {
   "display_name": "base",
   "language": "python",
   "name": "python3"
  },
  "language_info": {
   "codemirror_mode": {
    "name": "ipython",
    "version": 3
   },
   "file_extension": ".py",
   "mimetype": "text/x-python",
   "name": "python",
   "nbconvert_exporter": "python",
   "pygments_lexer": "ipython3",
   "version": "3.11.5"
  }
 },
 "nbformat": 4,
 "nbformat_minor": 2
}
