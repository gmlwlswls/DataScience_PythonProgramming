{
 "cells": [
  {
   "cell_type": "markdown",
   "metadata": {},
   "source": [
    "## Day2"
   ]
  },
  {
   "cell_type": "code",
   "execution_count": null,
   "metadata": {},
   "outputs": [],
   "source": [
    "# Review\n",
    "\n",
    "# String type\n",
    "# text values and operations(+ : 이어붙이기, * : 반복)\n",
    "# Print and Input(default : string type)\n",
    "\n",
    "# Bool type\n",
    "# True/False and Logical operations(not, or, and)\n",
    "# Logical operations가 아니라면 숫자로 취급(True : 1, False : 0)\n",
    "# Relational operators and 'in' operator\n",
    "# - Relational operators(>, <, ==) : True, False reteurn\n",
    "# - 'in' operator : ** string in string ** (부분집합)\n",
    "\n",
    "# Control where to execute depending on conditions(Control Structure : if/else)\n"
   ]
  },
  {
   "cell_type": "markdown",
   "metadata": {},
   "source": [
    "## Modules"
   ]
  },
  {
   "cell_type": "markdown",
   "metadata": {},
   "source": [
    "#### 01. Importing"
   ]
  },
  {
   "cell_type": "code",
   "execution_count": 5,
   "metadata": {},
   "outputs": [
    {
     "data": {
      "text/plain": [
       "<module 'math' (built-in)>"
      ]
     },
     "execution_count": 5,
     "metadata": {},
     "output_type": "execute_result"
    }
   ],
   "source": [
    "# Module : Func처럼 불러올 수 있고 쓸 수도 있는데\n",
    "# import : 불러오기\n",
    "\n",
    "# Module : ** a package, 비슷한 종류의 variable, func를 묶어서 저장해놓고 파일로 이름을 붙여놓음 ** \n",
    "# (모듈화 : 관련되어 있는 모든 것들이 모듈안에 들어감)\n",
    "# func이 reusability 높이는 방법인 것처럼 module도 reusability를 높이는 방법\n",
    "# ex) math.py : math file을 불러오면 모든 variable, func를 불러올 수 있음\n",
    "\n",
    "import math\n",
    "# math 모듈 안 모든 variable, func이 global name space에 보임\n",
    "\n",
    "# math라는 이름의 variable이 이미 존재했던 object인 math module에 화살표를 날림\n",
    "# frames - 1. global - variable_name 2. func_name \n",
    "# objects - module math, etc objects(5, 'string', ,,, func evaluated)\n",
    "\n",
    "# module math - acos, sqrt, pi > func acos(), func sqrt(), 3.141592\n",
    "# math > module math > 기능\n",
    "\n",
    "# python설치할 때 이미 일부 module 깔려있는데 메모리에 올라오지 않음\n",
    "# import module하면 올라옴 - 실행될때 참고하는 폴더들 중 있으면\n",
    "\n",
    "import math as my_math\n",
    "\n",
    "# my_math > module math > 기능\n",
    "# math # <module 'math' (built-in)>\n",
    "my_math # <module 'math' (built-in)>"
   ]
  },
  {
   "cell_type": "code",
   "execution_count": 9,
   "metadata": {},
   "outputs": [
    {
     "data": {
      "text/plain": [
       "3.0"
      ]
     },
     "execution_count": 9,
     "metadata": {},
     "output_type": "execute_result"
    }
   ],
   "source": [
    "# . operator : 한 번 더 타고 들어감\n",
    "# .(관련 func)\n",
    "\n",
    "# step1 : A라는 variable이 가리키는 object에 들어가서 \n",
    "# step2 : B라는 이름을 찾음\n",
    "\n",
    "\n",
    "math.pi\n",
    "math.sqrt(9)\n",
    "# pi # NameError: name 'pi' is not defined\n"
   ]
  },
  {
   "cell_type": "markdown",
   "metadata": {},
   "source": [
    "#### 02. Warning"
   ]
  },
  {
   "cell_type": "code",
   "execution_count": null,
   "metadata": {},
   "outputs": [],
   "source": [
    "# math.pi = -1482 변수라서 할당은 가능하지만 조작하지 말 것\n",
    "# 미리 built-in되어있는 variable, func명은 조작하지 말 것(ex. max = min)\n",
    "\n",
    "# value 상수처럼 fix할 수 없다는 안정성이 떨어지는 단점\n",
    "# 누가 바꿀지 모름(신뢰하는 수 밖에 없음)\n",
    "# C언어는 문법적으로 허용함(안전성)\n",
    "\n",
    "# python : 자유도가 높은만큼 안정성이 낮음음\n",
    "# C : 오류가 잘 나는 자유도가 낮은만큼(Strict) 안정성이 높음(미리 guide해서 error 알려줌)\n"
   ]
  },
  {
   "cell_type": "markdown",
   "metadata": {},
   "source": [
    "#### 03. Importing Specific Things"
   ]
  },
  {
   "cell_type": "code",
   "execution_count": 10,
   "metadata": {},
   "outputs": [
    {
     "data": {
      "text/plain": [
       "3.141592653589793"
      ]
     },
     "execution_count": 10,
     "metadata": {},
     "output_type": "execute_result"
    }
   ],
   "source": [
    "from math import sqrt, pi\n",
    "# global name space안에 이 func이 들어와있음\n",
    "# frmaes : 1. global - sqrt, pi\n",
    "# objects : func sqrt(), 3.141592\n",
    "\n",
    "# math.pi # name 'math' is not defined(import math 안하면)\n",
    "pi\n",
    "\n",
    "# 메모리 관점\n",
    "# 모듈의 특정 object만 가져오는 것은 메모리를 아끼지 않음, 전체 모듈을 가져오기 때문\n",
    "# global name space에 module이 들어오는지, module의 variable,func_name이 들어오는지가 다름\n",
    "# just for ease of typing\n",
    "\n",
    "# from math import * # 일일이 typing할 필요 없음 math.이라고 쓸 필요가 없음\n",
    "# not a good idea! ) \n",
    "# 왜? 모든 것을 variable로 불러왔는데 우연히 쓰는 variable를 가져오고 모르고고 module에 변화를 줄 수 있음음\n",
    "# ex)\n",
    "# from Korean import say_hi\n",
    "# from English import say_hi\n",
    "# (Korean)say_hi : '안녕하세요' print\n",
    "# (English)say_hi : 'hello' print\n",
    "\n",
    "# frames : 1. global - say_hi\n",
    "# objects : Korean Module, func say_hi, English Module, func say_hi\n",
    "\n",
    "# reassignment 발생 : say_hi(global) > fimc say_hi(English)\n",
    "\n",
    "# 이처럼 *로 불러오면 어디서 어떻게 reassignment 발생하는지 알 수 없음 "
   ]
  },
  {
   "cell_type": "code",
   "execution_count": null,
   "metadata": {},
   "outputs": [],
   "source": [
    "# Summary\n",
    "# Module : One step forward to reusable programming(재사용이 가능한 프로그래밍으로한발짝 더 )\n",
    "# - 관련있는 func, variable을 묶어서 불러올 수 있는\n",
    "# A.B\n",
    "\n",
    "# Memory and module import\n",
    "# Entire module vs specific function/variable\n",
    "# : memory관점에서는 차이가 없음\n",
    "\n",
    "# Namespace and module import \n",
    "# Entire module vs specific function/variable\n",
    "# : module name, module의 특정 기능이 namespace에 불러올 지의 차이가 있음"
   ]
  },
  {
   "cell_type": "markdown",
   "metadata": {},
   "source": [
    "#### Writing(Module)"
   ]
  },
  {
   "cell_type": "code",
   "execution_count": 11,
   "metadata": {},
   "outputs": [],
   "source": [
    "# module \n",
    "# .py - func, variable\n",
    "\n",
    "# make your own module - temperature.py\n",
    "# python 적어도 실행하고 있는 폴더는 참조를 할 것\n",
    "# tracking경로에 포함\n",
    "\n",
    "import temperature"
   ]
  },
  {
   "cell_type": "code",
   "execution_count": 13,
   "metadata": {},
   "outputs": [
    {
     "data": {
      "text/plain": [
       "<module 'temperature' from 'c:\\\\Users\\\\chjin\\\\OneDrive - 인하대학교\\\\바탕 화면\\\\취업 준비\\\\02. 대외 활동\\\\2025 SNU 데이터사이언스\\\\데이터 사이언스를 위한 파이썬 프로그래밍\\\\Day2\\\\temperature.py'>"
      ]
     },
     "execution_count": 13,
     "metadata": {},
     "output_type": "execute_result"
    }
   ],
   "source": [
    "temperature # module 'temperature' from file 저장 경로"
   ]
  },
  {
   "cell_type": "code",
   "execution_count": 14,
   "metadata": {},
   "outputs": [
    {
     "data": {
      "text/plain": [
       "5.0"
      ]
     },
     "execution_count": 14,
     "metadata": {},
     "output_type": "execute_result"
    }
   ],
   "source": [
    "temperature.a"
   ]
  },
  {
   "cell_type": "code",
   "execution_count": 15,
   "metadata": {},
   "outputs": [
    {
     "data": {
      "text/plain": [
       "32.0"
      ]
     },
     "execution_count": 15,
     "metadata": {},
     "output_type": "execute_result"
    }
   ],
   "source": [
    "temperature.c"
   ]
  },
  {
   "cell_type": "code",
   "execution_count": 17,
   "metadata": {},
   "outputs": [
    {
     "data": {
      "text/plain": [
       "32.22222222222222"
      ]
     },
     "execution_count": 17,
     "metadata": {},
     "output_type": "execute_result"
    }
   ],
   "source": [
    "temperature.convert_to_celsius(90)"
   ]
  },
  {
   "cell_type": "code",
   "execution_count": null,
   "metadata": {},
   "outputs": [],
   "source": []
  }
 ],
 "metadata": {
  "kernelspec": {
   "display_name": "base",
   "language": "python",
   "name": "python3"
  },
  "language_info": {
   "codemirror_mode": {
    "name": "ipython",
    "version": 3
   },
   "file_extension": ".py",
   "mimetype": "text/x-python",
   "name": "python",
   "nbconvert_exporter": "python",
   "pygments_lexer": "ipython3",
   "version": "3.11.5"
  }
 },
 "nbformat": 4,
 "nbformat_minor": 2
}
