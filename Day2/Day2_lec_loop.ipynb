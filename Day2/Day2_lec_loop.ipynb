{
 "cells": [
  {
   "cell_type": "markdown",
   "metadata": {},
   "source": [
    "## Day2"
   ]
  },
  {
   "cell_type": "markdown",
   "metadata": {},
   "source": [
    "### Loop"
   ]
  },
  {
   "cell_type": "markdown",
   "metadata": {},
   "source": [
    "#### 01. For Loop"
   ]
  },
  {
   "cell_type": "code",
   "execution_count": 1,
   "metadata": {},
   "outputs": [],
   "source": [
    "# 그룹화된 데이터(list)에 일괄적인 operation 적용하고 싶을 수 있음\n",
    "\n",
    "# Repetition is Tedious"
   ]
  },
  {
   "cell_type": "code",
   "execution_count": 2,
   "metadata": {},
   "outputs": [],
   "source": [
    "# General form\n",
    "# for <<variable>> in <<list>> :\n",
    "#         <<block>>\n"
   ]
  },
  {
   "cell_type": "code",
   "execution_count": 7,
   "metadata": {},
   "outputs": [
    {
     "name": "stdout",
     "output_type": "stream",
     "text": [
      "GSDS OFFERS Math/Stat course in Spring 2022.\n",
      "GSDS OFFERS CFDS course in Spring 2022.\n",
      "GSDS OFFERS ML/DL 1 course in Spring 2022.\n",
      "GSDS OFFERS Computing 1 course in Spring 2022.\n",
      "GSDS OFFERS Big data 1 course in Spring 2022.\n"
     ]
    }
   ],
   "source": [
    "gsds_courses = ['Math/Stat', 'CFDS', 'ML/DL 1', 'Computing 1', 'Big data 1']\n",
    "\n",
    "for course in gsds_courses :\n",
    "  # print('GSDS offers', course, 'course in Spring 2022.')\n",
    "  print(f'GSDS OFFERS {course} course in Spring 2022.')"
   ]
  },
  {
   "cell_type": "code",
   "execution_count": 12,
   "metadata": {},
   "outputs": [
    {
     "name": "stdout",
     "output_type": "stream",
     "text": [
      "e\n",
      "e\n",
      "i\n",
      "n\n",
      "a\n",
      "n\n",
      "g\n"
     ]
    }
   ],
   "source": [
    "# String For Loop\n",
    "\n",
    "name = 'Hee-Jin Jang'\n",
    "for chr in name :\n",
    "  # if chr.isupper() : # 대문자면 True\n",
    "    # print(chr)\n",
    "  if chr.islower() :\n",
    "    print(chr)\n",
    "    "
   ]
  },
  {
   "cell_type": "code",
   "execution_count": 5,
   "metadata": {},
   "outputs": [
    {
     "data": {
      "text/plain": [
       "5050"
      ]
     },
     "execution_count": 5,
     "metadata": {},
     "output_type": "execute_result"
    }
   ],
   "source": [
    "# A range of Numbers for Loop\n",
    "# func range : 숫자로 이루어진 순열을 제공\n",
    "# range(stop) : 0, 1, 2, ,,, stop-1\n",
    "# range(start, stop) : start, start+1, ,,, stop-1\n",
    "# range(start, stop, step) : start, start+step, ,,, stop-step\n",
    "# range(start, stop, step<0) : 감소하는 순열\n",
    "list(range(5))\n",
    "list(range(5, 1, -1))\n",
    "list(range(5, 1))\n",
    "\n",
    "total = 0\n",
    "for i in range(1, 101) :\n",
    "  total = total + i\n",
    "\n",
    "total"
   ]
  },
  {
   "cell_type": "code",
   "execution_count": 8,
   "metadata": {},
   "outputs": [
    {
     "data": {
      "text/plain": [
       "[20, 22, 24, 26, 28, 30]"
      ]
     },
     "execution_count": 8,
     "metadata": {},
     "output_type": "execute_result"
    }
   ],
   "source": [
    "# List Values vs List Indices\n",
    "values = [10, 11, 12, 13, 14, 15]\n",
    "\n",
    "for num in values :\n",
    "  num = num * 2\n",
    "\n",
    "num\n",
    "values\n",
    "\n",
    "for i in range(len(values)) :\n",
    "  values[i] = values[i] * 2\n",
    "\n",
    "values"
   ]
  },
  {
   "cell_type": "code",
   "execution_count": 16,
   "metadata": {},
   "outputs": [
    {
     "name": "stdout",
     "output_type": "stream",
     "text": [
      "1 th student taking this course is inhoe with id 2021-11\n",
      "2 th student taking this course is yesong with id 2021-12\n",
      "3 th student taking this course is jaewook with id 2021-13\n",
      "4 th student taking this course is yeha with id 2021-14\n",
      "5 th student taking this course is suun with id 2021-15\n"
     ]
    }
   ],
   "source": [
    "# Parallel Lists - list여러개\n",
    "name = ['inhoe', 'yesong', 'jaewook', 'yeha', 'suun']\n",
    "student_id = ['2021-11', '2021-12', '2021-13', '2021-14', '2021-15']\n",
    "\n",
    "for i in range(len(name)) :\n",
    "  print(i+1,'th student taking this course is', name[i], 'with id', student_id[i])"
   ]
  },
  {
   "cell_type": "code",
   "execution_count": 17,
   "metadata": {},
   "outputs": [
    {
     "name": "stdout",
     "output_type": "stream",
     "text": [
      "hangyeol and jihyun might become a couple\n",
      "hangyeol and anna might become a couple\n",
      "hangyeol and minjae might become a couple\n",
      "hangyeol and gaheun might become a couple\n",
      "inwoo and jihyun might become a couple\n",
      "inwoo and anna might become a couple\n",
      "inwoo and minjae might become a couple\n",
      "inwoo and gaheun might become a couple\n",
      "uidong and jihyun might become a couple\n",
      "uidong and anna might become a couple\n",
      "uidong and minjae might become a couple\n",
      "uidong and gaheun might become a couple\n",
      "kangyeol and jihyun might become a couple\n",
      "kangyeol and anna might become a couple\n",
      "kangyeol and minjae might become a couple\n",
      "kangyeol and gaheun might become a couple\n"
     ]
    }
   ],
   "source": [
    "# Loops in Loops\n",
    "\n",
    "men = ['hangyeol', 'inwoo', 'uidong', 'kangyeol']\n",
    "women = ['jihyun', 'anna', 'minjae', 'gaheun']\n",
    "\n",
    "for man in men :\n",
    "  for woman in women :\n",
    "    print(man, 'and', woman, 'might become a couple')\n",
    "# matrix\n",
    "# 3차원 - for loop 3개"
   ]
  },
  {
   "cell_type": "code",
   "execution_count": null,
   "metadata": {},
   "outputs": [],
   "source": [
    "# Summary\n",
    "\n",
    "# For Loop\n",
    "# - in a list, a string, a range of values\n",
    "\n",
    "# Loops in loops\n"
   ]
  },
  {
   "cell_type": "markdown",
   "metadata": {},
   "source": [
    "## While Loop and Loop Control"
   ]
  },
  {
   "cell_type": "markdown",
   "metadata": {},
   "source": [
    "#### 01. While Loop"
   ]
  },
  {
   "cell_type": "code",
   "execution_count": 18,
   "metadata": {},
   "outputs": [
    {
     "name": "stdout",
     "output_type": "stream",
     "text": [
      "1\n",
      "2\n",
      "3\n",
      "4\n",
      "5\n",
      "6\n",
      "7\n",
      "8\n",
      "9\n",
      "10\n"
     ]
    }
   ],
   "source": [
    "# while <<expression - condition>> :\n",
    "#       <<block>>\n",
    "\n",
    "# execute <<block>> repetively **as long as** <<condition>> is True\n",
    "\n",
    "i= 0\n",
    "while i < 10 :\n",
    "  i= i+1\n",
    "  print(i)"
   ]
  },
  {
   "cell_type": "code",
   "execution_count": 19,
   "metadata": {},
   "outputs": [
    {
     "data": {
      "text/plain": [
       "10"
      ]
     },
     "execution_count": 19,
     "metadata": {},
     "output_type": "execute_result"
    }
   ],
   "source": [
    "i"
   ]
  },
  {
   "cell_type": "code",
   "execution_count": 20,
   "metadata": {},
   "outputs": [],
   "source": [
    "# infinite loop is a very typical error\n",
    "# condition을 False로 만들 수 있는 block을 만들어야 함\n",
    "\n",
    "# - condition must be updated properly in <<block>>\n",
    "# - condition should not be very specific (i<10 is better than i != 10)\n",
    "# - When infinite loop, just type Ctrl+C\n",
    "\n"
   ]
  },
  {
   "cell_type": "code",
   "execution_count": null,
   "metadata": {},
   "outputs": [
    {
     "name": "stdout",
     "output_type": "stream",
     "text": [
      "You are an Entertainer\n",
      "You are not like SSAK3.\n"
     ]
    }
   ],
   "source": [
    "# Interaction with a user\n",
    "\n",
    "text= ''\n",
    "while text != 'quit' :\n",
    "  text= input('Enter your MBTI type (or \"quit\") to exit :')\n",
    "  if text == 'ESFP' :\n",
    "    print('You are an Entertainer')\n",
    "  elif text == 'ENFP' :\n",
    "    print('You are a Campaiger')\n",
    "  elif text== 'ISFP' :\n",
    "    print('You are an Adventurer')\n",
    "  else :\n",
    "    print('You are not like SSAK3.')\n",
    "\n",
    "# quit 입력하면 else 실행되고 종료\n",
    "# 이전까지는 text가 ESFP여서\n",
    "# 실행되고 그 다음 text == 'quit'이니까 ssak3 프린트되고 종료됨"
   ]
  },
  {
   "cell_type": "code",
   "execution_count": 25,
   "metadata": {},
   "outputs": [
    {
     "name": "stdout",
     "output_type": "stream",
     "text": [
      "You are an Entertainer\n",
      "Input gonna be ended\n"
     ]
    }
   ],
   "source": [
    "text= ''\n",
    "\n",
    "while text != 'quit' :\n",
    "  text= input('Enter your MBTI type (or \"quit\") to exit :')\n",
    "  if text == 'quit' :\n",
    "    print('Input gonna be ended')\n",
    "  elif text == 'ESFP' :\n",
    "    print('You are an Entertainer')\n",
    "  elif text == 'ENFP' :\n",
    "    print('You are a Campaiger')\n",
    "  elif text== 'ISFP' :\n",
    "    print('You are an Adventurer')\n",
    "  else :\n",
    "    print('You are not like SSAK3.')\n"
   ]
  },
  {
   "cell_type": "markdown",
   "metadata": {},
   "source": [
    "#### 02. Controlling Loops - Break and Continue"
   ]
  },
  {
   "cell_type": "code",
   "execution_count": 27,
   "metadata": {},
   "outputs": [
    {
     "data": {
      "text/plain": [
       "7"
      ]
     },
     "execution_count": 27,
     "metadata": {},
     "output_type": "execute_result"
    }
   ],
   "source": [
    "# Break : escape right away\n",
    "# + if문 유용\n",
    "first_upper_index= -1\n",
    "randomString = 'soimojiSJosijoijAAsbSL'\n",
    "\n",
    "for i in range(len(randomString)) :\n",
    "  if randomString[i].isupper() : # 가장 첫번째 등장하는 대문자의 index\n",
    "    first_upper_index = i\n",
    "    break # for문 종료 - 없으면 맨 마지막 대문자의 index\n",
    "  \n",
    "first_upper_index\n"
   ]
  },
  {
   "cell_type": "code",
   "execution_count": 28,
   "metadata": {},
   "outputs": [
    {
     "data": {
      "text/plain": [
       "7"
      ]
     },
     "execution_count": 28,
     "metadata": {},
     "output_type": "execute_result"
    }
   ],
   "source": [
    "# Continue : loop continue인데 현재의 iter만 종료\n",
    "\n",
    "first_upper_index = -1\n",
    "randomString = 'soimojiSJosijoijAAsbSL'\n",
    "\n",
    "for i in range(len(randomString)) :\n",
    "  if randomString[i].islower() :\n",
    "    continue # if문 True > for문 continue\n",
    "  first_upper_index = i\n",
    "  break # for문 종료\n",
    "\n",
    "first_upper_index"
   ]
  },
  {
   "cell_type": "code",
   "execution_count": null,
   "metadata": {},
   "outputs": [],
   "source": [
    "# Summary\n",
    "\n",
    "# While loop\n",
    "# A common error : block안에 condition이 false 되도록 update\n",
    "\n",
    "# Break vs Continue\n",
    "# Break : loop 전체 종료\n",
    "# Continue : Continue 아랫부분이 종료되지만 loop은 계속 진행"
   ]
  },
  {
   "cell_type": "code",
   "execution_count": null,
   "metadata": {},
   "outputs": [],
   "source": []
  }
 ],
 "metadata": {
  "kernelspec": {
   "display_name": "base",
   "language": "python",
   "name": "python3"
  },
  "language_info": {
   "codemirror_mode": {
    "name": "ipython",
    "version": 3
   },
   "file_extension": ".py",
   "mimetype": "text/x-python",
   "name": "python",
   "nbconvert_exporter": "python",
   "pygments_lexer": "ipython3",
   "version": "3.11.5"
  }
 },
 "nbformat": 4,
 "nbformat_minor": 2
}
