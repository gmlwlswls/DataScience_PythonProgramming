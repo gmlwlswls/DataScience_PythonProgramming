{
 "cells": [
  {
   "cell_type": "markdown",
   "metadata": {},
   "source": [
    "## Practice 2"
   ]
  },
  {
   "cell_type": "markdown",
   "metadata": {},
   "source": [
    "#### 1. Practice with the 'math' Module"
   ]
  },
  {
   "cell_type": "code",
   "execution_count": 6,
   "metadata": {},
   "outputs": [
    {
     "name": "stdout",
     "output_type": "stream",
     "text": [
      "78.53981633974483\n",
      "5.0\n",
      "3.141592653589793\n",
      "5040\n",
      "4.0\n"
     ]
    }
   ],
   "source": [
    "# 1-1.\n",
    "import math\n",
    "\n",
    "def calculate_area_of_circle(radius) :\n",
    "  return math.pi * radius ** 2\n",
    "\n",
    "print(calculate_area_of_circle(5))\n",
    "\n",
    "# 1-2.\n",
    "def calculate_hypotenuse(a,b) :\n",
    "  return math.sqrt(a**2 + b**2)\n",
    "\n",
    "print(calculate_hypotenuse(3, 4))\n",
    "\n",
    "# 1-3\n",
    "def convert_degrees_to_radians(degrees) :\n",
    "  return math.radians(degrees)\n",
    "\n",
    "print(convert_degrees_to_radians(180))\n",
    "\n",
    "# 1-4.\n",
    "def calculate_factorial(n) :\n",
    "  return math.factorial(n)\n",
    "\n",
    "print(calculate_factorial(7))\n",
    "\n",
    "# 1-5.\n",
    "def calculate_logarithm(value, base) :\n",
    "  return math.log(value, base)\n",
    "\n",
    "print(calculate_logarithm(16, 2))"
   ]
  },
  {
   "cell_type": "markdown",
   "metadata": {},
   "source": [
    "#### 2. Finding Sum of Positive Integers in list"
   ]
  },
  {
   "cell_type": "code",
   "execution_count": 11,
   "metadata": {},
   "outputs": [
    {
     "data": {
      "text/plain": [
       "0"
      ]
     },
     "execution_count": 11,
     "metadata": {},
     "output_type": "execute_result"
    }
   ],
   "source": [
    "def P1(lst) : \n",
    "  pos_sum = 0\n",
    "  for num in lst :\n",
    "    if num > 0 :\n",
    "      pos_sum += num\n",
    "  return pos_sum\n",
    "\n",
    "P1([1,2,-3])\n",
    "P1([-1, 0])\n",
    "    "
   ]
  },
  {
   "cell_type": "markdown",
   "metadata": {},
   "source": [
    "#### 3. Print start"
   ]
  },
  {
   "cell_type": "code",
   "execution_count": 22,
   "metadata": {},
   "outputs": [
    {
     "name": "stdout",
     "output_type": "stream",
     "text": [
      "*\n",
      "**\n",
      "***\n",
      "**\n",
      "*\n",
      "\n",
      "*\n",
      "**\n",
      "***\n",
      "****\n",
      "*****\n",
      "****\n",
      "***\n",
      "**\n",
      "*\n",
      "****\n",
      "   *\n",
      "  *\n",
      "****\n",
      "*****\n",
      "    *\n",
      "   *\n",
      "  *\n",
      "*****\n"
     ]
    }
   ],
   "source": [
    "# 1-1.\n",
    "def star_flag(n) :\n",
    "  for i in range(2*n - 1) :\n",
    "    if i < n :\n",
    "      print('*' * (i+1))\n",
    "    else :\n",
    "      print('*' * (2*n -1 - i))\n",
    "\n",
    "star_flag(3)\n",
    "print()\n",
    "star_flag(5)\n",
    "\n",
    "# 1-2.\n",
    "def star_z(n) : #(n>2)\n",
    "  print('*' * n)\n",
    "  for i in range(n - 2) :\n",
    "    print(' ' * (n - 2 - i), '*')\n",
    "  print('*' * n)\n",
    "\n",
    "star_z(4)\n",
    "star_z(5)\n",
    "    \n",
    "    "
   ]
  },
  {
   "cell_type": "markdown",
   "metadata": {},
   "source": [
    "#### 4. Nested List"
   ]
  },
  {
   "cell_type": "code",
   "execution_count": 24,
   "metadata": {},
   "outputs": [
    {
     "data": {
      "text/plain": [
       "['ace', 'cup', 'good', 'nice']"
      ]
     },
     "execution_count": 24,
     "metadata": {},
     "output_type": "execute_result"
    }
   ],
   "source": [
    "\n",
    "def P4(lst) :\n",
    "  word_list = []\n",
    "  for element in lst :\n",
    "    word_list.append(element[0])\n",
    "  return sorted(word_list)\n",
    "\n",
    "P4([['apple', 5], ['banana', 6]])\n",
    "P4([['cup', 3], ['ace', 3], ['nice', 4], ['good', 4]])\n",
    "    "
   ]
  },
  {
   "cell_type": "markdown",
   "metadata": {},
   "source": [
    "#### 5. Toggle Case of Each Character in a string"
   ]
  },
  {
   "cell_type": "code",
   "execution_count": 39,
   "metadata": {},
   "outputs": [
    {
     "name": "stdout",
     "output_type": "stream",
     "text": [
      "STR\n"
     ]
    },
    {
     "data": {
      "text/plain": [
       "'sSTRtSTRr'"
      ]
     },
     "execution_count": 39,
     "metadata": {},
     "output_type": "execute_result"
    }
   ],
   "source": [
    "'str'.upper()\n",
    "\n",
    "new_text = ''.join('str'.upper())\n",
    "print(new_text)\n",
    "new_text = new_text.join('STR'.lower()) # s,t,r이 STR 앞뒤에?\n",
    "new_text\n",
    "\n",
    "'STR'.join('str')"
   ]
  },
  {
   "cell_type": "code",
   "execution_count": 42,
   "metadata": {},
   "outputs": [
    {
     "data": {
      "text/plain": [
       "'p'"
      ]
     },
     "execution_count": 42,
     "metadata": {},
     "output_type": "execute_result"
    }
   ],
   "source": [
    "\n",
    "def toggle_case(text) :\n",
    "  new_text = ''\n",
    "  for str in text :\n",
    "    if str.isupper() :\n",
    "      # new_text = new_text.join(str.lower())\n",
    "      new_text = new_text + str.lower()\n",
    "    elif str.islower() :\n",
    "      # new_text = new_text.join(str.upper())\n",
    "      new_text = new_text + str.upper()\n",
    "    else :\n",
    "      new_text = new_text + str\n",
    "    return new_text\n",
    "\n",
    "toggle_case('Hello World')\n",
    "toggle_case('Python3.8')"
   ]
  },
  {
   "cell_type": "markdown",
   "metadata": {},
   "source": [
    "#### 6. Sum Values Until Threshold is Reached"
   ]
  },
  {
   "cell_type": "code",
   "execution_count": null,
   "metadata": {},
   "outputs": [],
   "source": [
    "isinstance()"
   ]
  },
  {
   "cell_type": "code",
   "execution_count": 46,
   "metadata": {},
   "outputs": [
    {
     "name": "stdout",
     "output_type": "stream",
     "text": [
      "(11.0, 3)\n"
     ]
    }
   ],
   "source": [
    "# if possible, should convert all values to floats\n",
    "# if not possible, it should be ignored\n",
    "# if sum < K, return -1 and None\n",
    "# return the sum and the index if K is reached or exceeded\n",
    "\n",
    "# K > 0, float\n",
    "\n",
    "def sum_until_threshold(lst, K) :\n",
    "  sum = 0\n",
    "  for idx, element in enumerate(lst) :\n",
    "    if isinstance(element, (int, float)) :\n",
    "      element = float(element)\n",
    "      sum += element\n",
    "      if sum >= K : \n",
    "        return sum, idx\n",
    "    elif isinstance(element, str) :\n",
    "      try : \n",
    "        element = float(element)\n",
    "      except :\n",
    "        TypeError\n",
    "      sum += element\n",
    "      if sum >= K :\n",
    "        return sum, idx\n",
    "  if sum < K :\n",
    "    return -1, None\n",
    "    \n",
    "print(sum_until_threshold([1, 2.5, '3', '4.5', 5, 'abc', 6], 10))\n",
    "      "
   ]
  },
  {
   "cell_type": "code",
   "execution_count": null,
   "metadata": {},
   "outputs": [],
   "source": []
  }
 ],
 "metadata": {
  "kernelspec": {
   "display_name": "base",
   "language": "python",
   "name": "python3"
  },
  "language_info": {
   "codemirror_mode": {
    "name": "ipython",
    "version": 3
   },
   "file_extension": ".py",
   "mimetype": "text/x-python",
   "name": "python",
   "nbconvert_exporter": "python",
   "pygments_lexer": "ipython3",
   "version": "3.11.5"
  }
 },
 "nbformat": 4,
 "nbformat_minor": 2
}
