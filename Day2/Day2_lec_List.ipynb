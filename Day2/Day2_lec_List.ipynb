{
 "cells": [
  {
   "cell_type": "markdown",
   "metadata": {},
   "source": [
    "## Day 2 - List"
   ]
  },
  {
   "cell_type": "code",
   "execution_count": 1,
   "metadata": {},
   "outputs": [],
   "source": [
    "# module - reusability 한단계 더 진보시킨 기법\n",
    "# func 하나에서 그치는게 아니라 관련있는 variable, func 묶어서 하나의 파일로 저장해놓으면 \n",
    "# file이름이 module이름이 되고 이것만 import하면 그 안 variable, func (모든 기능)쓸 수 있음\n",
    "\n",
    "# 1. import math - math.sqrt\n",
    "# 2. from math import pi, sqrt - sqrt()\n",
    "\n",
    "# - 메모리는 차이가 없음\n",
    "# - name space에서 차이 발생(import *를 하면 모든 variable, func가 name space에 발생\n",
    "# 이러면 발생하면 모든 변수, 함수 이름을 알 수 없기 때문에 충돌 문제가 있음)"
   ]
  },
  {
   "cell_type": "code",
   "execution_count": null,
   "metadata": {},
   "outputs": [],
   "source": [
    "# Class vs Class object\n",
    "# Class : 설계도\n",
    "# Class object : 실제 object\n",
    "\n",
    "# Class method\n",
    "# - func def(parameter(default : class ** object ** 자신))"
   ]
  },
  {
   "cell_type": "markdown",
   "metadata": {},
   "source": [
    "#### 01. Basics"
   ]
  },
  {
   "cell_type": "code",
   "execution_count": 8,
   "metadata": {},
   "outputs": [
    {
     "data": {
      "text/plain": [
       "['inhoe', 'yesong']"
      ]
     },
     "execution_count": 8,
     "metadata": {},
     "output_type": "execute_result"
    }
   ],
   "source": [
    "# group을 표현하는 데이터 구조 : list\n",
    "\n",
    "# - class object(like int, float, string class)\n",
    "# - ordered\n",
    "# [<<expression1>>, <<expression2>>, ,,, <<expressionN>>]\n",
    "# - own methods \n",
    "\n",
    "# - A list object can be assigned to a variable\n",
    "# ex. \n",
    "# student1 = 'inhoe' \n",
    "# student2 = 'yesong'\n",
    "students = ['inhoe', 'yesong']\n",
    "students\n",
    "\n",
    "[1,3,2,4]\n",
    "# help(list) # class list"
   ]
  },
  {
   "cell_type": "code",
   "execution_count": 17,
   "metadata": {},
   "outputs": [],
   "source": [
    "# Memory model\n",
    "# 'yesong' 'yeha', 'nayeon', ,, 'suun' : string\n",
    "# 0 1 2 3 4 5 : index가 string에 화살표\n",
    "# students : students에서 index를 통해 string에 접근할 수 있는 권한이 생김\n"
   ]
  },
  {
   "cell_type": "code",
   "execution_count": 18,
   "metadata": {},
   "outputs": [
    {
     "name": "stdout",
     "output_type": "stream",
     "text": [
      "inhoe\n"
     ]
    }
   ],
   "source": [
    "# Access and Assign\n",
    "students= ['inhoe', 'yesong', 'jaewook', 'yeha', 'suun', 'nayeon']\n",
    "\n",
    "students[0]\n",
    "students[5]\n",
    "students[-1]\n",
    "students[-3]\n",
    "\n",
    "# assign elements to variables\n",
    "student0 = students[0]\n",
    "print(student0)"
   ]
  },
  {
   "cell_type": "code",
   "execution_count": 19,
   "metadata": {},
   "outputs": [
    {
     "data": {
      "text/plain": [
       "['inhoe', 'kakyeong', 'jaewook', 'yeha', 'suun', 'nayeon']"
      ]
     },
     "execution_count": 19,
     "metadata": {},
     "output_type": "execute_result"
    }
   ],
   "source": [
    "# Modifying Elements\n",
    "students[1] =  'kakyeong'\n",
    "\n",
    "# 가경이라는 새로운 메모리집이 생기고\n",
    "# 메모리집의 주소를 students[1]이 pointing\n",
    "# yesong이라는 value는 ** 그대로 ** 있음\n",
    "\n",
    "students"
   ]
  },
  {
   "cell_type": "code",
   "execution_count": 20,
   "metadata": {},
   "outputs": [],
   "source": [
    "# type\n",
    "# : any type of data\n",
    "jaesuk_info = ['MC', '1972.8.14', 178, 65]\n",
    "# it is possible\n",
    "# type이 달라지면 연산도 달라지는데\n",
    "# 위치별 타입을 기억해야 하는데 오류 발생 가능성이 높음\n",
    "\n",
    "# > usually used for containing a 'single type' of objects\n",
    "\n",
    "# from typing import List\n",
    "# def average(L : List[float]) -> float : \n",
    "#           <<body>> \n",
    "# 어떤 type으로 이루어진 list를 가질지 지정\n",
    "# 미리 float로 이루어진 list라고 예측 가능하도록\n",
    "# List: List type은 파이썬에서 빌트인 클래스가 아니라서 typing 모듈에서 불러와야 에러가 안생김\n",
    " "
   ]
  },
  {
   "cell_type": "code",
   "execution_count": 25,
   "metadata": {},
   "outputs": [
    {
     "data": {
      "text/plain": [
       "[['2021-33333', 'inhoe'], ['2021-22222', 'yesong']]"
      ]
     },
     "execution_count": 25,
     "metadata": {},
     "output_type": "execute_result"
    }
   ],
   "source": [
    "# List of Lists\n",
    "# 다차원의 행렬, 2차원 이미지\n",
    "students = [['2021-1111', 'inhoe'], ['2021-22222', 'yesong']]\n",
    "\n",
    "students[0]\n",
    "students[1][0]\n",
    "students[1][1]\n",
    "\n",
    "A = students[0]\n",
    "A\n",
    "\n",
    "students[0] = ['2021-33333', 'inhoe']\n",
    "students"
   ]
  },
  {
   "cell_type": "markdown",
   "metadata": {},
   "source": [
    "#### 02. Operations"
   ]
  },
  {
   "cell_type": "code",
   "execution_count": 39,
   "metadata": {},
   "outputs": [
    {
     "data": {
      "text/plain": [
       "[100, 101, 102, 2, -1, 4, 3, 100, -20]"
      ]
     },
     "execution_count": 39,
     "metadata": {},
     "output_type": "execute_result"
    }
   ],
   "source": [
    "# variable(int, float, str, list) + operation\n",
    "\n",
    "# list의 operation\n",
    "# list.method(class)\n",
    "\n",
    "A = [2, 5, -1, 4, 3, 100, -20]\n",
    "len(A)\n",
    "max(A)\n",
    "min(A)\n",
    "sum(A)\n",
    "sorted(A) # value sort(오름차순)\n",
    "A + [2,3,5] # string처럼 +, * 연산\n",
    "A * 2\n",
    "del A[1] # 바로 내부적으로 삭제되고 return하지는 않음\n",
    "A\n",
    "\n",
    "# help(list)\n",
    "\n",
    "B = [100, 101, 102]\n",
    "A + B\n",
    "B + A\n"
   ]
  },
  {
   "cell_type": "code",
   "execution_count": 42,
   "metadata": {},
   "outputs": [
    {
     "data": {
      "text/plain": [
       "False"
      ]
     },
     "execution_count": 42,
     "metadata": {},
     "output_type": "execute_result"
    }
   ],
   "source": [
    "# 'in' operator\n",
    "# string에서처럼\n",
    "\n",
    "attendance = ['inhoe', 'yesong', 'jaewook', 'yeha', 'suun']\n",
    "'jaewook' in attendance\n",
    "'nayeon' in attendance"
   ]
  },
  {
   "cell_type": "markdown",
   "metadata": {},
   "source": [
    "#### 03. Methods"
   ]
  },
  {
   "cell_type": "code",
   "execution_count": 55,
   "metadata": {},
   "outputs": [
    {
     "data": {
      "text/plain": [
       "['yesong', 'yeha', 'sunwoo', 'jaewook']"
      ]
     },
     "execution_count": 55,
     "metadata": {},
     "output_type": "execute_result"
    }
   ],
   "source": [
    "# operation : func(list argument) \n",
    "# methods : list.func(list자체 파라미터)\n",
    "students = ['inhoe', 'yesong', 'jaewook', 'yeha', 'suun']\n",
    "students.append('kangsuk') # 맨 뒤에 추가\n",
    "students.clear()\n",
    "students # empty list\n",
    "\n",
    "students = ['inhoe', 'yesong', 'jaewook', 'yeha', 'suun']\n",
    "students.count('suun') # 1\n",
    "students.index('jaewook') # index return - str.find와 유사 # 2\n",
    "students.insert(2, 'sunwoo') # 특정 위치에 삽입\n",
    "students\n",
    "\n",
    "students.pop() # 맨 뒤 삭제\n",
    "students\n",
    "# append <=> pop\n",
    "\n",
    "students.remove('inhoe') # specific element remove\n",
    "students\n",
    "\n",
    "students.sort() \n",
    "students\n",
    "\n",
    "students.sort(reverse= True)\n",
    "students"
   ]
  },
  {
   "cell_type": "markdown",
   "metadata": {},
   "source": [
    "#### 04. Slicing"
   ]
  },
  {
   "cell_type": "code",
   "execution_count": 61,
   "metadata": {},
   "outputs": [
    {
     "data": {
      "text/plain": [
       "['inhoe', 'yesong', 'jaewook', 'yeha', 'suun']"
      ]
     },
     "execution_count": 61,
     "metadata": {},
     "output_type": "execute_result"
    }
   ],
   "source": [
    "# A[i:j] - list\n",
    "students = ['inhoe', 'yesong', 'jaewook', 'yeha', 'suun']\n",
    "students[2:4] # ** 새로운 list **\n",
    "# ** 순서도 0,1로 새롭게 매핑 ** \n",
    "# ex.\n",
    "students[2:4][1] # ['yeha']\n",
    "\n",
    "students[3:]\n",
    "students[:2]\n",
    "students[:] # copy"
   ]
  },
  {
   "cell_type": "code",
   "execution_count": null,
   "metadata": {},
   "outputs": [],
   "source": [
    "# Summary\n",
    "# list definition : group + ordered\n",
    "# access, assign, and modify list elements\n",
    "# list of lists\n",
    "# operations and methods\n",
    "# slicing"
   ]
  },
  {
   "cell_type": "markdown",
   "metadata": {},
   "source": [
    "#### 05. Copy and Alias"
   ]
  },
  {
   "cell_type": "code",
   "execution_count": 69,
   "metadata": {},
   "outputs": [
    {
     "data": {
      "text/plain": [
       "['inhoe', 'yesong', 'jaewook', 'yeha', 'suun']"
      ]
     },
     "execution_count": 69,
     "metadata": {},
     "output_type": "execute_result"
    }
   ],
   "source": [
    "# copy : 함께 사라지지 않음(다른 객체를 만듦)\n",
    "# alias : 함께 사라짐(별칭)\n",
    "\n",
    "# copy\n",
    "# - indepenent list\n",
    "# - modifying copy does not impact original\n",
    "students = ['inhoe', 'yesong', 'jaewook', 'yeha', 'suun']\n",
    "students_copy = students[:]\n",
    "students_copy # 0,1,2,,,5까지 index 새롭게 생기고 value 가리킴\n",
    "\n",
    "# alias\n",
    "# - 동일한 인덱스로 같은 value를 가리키는 별명\n",
    "# another name referring to the ** same ** list\n",
    "# modifying alias DOES impact original\n"
   ]
  },
  {
   "cell_type": "code",
   "execution_count": 70,
   "metadata": {},
   "outputs": [
    {
     "name": "stdout",
     "output_type": "stream",
     "text": [
      "['inhoe', 'yesong', 'jaewook', 'yeha', 'suun']\n",
      "['inhoe', 'yesong', 'jaewook', 'yeha', 'suun']\n",
      "['inhoe', 'yesong', 'jaewook', 'yeha']\n"
     ]
    }
   ],
   "source": [
    "students_copy\n",
    "del students_copy[-1]\n",
    "students_copy # students not changed at all\n",
    "print(students)\n",
    "\n",
    "students_alias = students\n",
    "print(students_alias)\n",
    "del students_alias[-1] \n",
    "print(students) # students[-1] is removed\n"
   ]
  },
  {
   "cell_type": "code",
   "execution_count": 72,
   "metadata": {},
   "outputs": [
    {
     "name": "stdout",
     "output_type": "stream",
     "text": [
      "['inhoe', 'yesong', 'jaewook']\n",
      "['inhoe', 'yesong']\n"
     ]
    }
   ],
   "source": [
    "# Parameter as Alias\n",
    "\n",
    "# func parameters are variables,\n",
    "# list parameters cause aliasing\n",
    "def remove_last_item(L : list) -> list :\n",
    "  if len(L) > 0 :\n",
    "    del L[-1]\n",
    "  else :\n",
    "    print('The list is empty.')\n",
    "# L이 students의 alias\n",
    "# return이 없어도 원본 list가 함수 안에서 바뀔수 있음\n",
    "    \n",
    "print(students)\n",
    "remove_last_item(students)\n",
    "print(students)\n",
    "\n"
   ]
  },
  {
   "cell_type": "code",
   "execution_count": 73,
   "metadata": {},
   "outputs": [],
   "source": [
    "# Parameters as alias - memory model\n",
    "\n",
    "# Frames - global : remove_last_item(), students\n",
    "# objects - 1. func remove_last_item, 0>'inhoe', 1>'yesong' ,,,\n",
    "\n",
    "# 실행\n",
    "# frame(name space) - 1. global, 2. remove_last_item : L(지역 변수)\n",
    "# objects - L > students list object를 가리킴\n",
    "\n",
    "# 종료\n",
    "# remove_last_item namespace가 사라지고 L이라는 지역변수도 사라지지만\n",
    "# remove가 시행된 list는 삭제된 채로 남아있음\n"
   ]
  },
  {
   "cell_type": "code",
   "execution_count": null,
   "metadata": {},
   "outputs": [],
   "source": [
    "# Summary\n",
    "\n",
    "# using a slice : copying\n",
    "# using a name : Alias\n",
    "# a function can change a list through an alias\n",
    "# sol) \n",
    "# 1. list_copy = list\n",
    "# 2. func(list_copy)"
   ]
  }
 ],
 "metadata": {
  "kernelspec": {
   "display_name": "base",
   "language": "python",
   "name": "python3"
  },
  "language_info": {
   "codemirror_mode": {
    "name": "ipython",
    "version": 3
   },
   "file_extension": ".py",
   "mimetype": "text/x-python",
   "name": "python",
   "nbconvert_exporter": "python",
   "pygments_lexer": "ipython3",
   "version": "3.11.5"
  }
 },
 "nbformat": 4,
 "nbformat_minor": 2
}
