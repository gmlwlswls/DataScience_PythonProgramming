{
 "cells": [
  {
   "cell_type": "code",
   "execution_count": null,
   "metadata": {},
   "outputs": [],
   "source": [
    "# review\n",
    "\n",
    "# - Algorithm design\n",
    "# list, set , dict 형태가 좋겠다를 고민하는 의사결정 과정을 보여줘야 신뢰\n",
    "# algorithm\n",
    "\n",
    "# - Testing and debugging\n",
    "# QA process : test case(boundary case, )\n",
    "# debugging : 10000줄짜리 code에서 어디서 문제인지 확인하기 위해 위부터 차례대로 확인\n"
   ]
  },
  {
   "cell_type": "code",
   "execution_count": null,
   "metadata": {},
   "outputs": [],
   "source": [
    "# Data Structures\n",
    "\n",
    "# list - mutable(추가, 제거 가능), ordered, value : mutable\n",
    "# tuple - immutable, ordered, value : mutable 가능 ([1,2,3]) o - list안에 들어가면 조작이 가능\n",
    "# set - mutable, not ordered, value : immutable {[1,2,3]} x - 안에 들어가서 수정 불가능\n",
    "# dict - mutable, ordered, key, value : value - mutable\n",
    "\n",
    "# 이 데이터 구조들은 메서드를 제공 - append, pop, insert, remove, get, size\n",
    "# 이 메서드들이 어떻게 구현되었는가??"
   ]
  },
  {
   "cell_type": "code",
   "execution_count": null,
   "metadata": {},
   "outputs": [],
   "source": [
    "# Looking into Lists - Arrays(list의 하부 구조)\n",
    "\n",
    "# We need to declare memory boxes for storing information\n",
    "# Ex. A = 1 declares ** a memory box ** to store an integer object A\n",
    "\n",
    "# An array is an object comprising a numbered sequence of memory boxes\n",
    "# - This is a more fundamental data structure(no method at all) that Python lists are built on\n",
    "# - This is why we can easily access the i-th element of list A by using A[i]\n",
    "# - 만약 10개를 저장하고 싶으면 10개의 중구난방한 memory box, 위치\n",
    "# - array는 메모리주소를 이웃한 곳에 저장 ex. 101, 102, ,,,\n",
    "# ** 첫번째 element의 메모리주소만 알면 임의의 순서의 메모리주소를 알 수 있음 ** \n",
    "\n",
    "# An array comprises\n",
    "# Fixed integer length(N) - should be set when initializing it\n",
    "# : 처음에 길이 N을 정해야 함 - 처음 N개의 연속된 비어있는 공간을 찾아야 하기 때문\n",
    "# A sequence of N memory boxes(numbered - through N-1)\n",
    "\n",
    "# List : dynamic length(append, pop, remove ,,)\n",
    "# Array : fixed length\n",
    "# Array > List by \"Array resizing\"\n",
    "\n",
    "# list = [1,2,3,4,5]\n",
    "# list의의 주소 : 500, 504, 508, 512, 516\n",
    "# 저장된 값(포인터) : 101, 102, 103, 104, 105(1,2,3,4,5 각각의 실제 주소) - 메모리 오버헤드 발생\n",
    "\n",
    "# array(1,2,3,4,5)\n",
    "# array 주소 : 200, 204, 208, 212, 216\n",
    "# 저장된 값 : 1,2,3,4,5\n",
    "# 기존 배열이 101~116에 저장되어 있는데 120부터 다른 프로그램이 메모리를 사용중이라면?\n",
    "# 기존 메모리를 버리고 새로운 더 큰 연속된 공간을 할당해야 해서\n",
    "# 미리 200~216까지의 메모리를 할당하고(16크기의) 거기에 값는 5개를 할당"
   ]
  },
  {
   "cell_type": "code",
   "execution_count": null,
   "metadata": {},
   "outputs": [],
   "source": [
    "# Array Resizing\n",
    "# Two problems of an array due to its fized length\n",
    "# 1) Memory wastage : If it contains only n(<<N) valid elements (메모리 낭비 n<N)\n",
    "# 2) Memory shortage : If it wants to contain more than N elements (메모리 부족 n>N)\n",
    "\n",
    "# Array resizing\n",
    "# : create another larger array and copy all the elements\n",
    "#   10개짜리 array에 3을 추가하고 싶다고 하면\n",
    "#   이전 10개짜리 array를 지우고 11개의 memory 공간을 새로 찾고 10개를 복사하고 1개의 값을 복사\n",
    "# 문제 1) copy작업(array resizing) is expensive : new memory boxes and copy operation\n",
    "# 문제 2) resizing 1개씩? 100개씩?\n",
    "# - Increasing size by one every time is not efficient (too many resizing)\n",
    "# - Increasing size too much at once is not efficient either (memory wastage)\n",
    "\n",
    "# Python 방법\n",
    "# To resize fewer, Python list size grows as 0, 4, 8, 16, 25, 35, 46, 58, ,,,\n",
    "# 현재의 리스트 사이즈에 비례해서 resizing : 4가 차면 8로 늘리고 8이 차면 16으로 증가가\n",
    "# - Mild over-allocation proportional to the current size\n",
    "#   : 한 번에 1개를 증가시키지도 않고 100개를 증가시키지도 않는 방법"
   ]
  },
  {
   "cell_type": "code",
   "execution_count": null,
   "metadata": {},
   "outputs": [],
   "source": [
    "# Anyway... is there another way of organizing \n",
    "# a collection of data to support append and pop easily?\n"
   ]
  }
 ],
 "metadata": {
  "kernelspec": {
   "display_name": "base",
   "language": "python",
   "name": "python3"
  },
  "language_info": {
   "codemirror_mode": {
    "name": "ipython",
    "version": 3
   },
   "file_extension": ".py",
   "mimetype": "text/x-python",
   "name": "python",
   "nbconvert_exporter": "python",
   "pygments_lexer": "ipython3",
   "version": "3.11.5"
  }
 },
 "nbformat": 4,
 "nbformat_minor": 2
}
