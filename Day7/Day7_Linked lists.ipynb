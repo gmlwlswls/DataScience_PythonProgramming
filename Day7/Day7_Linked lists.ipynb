{
 "cells": [
  {
   "cell_type": "markdown",
   "metadata": {},
   "source": [
    "## Linked lists"
   ]
  },
  {
   "cell_type": "code",
   "execution_count": 20,
   "metadata": {},
   "outputs": [],
   "source": [
    "# Linked lists\n",
    "# : i-st element > i+1 nd element로 가는 link가 존재\n",
    "# : neighboring 안해도 됨(연속된 메모리 주소 있을 필요 x -> resizing 필요 없음)\n",
    "\n",
    "# array \n",
    "# 5번째 element > 1번째 element 주소 알면 자동으로 알 수 있음\n"
   ]
  },
  {
   "cell_type": "markdown",
   "metadata": {},
   "source": [
    "### 01. class LinkNode"
   ]
  },
  {
   "cell_type": "code",
   "execution_count": null,
   "metadata": {},
   "outputs": [],
   "source": [
    "# Basis \n",
    "# : Let's define a class that contains a single integer value as below\n",
    "\n",
    "# LinkedNode : linked list의 하나의 단위\n",
    "class LinkedNode() :\n",
    "  def __init__(self, x): # linked node 하나에는 value 1개(x)\n",
    "    self.val = x\n",
    "    self.next = None # A special variable for linking to another node\n",
    "# array에서는 x라는 value만 필요했는데 \n",
    "# linked_list는 다음 value의 위치가 어디인지 알려주는 value(next)가 추가로 필요"
   ]
  },
  {
   "cell_type": "code",
   "execution_count": null,
   "metadata": {},
   "outputs": [
    {
     "name": "stdout",
     "output_type": "stream",
     "text": [
      "None\n",
      "7\n",
      "7\n",
      "<__main__.LinkedNode object at 0x0000022392049A90>\n",
      "<__main__.LinkedNode object at 0x0000022392049A90>\n"
     ]
    }
   ],
   "source": [
    "# Two LinkedNodes AND link them\n",
    "a = LinkedNode(5)\n",
    "a.val # 5\n",
    "print(a.next) # None\n",
    "\n",
    "b = LinkedNode(7)\n",
    "b.val # 7\n",
    "\n",
    "# link a, b\n",
    "a.next = b\n",
    "\n",
    "# Then,\n",
    "print(a.next.val)\n",
    "print(b.val) # 7\n",
    "    \n",
    "# Now we can access b(=LinkedNode(7)) through LinkedNode a because they are linked!\n",
    "\n",
    "print(b)\n",
    "print(a.next)\n",
    "# 메모리 주소 동일 by linking"
   ]
  },
  {
   "cell_type": "markdown",
   "metadata": {},
   "source": [
    "### 02. Simple Linked Lists"
   ]
  },
  {
   "cell_type": "code",
   "execution_count": null,
   "metadata": {},
   "outputs": [],
   "source": [
    "class LinkedNode() :\n",
    "  def __init__(self, x): # linked node 하나에는 value 1개(x)\n",
    "    self.val = x\n",
    "    self.next = None # A special variable for linking to another node"
   ]
  },
  {
   "cell_type": "code",
   "execution_count": null,
   "metadata": {},
   "outputs": [],
   "source": [
    "# Single Linked Lists\n",
    "# double : previous, next\n",
    "\n",
    "# A lined list whose node has a ** single ** link as we've just seen\n",
    "# - Every node can be access through the first node(한 번에 갈 순 없고 타고 가서)\n",
    "\n",
    "# An example of a SLList consisting of two basic methods and one variable\n",
    "\n",
    "class SLList :\n",
    "  def __init__(self): # 값 초기화\n",
    "    self.first = None\n",
    "        \n",
    "  def addFirst(self, x : int) : # 첫번째 node(first)에 연결\n",
    "    linked_node = LinkedNode(x) # Node 객체를 관리해서 첫 번째 노드를 가리키는 역할\n",
    "                                # linked_node.val = x\n",
    "    linked_node.next = self.first \n",
    "    self.first = linked_node # 객체(first, next를 가진)가 저장이 됨\n",
    "  \n",
    "  def getFirst(self) : # 첫번째 node(first)의 value\n",
    "    if self.first :\n",
    "      return self.first.val # self.first = LinkedNode(x)\n",
    "    return None"
   ]
  },
  {
   "cell_type": "code",
   "execution_count": null,
   "metadata": {},
   "outputs": [
    {
     "data": {
      "text/plain": [
       "10"
      ]
     },
     "execution_count": 31,
     "metadata": {},
     "output_type": "execute_result"
    }
   ],
   "source": [
    "L = SLList()\n",
    "L.addFirst(5) # linked_node.next = None, self.first = LinkedNode(5) - self.val = 5, self.next = None\n",
    "L.getFirst() # self.first = 5 > self.first.val = 5\n",
    "\n",
    "L.addFirst(10) # linked_node.next = 5(self.first), self.first = Linked_node(10) - self.val = 10, self.next= 5\n",
    "L.getFirst() # self.first = 10 > self.first.next = 10\n"
   ]
  },
  {
   "cell_type": "code",
   "execution_count": null,
   "metadata": {},
   "outputs": [],
   "source": [
    "# Single-linked list practice)\n",
    "\n",
    "class LinkedNode :\n",
    "  def __init__(self, x):\n",
    "    self.val = x\n",
    "    self.next = None\n",
    "\n",
    "class SLList :\n",
    "  def __init__(self):\n",
    "    self.first = None\n",
    "  \n",
    "  def addFirst(self, x) :\n",
    "    linked_node = LinkedNode(x)\n",
    "    linked_node.next = self.first\n",
    "    self.first = linked_node\n"
   ]
  },
  {
   "cell_type": "code",
   "execution_count": null,
   "metadata": {},
   "outputs": [],
   "source": [
    "# Single-linked list with sentinel practice)\n",
    "\n",
    "class LinkedNode :\n",
    "  def __init__(self, x):\n",
    "    self.val = x\n",
    "    self.next = None\n",
    "\n",
    "class SLList :\n",
    "  def __init__(self):\n",
    "    self.sentinel = LinkedNode(0)\n",
    "    self.size = 0\n",
    "    \n",
    "  def addfirst(self, x) :\n",
    "    linked_node = LinkedNode(x)\n",
    "    linked_node.next = self.sentinel.next \n",
    "    self.sentinel.next = linked_node\n"
   ]
  },
  {
   "cell_type": "markdown",
   "metadata": {},
   "source": [
    "Let's add more function to make our linked list useful!"
   ]
  },
  {
   "cell_type": "code",
   "execution_count": null,
   "metadata": {},
   "outputs": [],
   "source": [
    "# 1) getSize()\n",
    "# - linked list의 길이 반환\n",
    "\n",
    "class LinkedNode :\n",
    "  def __init__(self, x):\n",
    "    self.val = x\n",
    "    self.next = None\n",
    "\n",
    "class SLList_getsize :\n",
    "  def __init__(self):\n",
    "    self.first = None\n",
    "  \n",
    "  def addFirst(self, x: int) :\n",
    "    link_node = LinkedNode(x)\n",
    "    link_node.next = self.first # link_node.next에 먼저 값 입력\n",
    "    self.first = link_node # 마지막에 self.first에 link_node 객체(val, next 있는는) 저장\n",
    "  \n",
    "  def getFirst(self) :\n",
    "    if self.first :\n",
    "      return self.first.val\n",
    "    return None\n",
    "  \n",
    "  def getSize(self) :\n",
    "    # linked_list의 길이\n",
    "    # linked_list를 타고 끝까지 감\n",
    "    # 타고 갈 때마다 size + 1\n",
    "    current_node = self.first # 마지막 linked_node ex. val : 5, next : 4\n",
    "    size = 0\n",
    "    while current_node != None : \n",
    "      size += 1\n",
    "      current_node = current_node.next # current_node.next는 ** 이전 단계의 self.first ** = 이전 단계의 link_node \n",
    "                                       # ex. val : 5, next : 4 ,,, val : 1, next : None > 5번(5,4 > 4,3 > 3,2 > 2,1 > 1, None)\n",
    "                                       # 최종 class_node = None으로 while문 빠져나옴                              \n",
    "    return size\n"
   ]
  },
  {
   "cell_type": "code",
   "execution_count": 39,
   "metadata": {},
   "outputs": [
    {
     "data": {
      "text/plain": [
       "3"
      ]
     },
     "execution_count": 39,
     "metadata": {},
     "output_type": "execute_result"
    }
   ],
   "source": [
    "L = SLList_getsize()\n",
    "L.addFirst(5)\n",
    "L.addFirst(10)\n",
    "L.getFirst()  # 10\n",
    "L.getSize() # 2\n",
    "L.addFirst(0)\n",
    "L.getSize() # 3"
   ]
  },
  {
   "cell_type": "code",
   "execution_count": null,
   "metadata": {},
   "outputs": [],
   "source": [
    "# 기존 getSize()는는\n",
    "# But it takes O(N) time...\n",
    "# How to reduce the time cost?\n",
    "\n",
    "# sol) size를 별도의 variable로 저장하면 return size만 하면 됨\n",
    "\n",
    "class LinkedNode :\n",
    "  def __init__(self, x):\n",
    "    self.val = x\n",
    "    self.next = None\n",
    "\n",
    "class SLList_getsize_reduced :\n",
    "  def __init__(self):\n",
    "    self.first = None\n",
    "    self.size = 0\n",
    "  \n",
    "  def addFirst(self, x: int) :\n",
    "    link_node = LinkedNode(x)\n",
    "    link_node.next = self.first\n",
    "    self.first = link_node\n",
    "    self.size += 1\n",
    "  \n",
    "  def getFirst(self) :\n",
    "    if self.first :\n",
    "      return self.first.val\n",
    "    return None\n",
    "  \n",
    "  def getSize(self) :\n",
    "    return self.size\n",
    "  # O(1)!\n"
   ]
  },
  {
   "cell_type": "code",
   "execution_count": 41,
   "metadata": {},
   "outputs": [
    {
     "data": {
      "text/plain": [
       "3"
      ]
     },
     "execution_count": 41,
     "metadata": {},
     "output_type": "execute_result"
    }
   ],
   "source": [
    "L = SLList_getsize_reduced()\n",
    "L.addFirst(5)\n",
    "L.addFirst(10)\n",
    "L.getFirst()  # 10\n",
    "L.getSize() # 2\n",
    "L.addFirst(0)\n",
    "L.getSize() # 3"
   ]
  },
  {
   "cell_type": "code",
   "execution_count": null,
   "metadata": {},
   "outputs": [],
   "source": [
    "# 2) append() : 가장 뒤에 이어서 붙임 \n",
    "# Now we want to append a new node at the end of a linked list\n",
    "\n",
    "class LinkedNode :\n",
    "  def __init__(self, x):\n",
    "    self.val = x\n",
    "    self.next = None\n",
    "\n",
    "class SLList_append :\n",
    "  def __init__(self):\n",
    "    self.first = None # linkednode가 들어가야 함 - 참조할 수 있도록 \n",
    "    self.size = 0\n",
    "  \n",
    "  def addFirst(self, x: int) :\n",
    "    self.size += 1\n",
    "    link_node = LinkedNode(x)\n",
    "    link_node.next = self.first # 이전 link_node\n",
    "    self.first = link_node # 새로운 link_node\n",
    "\n",
    "  def append(self, x: int) :\n",
    "    self.size += 1\n",
    "    if not self.first : # current node None이면\n",
    "      self.first = LinkedNode(x) # val : x, next= None\n",
    "    else :\n",
    "      current_node = self.first # self.first에 마지막 linked_node\n",
    "      while current_node.next : # None이 아니라면 실행 - None이 되는 순간 > link_node(self.first) = val, None\n",
    "        current_node = current_node.next\n",
    "      current_node.next = LinkedNode(x) # None인 next자리에 linkednode(x)를 부여\n",
    "        \n",
    "  def getFirst(self) :\n",
    "    if self.first :\n",
    "      return self.first.val\n",
    "    return None\n",
    "  \n",
    "  def getLast(self) : # 끝값으로 이동하는 코드 포함해야 함 \n",
    "    if not self.first :\n",
    "      return None\n",
    "    else :\n",
    "      current_node = self.first\n",
    "      while current_node.next != None : # current_node = linkedNode(x) > next메서드 없으므로 종료 \n",
    "        current_node = current_node.next # append가 작동했다면 마지막 current_node.next = linkedNode(x)\n",
    "      return current_node.val # linkedNode(x)의 val = 마지막 값  \n",
    "    \n",
    "  def getSize(self) :\n",
    "    return self.size\n",
    "  "
   ]
  },
  {
   "cell_type": "code",
   "execution_count": 56,
   "metadata": {},
   "outputs": [
    {
     "data": {
      "text/plain": [
       "10"
      ]
     },
     "execution_count": 56,
     "metadata": {},
     "output_type": "execute_result"
    }
   ],
   "source": [
    "L = SLList_append()\n",
    "\n",
    "L.addFirst(5)\n",
    "L.addFirst(3)\n",
    "L.append(10) # 처음 addFirst없이 실행시 Nonetype으로 입력되어 next 메서드가 없는 오류가 발생\n",
    "L.getFirst()\n",
    "L.getLast()"
   ]
  },
  {
   "cell_type": "markdown",
   "metadata": {},
   "source": [
    "### 03. Linked Lists with Sentinel"
   ]
  },
  {
   "cell_type": "code",
   "execution_count": 1,
   "metadata": {},
   "outputs": [],
   "source": [
    "# Single Linked Lists - Sentinel Node(감시자)\n",
    "# - We now replace first with sentinel, which is a dummy code\n",
    "\n",
    "# sentinel > val = ? next = None\n",
    "# None이 아닌 실제 node를 가리키는 역할\n",
    "\n",
    "# Sentinel is never None! (?, next)\n",
    "# ** Sentinel.next is the real first node **\n",
    "# append에서 예외를 만들 필요없어짐\n",
    "\n",
    "class LinkedNode :\n",
    "  def __init__(self, x):\n",
    "    self.val = x\n",
    "    self.next = None\n",
    "\n",
    "class SLList_sentinel :\n",
    "  def __init__(self):\n",
    "    self.sentinel = LinkedNode(0) # 아무 값\n",
    "    self.size = 0\n",
    "  \n",
    "  def addFirst(self, x) :\n",
    "    link_node = LinkedNode(x)\n",
    "    link_node.next = self.sentinel.next # sentinel.next만\n",
    "    self.sentinel.next = link_node # link node 전체\n",
    "    self.size += 1\n",
    "\n",
    "  def getFirst(self) :\n",
    "    if self.sentinel.next :\n",
    "      return self.sentinel.next.val\n",
    "    return None\n",
    "   \n",
    "  def getSize(self) :\n",
    "    return self.size\n",
    "  \n",
    "  def append(self, x: int) :\n",
    "    self.size += 1\n",
    "    current_node = self.sentinel\n",
    "    while current_node.next != None :\n",
    "      current_node = current_node.next\n",
    "    current_node.next = LinkedNode(x)\n"
   ]
  },
  {
   "cell_type": "code",
   "execution_count": 2,
   "metadata": {},
   "outputs": [
    {
     "data": {
      "text/plain": [
       "10"
      ]
     },
     "execution_count": 2,
     "metadata": {},
     "output_type": "execute_result"
    }
   ],
   "source": [
    "L = SLList_sentinel()\n",
    "L.append(10)\n",
    "L.getFirst()"
   ]
  },
  {
   "cell_type": "code",
   "execution_count": 3,
   "metadata": {},
   "outputs": [
    {
     "data": {
      "text/plain": [
       "1"
      ]
     },
     "execution_count": 3,
     "metadata": {},
     "output_type": "execute_result"
    }
   ],
   "source": [
    "L.getSize()"
   ]
  },
  {
   "cell_type": "code",
   "execution_count": 5,
   "metadata": {},
   "outputs": [
    {
     "data": {
      "text/plain": [
       "0"
      ]
     },
     "execution_count": 5,
     "metadata": {},
     "output_type": "execute_result"
    }
   ],
   "source": [
    "L.addFirst(0)\n",
    "L.getSize()\n",
    "L.getFirst()"
   ]
  },
  {
   "cell_type": "markdown",
   "metadata": {},
   "source": [
    "- Looking Forward ..."
   ]
  },
  {
   "cell_type": "code",
   "execution_count": null,
   "metadata": {},
   "outputs": [],
   "source": [
    "# Problem : append() is still much lower than addFirst() - 너무 느림 O(N)\n",
    "\n",
    "# Solution) Doubly linked list (DLList)\n",
    "# - add another sentinel at the back\n",
    "# - Each node has not only next but also prev(pointing at the previous node)\n",
    "# - next_link(add_first), prev_link(add_last)\n",
    "\n",
    "# dq module : Doubly linked list를 쓸 수 있음\n"
   ]
  },
  {
   "cell_type": "code",
   "execution_count": 1,
   "metadata": {},
   "outputs": [],
   "source": [
    "class LinkedNode :\n",
    "  def __init__(self, x):\n",
    "    self.val = x\n",
    "    self.next = None"
   ]
  },
  {
   "cell_type": "code",
   "execution_count": null,
   "metadata": {},
   "outputs": [],
   "source": [
    "# Linked list without Sentinel\n",
    "\n",
    "class SLList :\n",
    "  def __init__(self):\n",
    "    self.linked_list = None # (current_val, prior_linked_nodes) Simple : (x3, (x2, (x1, None))) vs Sentinel : (0, (x3, (x2, (x1, None))))\n",
    "    self.size = 0\n",
    "    \n",
    "  def addfirst(self, x) : # 처음값으로 추가\n",
    "    linked_node = LinkedNode(x)\n",
    "    linked_node.next = self.linked_list\n",
    "    self.linked_list = linked_node\n",
    "    self.size += 1\n",
    "    \n",
    "  def append(self, x) : # 끝에 더하기\n",
    "    self.size += 1\n",
    "    linked_node = LinkedNode(x)\n",
    "    if not self.linked_list : # None이면 False + not > True\n",
    "      self.linked_list = linked_node\n",
    "    else :\n",
    "      current_node = self.linked_list\n",
    "      while current_node.next != None :\n",
    "        current_node = current_node.next\n",
    "      current_node.next = linked_node\n",
    "  \n",
    "  def getfirst(self) :\n",
    "    if self.linked_list :\n",
    "      return self.linked_list.val\n",
    "    return None\n",
    "  \n",
    "  def getLast(self) :\n",
    "    if not self.linked_list :\n",
    "      return None\n",
    "    else :\n",
    "      current_node = self.linked_list\n",
    "      while current_node.next != None :\n",
    "        current_node = current_node.next\n",
    "      return current_node.val\n",
    "    \n",
    "  def getsize(self) :\n",
    "    return self.size "
   ]
  },
  {
   "cell_type": "code",
   "execution_count": 4,
   "metadata": {},
   "outputs": [
    {
     "name": "stdout",
     "output_type": "stream",
     "text": [
      "1\n",
      "3\n",
      "3\n"
     ]
    }
   ],
   "source": [
    "sllist = SLList()\n",
    "\n",
    "sllist.addfirst(1)\n",
    "sllist.append(2)\n",
    "sllist.append(3)\n",
    "\n",
    "print(sllist.getfirst())\n",
    "print(sllist.getLast())\n",
    "print(sllist.getsize())\n"
   ]
  },
  {
   "cell_type": "code",
   "execution_count": null,
   "metadata": {},
   "outputs": [],
   "source": [
    "# Linked list with Sentinel\n",
    "\n",
    "class SLList_sentinel :\n",
    "  def __init__(self):\n",
    "    self.sentinel = LinkedNode(0)  #  (0, (current_val, prior_linked_lists)) ex. (0, (x3, (x2, (x1, None))))\n",
    "    self.size = 0\n",
    "    \n",
    "  def addfirst(self, x) :\n",
    "    self.size += 1\n",
    "    linked_node = LinkedNode(x)\n",
    "    linked_node.next = self.sentinel.next\n",
    "    self.sentinel.next = linked_node\n",
    "  \n",
    "  def append(self, x) :\n",
    "    self.size += 1\n",
    "    current_node = self.sentinel.next\n",
    "    while current_node.next != None :\n",
    "      current_node = current_node.next\n",
    "    current_node.next = LinkedNode(x)\n",
    "  \n",
    "  def getfirst(self) :\n",
    "    return self.sentinel.next.val\n",
    "\n",
    "  def getlast(self) :\n",
    "    current_node = self.sentinel.next\n",
    "    while current_node.next != None :\n",
    "      current_node = current_node.next\n",
    "    return current_node.val\n",
    "  \n",
    "  def getsize(self) :\n",
    "    return self.size\n",
    "    "
   ]
  },
  {
   "cell_type": "code",
   "execution_count": 8,
   "metadata": {},
   "outputs": [
    {
     "name": "stdout",
     "output_type": "stream",
     "text": [
      "1\n",
      "3\n",
      "3\n"
     ]
    }
   ],
   "source": [
    "sllist_sentinel = SLList_sentinel()\n",
    "\n",
    "sllist_sentinel.addfirst(1)\n",
    "sllist_sentinel.append(2)\n",
    "sllist_sentinel.append(3)\n",
    "\n",
    "print(sllist_sentinel.getfirst())\n",
    "print(sllist_sentinel.getlast())\n",
    "print(sllist_sentinel.getsize())"
   ]
  }
 ],
 "metadata": {
  "kernelspec": {
   "display_name": "base",
   "language": "python",
   "name": "python3"
  },
  "language_info": {
   "codemirror_mode": {
    "name": "ipython",
    "version": 3
   },
   "file_extension": ".py",
   "mimetype": "text/x-python",
   "name": "python",
   "nbconvert_exporter": "python",
   "pygments_lexer": "ipython3",
   "version": "3.11.5"
  }
 },
 "nbformat": 4,
 "nbformat_minor": 2
}
