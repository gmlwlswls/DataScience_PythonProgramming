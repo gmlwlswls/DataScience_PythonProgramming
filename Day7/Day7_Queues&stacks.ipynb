{
 "cells": [
  {
   "cell_type": "code",
   "execution_count": null,
   "metadata": {},
   "outputs": [],
   "source": [
    "# Review\n",
    "\n",
    "# Arrays : list의 하위 구조\n",
    "# - 값의 주소를 가리키지 않고 값 자체\n",
    "# - 메모리 주소를 ** 연속된 주소로 할당 ** (특징) > 첫번째 알면 5번째 알 수 있음\n",
    "# - A sequence of ** neighboring ** memory boxes\n",
    "#  -> Know where an arbitrary (i-th) element is located, by using the neighboring rule\n",
    "#  Limitation) Fixed length and Expensive resizing(부족하거나 넘치거나)\n",
    "#  because, make a brand-new array + copy all the existing elements\n",
    "#  Improvement) Resizing \"step\" adjustment (101, 105, 109, ,,,)\n",
    "\n",
    "# Linked lists\n",
    "# - array의 resisze 단점을 보완(link만 되어 있으면 주소 아무데나 할당해도 ok)\n",
    "# - A list of nodes each of which has ** a link to another node **\n",
    "#   > Know where the next element is located, by using the next pointer\n",
    "#   Limitation) Don't know what is where - Frequent navigation through the list\n",
    "#               한 번에 찾지 못하고 계속 주소를 타고 들어가야 함\n",
    "#   Improvement) Caching and sentinel(가상의 first dummy node)\n"
   ]
  },
  {
   "cell_type": "code",
   "execution_count": null,
   "metadata": {},
   "outputs": [],
   "source": [
    "# array vs list\n",
    "# array는 특정 값의 주소를 (1,2,3) 연속된 주소에 할당하지만\n",
    "# list는 특정 값의 주소(1의 주소 : 101, 2의 주소 : 402)를 연속된 주소에 할당\n"
   ]
  },
  {
   "cell_type": "markdown",
   "metadata": {},
   "source": [
    "## Queues"
   ]
  },
  {
   "cell_type": "code",
   "execution_count": null,
   "metadata": {},
   "outputs": [],
   "source": [
    "# Queue - a First In and First Out Data Structure\n",
    "# FIFO - First enqeued element is deqeued first\n",
    "\n",
    "# Queue has two methods\n",
    "# - enqueue(x) : add an element to the queue\n",
    "# - dequeue() : remove the ** oldest ** (first) element from the queue\n",
    "\n",
    "# linked list를 활용해서 구현 가능\n",
    "# 처음 들어온 것을 알고 뺄 때 이것을 빼고 새로운 것이 들어오면 한 칸씩 밀 것\n"
   ]
  },
  {
   "cell_type": "markdown",
   "metadata": {},
   "source": [
    "## Stacks"
   ]
  },
  {
   "cell_type": "code",
   "execution_count": null,
   "metadata": {},
   "outputs": [],
   "source": [
    "# Stack - a Last In and First Out Data Structure\n",
    "# LIFO - Last pushed element is popped first\n",
    "\n",
    "# Stack has two methods\n",
    "# - push(x) : add an element to the stack\n",
    "# - pop() : remove the ** newest **(last) element from the stack\n",
    "\n",
    "# Use cases)\n",
    "# Undo function : Ctrl + z - 바로 이전의 작업으로 복귀\n",
    "# Parentheses matching : ((){}[]) - 괄호를 열 때마다 가장 최근에 열린 것과 match\n",
    "\n",
    "# C programming - func, variable 저장 방식(메모리 할당)이 stack\n",
    "# > 가장 나중에 시작한 func이 먼저 끝남 A func(B func(C func))\n",
    "# > A func > B func > C func - C부터 메모리 공간 빠짐"
   ]
  }
 ],
 "metadata": {
  "kernelspec": {
   "display_name": "base",
   "language": "python",
   "name": "python3"
  },
  "language_info": {
   "name": "python",
   "version": "3.11.5"
  }
 },
 "nbformat": 4,
 "nbformat_minor": 2
}
