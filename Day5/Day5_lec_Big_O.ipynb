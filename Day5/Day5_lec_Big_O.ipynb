{
 "cells": [
  {
   "cell_type": "markdown",
   "metadata": {},
   "source": [
    "Day5"
   ]
  },
  {
   "cell_type": "markdown",
   "metadata": {},
   "source": [
    "## Two Types of Program Cost"
   ]
  },
  {
   "cell_type": "code",
   "execution_count": null,
   "metadata": {},
   "outputs": [],
   "source": [
    "# Execution cost\n",
    "# Time complexity of a program(how much time?)\n",
    "# Memory complexity of a program(how much memory?)\n",
    "\n",
    "# Programming cost(very important in practice, but not a focus in this course)\n",
    "# Development time\n",
    "# : What if you develop a very nice program a year later than your competitor?\n",
    "# Readibility, modifiability, and maintainability\n",
    "# : Super important for real-world products(majority of cost actually ...)\n",
    "\n"
   ]
  },
  {
   "cell_type": "markdown",
   "metadata": {},
   "source": [
    "#### 01. Measuring Time Complexity"
   ]
  },
  {
   "cell_type": "code",
   "execution_count": 1,
   "metadata": {},
   "outputs": [],
   "source": [
    "# Measure execution time in seconds using a client program (ex. time module)\n",
    "# +) Easy to measure\n",
    "# -) large amounts of time might be required. (1시간 알고리즘 확인하려면 실제로 1시간이 필요) \n",
    "# -) Results depend on lots of factors(machine, compiler, data ...)\n",
    "\n",
    "# Count possible operations in terms of input list size N\n",
    "# : input size N에 따른 가능한 계산식\n",
    "# +) Machine independent, Gives algorithm's scalability(N에 비례해서 보여줌)\n",
    "# -) Tedious to compute, (if, else 몇 번 실행되는지 계산 일일이 하고 있어야 함)\n",
    "# sol) asymptotic behavior (n이 무한대로 갈 때만 나타내게 간소화)\n"
   ]
  },
  {
   "cell_type": "markdown",
   "metadata": {},
   "source": [
    "- Count Possible Operations"
   ]
  },
  {
   "cell_type": "code",
   "execution_count": 2,
   "metadata": {},
   "outputs": [],
   "source": [
    "# Operation == Count : 1 to N\n",
    "# Smallest=i Count : N\n",
    "# < Count (N^^2 - N)/2\n",
    "# Smallest= j count : 0 to (N**2-N)/2\n",
    "\n",
    "# -> 일일이 계산할 수 없음\n",
    "# What is important for Asymptotic Analysis? (n이 무한대)\n",
    "# Algorithm1 : 2N**2\n",
    "# Algorithm2 : 500N\n",
    "# : Algorithm 1 is faster than Algorithm 2 for a small N(0~200)\n",
    "# : but becomes much slower for a very large N(200~)\n",
    "\n",
    "# What is important? : Not a specific value but a function shape!(parabola vs. line)\n",
    "# Order of growth - 상수보다는 살아남은 N**2, N"
   ]
  },
  {
   "cell_type": "markdown",
   "metadata": {},
   "source": [
    "Simplification to Find 'Order of Growth'"
   ]
  },
  {
   "cell_type": "code",
   "execution_count": 4,
   "metadata": {},
   "outputs": [],
   "source": [
    "# 1. Consider only the worst case\n",
    "\n",
    "# 2. Focus on only one operation that has the highest order of growth(지수 큰 방정식만 남김)\n",
    "\n",
    "# 3. Remove lower order terms(식 중 제일 높은 지수를 제외하고 삭제)\n",
    "\n",
    "# 4. Remove constants(상수 삭제)\n",
    "\n",
    "# Worst-case order of growth of selection sort = N**2\n"
   ]
  },
  {
   "cell_type": "markdown",
   "metadata": {},
   "source": [
    "Formal Definition"
   ]
  },
  {
   "cell_type": "code",
   "execution_count": null,
   "metadata": {},
   "outputs": [],
   "source": [
    "# If a function T(N) has its order of growth less than or equal to f(N).\n",
    "# we write this as T(n)이 O(f(N))에 포함된다\n",
    "# O is called Big-O notation\n",
    "\n",
    "# # ex)\n",
    "# Function T(N) : N**2 + 5*N**5\n",
    "# Order of Growth in terms of Big-O : O(N**5)\n",
    "\n",
    "# Function T(N) : 1/N + 100 - 1/N은 감소하는 애 오히려 상수가 나음\n",
    "# Order of Growth in terms of Big-O : O(1)\n",
    "\n",
    "# Function T(N) : 100cos(N) + N**2/50 - cos(N) : 계속 -1~1 왔다갔다거리는 값\n",
    "# Order of Growth in terms of Big-O : O(N**2)\n",
    "\n",
    "# Function T(N) : N*e**2N + 100N**2\n",
    "# Order of Growth in terms of Big-O : O(Ne**2N)\n"
   ]
  },
  {
   "cell_type": "code",
   "execution_count": null,
   "metadata": {},
   "outputs": [],
   "source": [
    "# Summary\n",
    "\n",
    "# Big O\n",
    "# A simple and formal way to represent complexity\n",
    "# Focusing on a asymptotic behavior\n",
    "# No need to run an algorithm on a machine"
   ]
  }
 ],
 "metadata": {
  "kernelspec": {
   "display_name": "base",
   "language": "python",
   "name": "python3"
  },
  "language_info": {
   "codemirror_mode": {
    "name": "ipython",
    "version": 3
   },
   "file_extension": ".py",
   "mimetype": "text/x-python",
   "name": "python",
   "nbconvert_exporter": "python",
   "pygments_lexer": "ipython3",
   "version": "3.11.5"
  }
 },
 "nbformat": 4,
 "nbformat_minor": 2
}
