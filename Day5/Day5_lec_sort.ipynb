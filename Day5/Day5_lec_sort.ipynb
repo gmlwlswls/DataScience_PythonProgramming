{
 "cells": [
  {
   "cell_type": "markdown",
   "metadata": {},
   "source": [
    "## Day5"
   ]
  },
  {
   "cell_type": "code",
   "execution_count": null,
   "metadata": {},
   "outputs": [],
   "source": [
    "# 1. selection sort\n",
    "# x_i vs min(우측 list[i:end+1]) > 작은값 있으면 swap\n",
    "\n",
    "# 2. insertion sort\n",
    "# 우측 list[i:end+1]의 가장 왼쪽 값 x_i vs 왼쪽 list[0:i]의 가장 오른쪽값부터 비교해서 swap"
   ]
  },
  {
   "cell_type": "code",
   "execution_count": null,
   "metadata": {},
   "outputs": [],
   "source": [
    "# Linear search\n",
    "# Evaluate the first item and cut the one evaluated item\n",
    "# Time proportional to len(L)\n",
    "# Applicable to any list\n",
    "\n",
    "# Binary search : sort된 list를 활용\n",
    "# Evaluate the middle item and cut the half\n",
    "# Time proportional to log2^len(L) - list크기가 클수록 그 성능차가 확실함\n",
    "# Applicable to a ** sorted list **"
   ]
  },
  {
   "cell_type": "markdown",
   "metadata": {},
   "source": [
    "### Selection Sort"
   ]
  },
  {
   "cell_type": "code",
   "execution_count": null,
   "metadata": {},
   "outputs": [],
   "source": [
    "# Why Sorting?\n",
    "# sort는 유용\n",
    "# Sorting helps searching - Binary search"
   ]
  },
  {
   "cell_type": "markdown",
   "metadata": {},
   "source": [
    "### Sort 방법"
   ]
  },
  {
   "cell_type": "markdown",
   "metadata": {},
   "source": [
    "#### 01. Selection Sort"
   ]
  },
  {
   "cell_type": "markdown",
   "metadata": {},
   "source": [
    "- Algorithm"
   ]
  },
  {
   "cell_type": "code",
   "execution_count": null,
   "metadata": {},
   "outputs": [],
   "source": [
    "# Find the min value of the unsorted list and swap it with the **leftmost** entry\n",
    "# 1-st iter) min in [0:end_idx+1] then swap(leftmost in unsorted_list)\n",
    "# 2-st iter) [0] : sorted, min in [1:11](unsorted_list)\n",
    "# ,,,\n"
   ]
  },
  {
   "cell_type": "code",
   "execution_count": 16,
   "metadata": {},
   "outputs": [
    {
     "name": "stdout",
     "output_type": "stream",
     "text": [
      "[5, -2, 0, 100, -6, 7, 4, 9, 50, 4, 3]\n",
      "[5, -2, 0, 100, 7, 4, 9, 50, 4, 3]\n"
     ]
    }
   ],
   "source": [
    "# 왼쪽에는 sorted, 오른쪽 unsorted list\n",
    "# unsorted list에서 가장 작은 값을 찾고 unsorted list의 가장 왼쪽의 값과 바꿈\n",
    "\n",
    "values_list = [5, -2, 0, 100, -6, 7, 4, 9, -7, 50, 4, 3]\n",
    "# len(values_list)\n",
    "\n",
    "# 1st iteration\n",
    "# minimum in [0:11]\n",
    "min(values_list) # 0에 있는 5값과 자리 바꿈\n",
    "sorted_list = []\n",
    "sorted_list.append(min(values_list))\n",
    "values_list.remove(-7)\n",
    "print(values_list)\n",
    "\n",
    "# 2nd iteration\n",
    "# minimum in [1:11]\n",
    "min(values_list)\n",
    "sorted_list.append(min(values_list))\n",
    "sorted_list\n",
    "values_list.remove(min(values_list))\n",
    "print(values_list)\n",
    "\n",
    "# 3rd iteration\n",
    "# minimun in [2:11] - 정렬되는 것 시작 idx로 확인"
   ]
  },
  {
   "cell_type": "markdown",
   "metadata": {},
   "source": [
    "Code"
   ]
  },
  {
   "cell_type": "code",
   "execution_count": 5,
   "metadata": {},
   "outputs": [
    {
     "data": {
      "text/plain": [
       "0"
      ]
     },
     "execution_count": 5,
     "metadata": {},
     "output_type": "execute_result"
    }
   ],
   "source": [
    "duplicate_lst = [4,4]\n",
    "min_value = min(duplicate_lst)\n",
    "min_value\n",
    "min_value_idx = duplicate_lst.index(min_value)\n",
    "min_value_idx\n"
   ]
  },
  {
   "cell_type": "code",
   "execution_count": 8,
   "metadata": {},
   "outputs": [
    {
     "data": {
      "text/plain": [
       "[-7, -6, -2, 0, 3, 4, 4, 5, 7, 9, 50, 100]"
      ]
     },
     "execution_count": 8,
     "metadata": {},
     "output_type": "execute_result"
    }
   ],
   "source": [
    "# 풀어보기)\n",
    "\n",
    "values_list = [5, -2, 0, 100, -6, 7, 4, 9, -7, 50, 4, 3]\n",
    "\n",
    "def selection_sort(lst : list) :\n",
    "  for i in range(len(lst)) :\n",
    "    min_value = min(lst[i:])\n",
    "    min_value_idx = lst[i:].index(min_value) + i\n",
    "    # 이러면 중복되는 값이 있으면 그 index를 항상 반환하기 때문에에\n",
    "    # [i:]슬라이싱한 데이터에서 불러와야 하는데 그러면 또 index가 초기화됨\n",
    "    lst[i], lst[min_value_idx] = lst[min_value_idx], lst[i]\n",
    "  return lst # return 안해도 values_list는 변해있음해있음\n",
    "  \n",
    "selection_sort(values_list)\n",
    "sorted_list = selection_sort(values_list)\n",
    "sorted_list\n"
   ]
  },
  {
   "cell_type": "code",
   "execution_count": 9,
   "metadata": {},
   "outputs": [
    {
     "data": {
      "text/plain": [
       "[-7, -6, -2, 0, 3, 4, 4, 5, 7, 9, 50, 100]"
      ]
     },
     "execution_count": 9,
     "metadata": {},
     "output_type": "execute_result"
    }
   ],
   "source": [
    "values_list = [5, -2, 0, 100, -6, 7, 4, 9, -7, 50, 4, 3]\n",
    "\n",
    "def selection_sort(lst : list) :\n",
    "  for i in range(len(lst)) :\n",
    "    min_value = min(lst[i:])\n",
    "    min_value_idx = lst[i:].index(min_value) + i\n",
    "    lst[i], lst[min_value_idx] = lst[min_value_idx], lst[i]\n",
    "\n",
    "selection_sort(values_list)\n",
    "values_list"
   ]
  },
  {
   "cell_type": "code",
   "execution_count": 33,
   "metadata": {},
   "outputs": [],
   "source": [
    "# sol)\n",
    "\n",
    "# [0:i] : sorted\n",
    "# [i:] : unsorted - find smallest\n",
    "def find_min(L: list, start_idx : int) -> int :\n",
    "  min_idx = start_idx # lst[0]이 하나의 기준값 역할 \n",
    "  for j in range(start_idx + 1, len(L)) : # j : unsorted list[j:]와 비교\n",
    "    if L[j] < L[min_idx] :\n",
    "      min_idx = j # for 루프를 돌면서 가장 작은 index 할당\n",
    "  return min_idx\n",
    "  \n",
    "def selection_sort(lst : list) -> None :\n",
    "  for i in range(len(lst)) :\n",
    "    # i : sorted list가 될 index\n",
    "    min_idx = find_min(lst, i) # lst[i:] : 자꾸 copy되어서 메모리 낭비, index가 [5:10]인데 [0:5]로 인식해서 마지막에 +i 해주어야 함\n",
    "    lst[i], lst[min_idx] = lst[min_idx], lst[i] # swap\n"
   ]
  },
  {
   "cell_type": "code",
   "execution_count": 34,
   "metadata": {},
   "outputs": [],
   "source": [
    "# sol2) Code in one function \n",
    "\n",
    "# [0:i] : sorted\n",
    "# [i:] : unsorted - find smallest\n",
    "def selection_sort(lst : list) -> None :\n",
    "  for i in range(len(lst)) : # 전체 idx 차례대로 비교\n",
    "    min_value_idx = i \n",
    "    for j in range(i + 1, len(lst)) : # idx ~ end_idx까지 비교해서 더 작은값있으면 swap\n",
    "      if lst[j] < lst[min_value_idx] :\n",
    "        min_value_idx = j # 지속적으로 업데이트\n",
    "    lst[i], lst[min_value_idx] = lst[min_value_idx], lst[i]\n"
   ]
  },
  {
   "cell_type": "markdown",
   "metadata": {},
   "source": [
    "- Time Complexity"
   ]
  },
  {
   "cell_type": "code",
   "execution_count": 38,
   "metadata": {},
   "outputs": [
    {
     "data": {
      "text/plain": [
       "[-171717, -7, -1, 2, 3, 5, 100, 29292, 1237982179]"
      ]
     },
     "execution_count": 38,
     "metadata": {},
     "output_type": "execute_result"
    }
   ],
   "source": [
    "A = [3, 2, -1, 5, 100, -7, 1237982179, -171717, 29292]\n",
    "selection_sort(A)\n",
    "A"
   ]
  },
  {
   "cell_type": "code",
   "execution_count": 51,
   "metadata": {},
   "outputs": [],
   "source": [
    "# At i-th iteration, its inner loop (func find_min) needs to look up (N+1-i) items\n",
    "# 1번째 iter에 N개의 item loop해야 함\n",
    "# N = len(L)\n",
    "# N + (N-1) + (N-2) + ... + 1 = N(N+1) / 2\n",
    "# N^2에 비례해서 걸림\n"
   ]
  },
  {
   "cell_type": "code",
   "execution_count": 52,
   "metadata": {},
   "outputs": [],
   "source": [
    "# Summary\n",
    "# Selection sort - A basic sorting algorithm\n",
    "# Find the minimum value of the unsorted list and swap it with the leftmost entry\n",
    "# Time complexity - N**2\n"
   ]
  },
  {
   "cell_type": "markdown",
   "metadata": {},
   "source": [
    "#### 02. Insertion Sort"
   ]
  },
  {
   "cell_type": "code",
   "execution_count": 53,
   "metadata": {},
   "outputs": [],
   "source": [
    "# selction - unsorted에서 시간 많이 소모, sorting이 되어 나갈수록 시간이 덜 걸림([1:], [2:], ,,, )\n",
    "# insertion - sorted에서 시간 많이 소모, sorting이 되어 나갈수록 시간이 더 걸림(앞의 값과 다 비교해야 해서)\n",
    "# - insert the leftmost item of the unsorted list to the proper location of the sorted list\n",
    "\n",
    "# unsorted list에서 가장 왼쪽 값을 왼쪽으로 갈지 오른쪽으로 갈지\n",
    "# 3rd iteration\n",
    "# ex) lst[0] -2, lst[1] = 5, lst[2] = 0\n",
    "# 0이라는 값이 list[1]보다는 왼쪽, list[0]보다는 오른쪽으로 위치하게 해야 함\n"
   ]
  },
  {
   "cell_type": "code",
   "execution_count": null,
   "metadata": {},
   "outputs": [
    {
     "data": {
      "text/plain": [
       "[5, 0, 100, -2, 7, 4, 9, -6, 50, 4, 3, -7]"
      ]
     },
     "execution_count": 10,
     "metadata": {},
     "output_type": "execute_result"
    }
   ],
   "source": [
    "# 기준 : unsorted의 가장 왼쪽값(바깥 for문)\n",
    "# sorted의 값들과 비교(안쪽 for문)\n",
    "\n",
    "values_list = [5, -2, 0, 100, -6, 7, 4, 9, -7, 50, 4, 3]\n",
    "\n",
    "def insertion_sort(lst: list) :\n",
    "  for i in range(1, len(lst)) : # unsorted의 index\n",
    "    for j in range(i-1, -1, -1) : # sorted list의 오른쪽부터 비교\n",
    "      if lst[i] > lst[j] :\n",
    "        lst[i], lst[j] = lst[j], lst[i] # 기준값lst[i]이 자꾸 변경됨 j로 이루어진 코드로 수정해야 함\n",
    "      else :\n",
    "        break # 더이상 for문 돌릴 필요없음\n",
    "\n",
    "insertion_sort(values_list)  \n",
    "values_list   "
   ]
  },
  {
   "cell_type": "markdown",
   "metadata": {},
   "source": [
    "- Code"
   ]
  },
  {
   "cell_type": "code",
   "execution_count": 11,
   "metadata": {},
   "outputs": [
    {
     "data": {
      "text/plain": [
       "[-7, -6, -2, 0, 3, 4, 4, 5, 7, 9, 50, 100]"
      ]
     },
     "execution_count": 11,
     "metadata": {},
     "output_type": "execute_result"
    }
   ],
   "source": [
    "# 기준 : unsorted의 가장 왼쪽값(바깥 for문)\n",
    "# sorted의 값들과 비교(안쪽 for문)\n",
    "\n",
    "values_list = [5, -2, 0, 100, -6, 7, 4, 9, -7, 50, 4, 3]\n",
    "\n",
    "def insertion_sort(lst: list) :\n",
    "  for i in range(1, len(lst)) : # unsorted의 index\n",
    "    for j in range(i-1, -1, -1) : # sorted list의 오른쪽부터 비교\n",
    "      if lst[j] > lst[j+1] :\n",
    "        lst[j+1], lst[j] = lst[j], lst[j+1]\n",
    "      else :\n",
    "        break # 더이상 for문 돌릴 필요없음\n",
    "\n",
    "insertion_sort(values_list)  \n",
    "values_list   "
   ]
  },
  {
   "cell_type": "code",
   "execution_count": 55,
   "metadata": {},
   "outputs": [],
   "source": [
    "# sol)\n",
    "\n",
    "def insert(L : list, last_idx : int) -> None :\n",
    "  for i in range(last_idx, 0, -1) : # Go backwards\n",
    "    if L[i-1] > L[i] :\n",
    "      L[i-1], L[i] = L[i], L[i-1]\n",
    "    else :\n",
    "      break # 뒤를 더 볼 필요가 없음\n",
    "    \n",
    "def insertion_sort(L: list) -> None :\n",
    "  for i in range(1, len(L)) :\n",
    "    # insert L[i] ot the proper location of L[:i]\n",
    "    insert(L, i)\n"
   ]
  },
  {
   "cell_type": "code",
   "execution_count": 57,
   "metadata": {},
   "outputs": [],
   "source": [
    "# \n",
    "\n",
    "def insertion_sort(L : list) -> None :\n",
    "  for i in range(1, len(L)) : # 가장 왼쪽의 값부터 정렬\n",
    "    for j in range(i, 0, -1) : # 1까지, ** 가장 오른쪽값부터 비교해서 정렬 ** \n",
    "      if L[j-1] > L[j] :\n",
    "        L[j-1], L[j] = L[j], L[j-1]\n",
    "      else :  # L[j-1] <= L[j] - 나머지 값은 다 정렬되어있음 for문 종료\n",
    "        break # 조건에 해당하면 반복문 종료\n",
    "      # continue - 조건에 해당하는 loop 건너뜀\n",
    "      "
   ]
  },
  {
   "cell_type": "markdown",
   "metadata": {},
   "source": [
    "- Time Complexity"
   ]
  },
  {
   "cell_type": "code",
   "execution_count": 58,
   "metadata": {},
   "outputs": [],
   "source": [
    "# At i-th iteration, its inner loop (func insert) needs to look up (i+1)/2(평균적으로 반정도)items\n",
    "# and swap i/2 times on average\n",
    "\n",
    "# look up : N(N+1) / 4 - 1/2\n",
    "# + swap : (N-1)N/4\n",
    "\n",
    "# A bit slower than selection sort\n",
    "\n",
    "# 이미 어느정도 sort되어있는 list에 약간의 데이터만 추가된 리스트에서는 유용\n"
   ]
  },
  {
   "cell_type": "code",
   "execution_count": null,
   "metadata": {},
   "outputs": [],
   "source": [
    "# Summary\n",
    "\n",
    "# Insertion sort\n",
    "# Insert the leftmost item of the unsorted list to the proper location of the sorted list\n",
    "# Time complexity ~ N**2 (a bit slower than selection sort)\n",
    "# Nice when a list is almost sorted already\n"
   ]
  }
 ],
 "metadata": {
  "kernelspec": {
   "display_name": "base",
   "language": "python",
   "name": "python3"
  },
  "language_info": {
   "codemirror_mode": {
    "name": "ipython",
    "version": 3
   },
   "file_extension": ".py",
   "mimetype": "text/x-python",
   "name": "python",
   "nbconvert_exporter": "python",
   "pygments_lexer": "ipython3",
   "version": "3.11.5"
  }
 },
 "nbformat": 4,
 "nbformat_minor": 2
}
