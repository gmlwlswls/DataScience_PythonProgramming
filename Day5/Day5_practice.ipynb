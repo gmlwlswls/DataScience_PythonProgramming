{
 "cells": [
  {
   "cell_type": "code",
   "execution_count": null,
   "metadata": {},
   "outputs": [],
   "source": [
    "# quiz\n",
    "\n",
    "# binary search : target = 2.5\n",
    "# R < L : target값이 arr에 없음 > -1 return\n",
    "# 사용하는 변수들이 space complexty를 결정 > O(1)\n",
    "\n",
    "# selection sort\n",
    "# min_idx는 변화하는 값\n",
    "\n"
   ]
  },
  {
   "cell_type": "code",
   "execution_count": 1,
   "metadata": {},
   "outputs": [
    {
     "data": {
      "text/plain": [
       "[-6, -2, 1, 3, 7]"
      ]
     },
     "execution_count": 1,
     "metadata": {},
     "output_type": "execute_result"
    }
   ],
   "source": [
    "# quiz 8\n",
    "# insertion sort\n",
    "\n",
    "def insertion_sort(arr) :\n",
    "  for i in range(1, len(arr)) :\n",
    "    key = arr[i] # unsorted에서 가장 왼쪽인 기준값\n",
    "    j = i-1 # sorted의 가장 오른쪽값부터 역순으로 비교\n",
    "    while j>=0 and key < arr[j] :\n",
    "      arr[j+1] = arr[j]\n",
    "      j -= 1\n",
    "    arr[j+1] = key # while문에서 j+1위치에 값을 입력하고 안작으면 while문 종료하고 j+1애 key삽입\n",
    "  return arr\n",
    "\n",
    "# j가 key보다 작은 경우에 +1,2,3,, 으로 밀어서 삽입하고\n",
    "# 마지막 작지 않은 순간 혹은 j가 0보다 작은 순간에 비교 기준값 key를 꽂음\n",
    "\n",
    "insertion_sort([-2,3,1,-6,7])"
   ]
  },
  {
   "cell_type": "code",
   "execution_count": 6,
   "metadata": {},
   "outputs": [
    {
     "data": {
      "text/plain": [
       "1"
      ]
     },
     "execution_count": 6,
     "metadata": {},
     "output_type": "execute_result"
    }
   ],
   "source": [
    "# 1. \n",
    "\n",
    "# insertion search\n",
    "# : unsorted의 가장 왼쪽 값을\n",
    "#   sorted의 가장 오른쪽 값부터 비교\n",
    "\n",
    "def searchinsert(nums, target) :\n",
    "  # returns the index if the target is found.\n",
    "  for i in range(len(nums)) :\n",
    "    if nums[i] == target :\n",
    "      return i\n",
    "    elif nums[i-1] < target and nums[i] > target :\n",
    "      return i\n",
    "    \n",
    "searchinsert([1,3,5,6], 5)\n",
    "searchinsert([1,3,5,6], 2)"
   ]
  },
  {
   "cell_type": "code",
   "execution_count": null,
   "metadata": {},
   "outputs": [],
   "source": [
    "# 1 sol) - Binary search\n",
    "\n",
    "def searchInsert(nums, target) :\n",
    "  left, right = 0, len(nums)-1\n",
    "  while left <= right :\n",
    "    mid = (left + right) // 2\n",
    "    if nums[mid] < target :\n",
    "      right = mid - 1\n",
    "    elif nums[mid] > target :\n",
    "      left = mid + 1\n",
    "    else :\n",
    "      return mid\n",
    "  return left\n"
   ]
  },
  {
   "cell_type": "code",
   "execution_count": 18,
   "metadata": {},
   "outputs": [
    {
     "name": "stdout",
     "output_type": "stream",
     "text": [
      "0th iteration [7, 5, 9, 1, 3]\n",
      "1th iteration [1, 5, 9, 7, 3]\n",
      "2th iteration [1, 3, 9, 7, 5]\n",
      "3th iteration [1, 3, 5, 7, 9]\n",
      "4th iteration [1, 3, 5, 7, 9]\n",
      "5th iteration [1, 3, 5, 7, 9]\n",
      "-1\n"
     ]
    }
   ],
   "source": [
    "# 2. \n",
    "\n",
    "# selection sort\n",
    "# [0:] min\n",
    "# lst[0] = min > lst[1:] min > swap\n",
    "\n",
    "def print_selection(arr, K) :\n",
    "  if len(arr) < K :\n",
    "    print(-1)\n",
    "  else :\n",
    "    # print the list arr at the kth iteration during selection sort.\n",
    "    # if K > len(lst), prints -1\n",
    "      for i in range(K) :\n",
    "        min_value = min(arr[i:])\n",
    "        min_value_idx = arr.index(min_value)\n",
    "        if arr[i] > arr[min_value_idx] :\n",
    "          arr[i], arr[min_value_idx] = arr[min_value_idx], arr[i]\n",
    "      print(f'{K}th iteration {arr}')\n",
    "\n",
    "\n",
    "print_selection([7,5,9,1,3], 0)\n",
    "print_selection([7,5,9,1,3], 1)\n",
    "print_selection([7,5,9,1,3], 2)\n",
    "print_selection([7,5,9,1,3], 3)\n",
    "print_selection([7,5,9,1,3], 4)\n",
    "print_selection([7,5,9,1,3], 5)\n",
    "print_selection([7,5,9,1,3], 6)\n",
    "\n"
   ]
  },
  {
   "cell_type": "code",
   "execution_count": null,
   "metadata": {},
   "outputs": [],
   "source": [
    "# 2 sol)\n",
    "\n",
    "def print_selection(arr, K) :\n",
    "  n= len(arr)\n",
    "  if K > n :\n",
    "    print(-1)\n",
    "    return\n",
    "  \n",
    "  for i in range(n) :\n",
    "    min_idx = i\n",
    "    for j in range(i+1, n) :\n",
    "      if arr[j] < arr[min_idx] : # if a smaller element found\n",
    "        min_idx = j\n",
    "    arr[i], arr[min_idx] = arr[min_idx], arr[i]\n",
    "    \n",
    "    if i == K -1 :\n",
    "      print(arr)\n",
    "      return\n",
    "  "
   ]
  },
  {
   "cell_type": "code",
   "execution_count": 25,
   "metadata": {},
   "outputs": [
    {
     "data": {
      "text/plain": [
       "True"
      ]
     },
     "execution_count": 25,
     "metadata": {},
     "output_type": "execute_result"
    }
   ],
   "source": [
    "'abc' > 'bcd'\n",
    "'bcde' > 'abc'"
   ]
  },
  {
   "cell_type": "code",
   "execution_count": 24,
   "metadata": {},
   "outputs": [
    {
     "name": "stdout",
     "output_type": "stream",
     "text": [
      "['f', 'or', 'get', 'you', 'this', 'will', 'solve', 'problem']\n",
      "['is', 'so', 'haha', 'class', 'funny', 'computing']\n"
     ]
    }
   ],
   "source": [
    "# 3.\n",
    "\n",
    "# insertion sort\n",
    "# unsorted의 가장 왼쪽 값을\n",
    "# sorted의 오른쪽값부터 비교\n",
    "\n",
    "def sort_strings(lst) :\n",
    "  # first : order by lengths in ascending order\n",
    "  # second : same lengths > alphabetical\n",
    "  # using insertion sort algorithm.\n",
    "  for i in range(1, len(lst)) : # 기준값이 이미 정해진 상황\n",
    "    for j in range(i-1, -1, -1) :\n",
    "      if len(lst[j]) > len(j+1) :\n",
    "        lst[j], lst[j+1] = lst[j+1], lst[j]\n",
    "      elif len(lst[j]) == len(lst[j+1]) :\n",
    "        if lst[j] > lst[j+1] :\n",
    "          lst[j], lst[j+1] = lst[j+1], lst[j]\n",
    "  return lst\n",
    "\n",
    "print(sort_strings(['solve', 'this', 'problem', 'or', 'you', 'will', 'get', 'f']))     \n",
    "print(sort_strings(['computing', 'class', 'is', 'so', 'funny', 'haha']))\n",
    "    "
   ]
  },
  {
   "cell_type": "code",
   "execution_count": 2,
   "metadata": {},
   "outputs": [
    {
     "name": "stdout",
     "output_type": "stream",
     "text": [
      "['f', 'or', 'get', 'you', 'this', 'will', 'solve', 'problem']\n",
      "['is', 'so', 'haha', 'class', 'funny', 'computing']\n"
     ]
    }
   ],
   "source": [
    "def sort_strings(lst) :\n",
    "  def compare(s1, s2) :\n",
    "    if len(s1) != len(s2) :\n",
    "      return len(s1) - len(s2)\n",
    "    else :\n",
    "      if s1 < s2 :\n",
    "        return -1\n",
    "      elif s1 > s2 :\n",
    "        return 1\n",
    "      else :\n",
    "        return 0\n",
    "  \n",
    "  def insertion_sort(arr) :\n",
    "    for i in range(1, len(arr)) :\n",
    "      key = arr[i]\n",
    "      j = i-1\n",
    "      while j>= 0 and compare(arr[j], key) > 0 :\n",
    "        arr[j+1] = arr[j]\n",
    "        j -= 1\n",
    "      arr[j+1] = key # j가 0보다 작아졌거나 compare <=0으로 비교가 필요없을때\n",
    "    return arr \n",
    "  return insertion_sort(lst)\n",
    "\n",
    "\n",
    "print(sort_strings(['solve', 'this', 'problem', 'or', 'you', 'will', 'get', 'f']))     \n",
    "print(sort_strings(['computing', 'class', 'is', 'so', 'funny', 'haha']))\n",
    "    "
   ]
  },
  {
   "cell_type": "code",
   "execution_count": 5,
   "metadata": {},
   "outputs": [
    {
     "name": "stdout",
     "output_type": "stream",
     "text": [
      "1234\n",
      "98765\n",
      "98765\n"
     ]
    }
   ],
   "source": [
    "# 4 sol)\n",
    "\n",
    "def convertStringToNumber(s) :\n",
    "  num_strs = ['zero', 'one', 'two', 'three', 'four', 'five', 'six', 'seven', 'eight', 'nine']\n",
    "  num_dict = dict() # {'zero' : '0', ,,,} : str은 +로 연결 가능\n",
    "  for i, word in enumerate(num_strs) :\n",
    "    num_dict[word] = str(i)\n",
    "  \n",
    "  result= ''\n",
    "  i = 0\n",
    "  while i < len(s) :\n",
    "    if '0' <= s[i] <= '9' : # str'0', str'9'는 ASCII로 숫자로 인식\n",
    "      result += s[i]\n",
    "      i += 1 # s문장에서 숫자는 1만큼 index 증가\n",
    "    else :\n",
    "      for word in num_strs :\n",
    "        match = True\n",
    "        for j in range(len(word)) :\n",
    "          # i값이 증가함에 따라 num_strs의 길이와 합쳤을때 s를 넘으면 당연히 False\n",
    "          # (i+j에 해당하는 숫자 문자가 없음)\n",
    "          # s[0+0,1,2] = word[0,1,2]\n",
    "          if i + j >= len(s) or s[i+j] != word[j] : \n",
    "            # i는 s문장의 str이 시작하는 단어의 인덱스\n",
    "            # j는 num_strs의 단어의 인덱스\n",
    "            match= False\n",
    "            break\n",
    "        if match :\n",
    "          result += num_dict[word]\n",
    "          i += len(word) # s문장의 index를 word길이만큼 증가\n",
    "          break\n",
    "  return int(result)\n",
    "\n",
    "print(convertStringToNumber(\"one23four\"))\n",
    "print(convertStringToNumber('9eight7six5'))\n",
    "print(convertStringToNumber('nineeight76five'))"
   ]
  },
  {
   "cell_type": "code",
   "execution_count": null,
   "metadata": {},
   "outputs": [],
   "source": [
    "# 5.\n",
    "\n",
    "# def frequencySort(s) :\n",
    "#   # decreasing order by the frequency of the characters\n",
    "#   keys= set()\n",
    "#   dct= {}\n",
    "#   sorted_str = ''\n",
    "#   for x in s :\n",
    "#     keys.add(x)\n",
    "#   for key in keys :\n",
    "#     freq = s.count(key)\n",
    "#     dct[key] = freq\n",
    "    \n",
    "#   max_freq = max(dct.values())\n",
    "#   temp_dict = dct.copy()\n",
    "#   while len(temp_dict) > 0 : \n",
    "#     for key, freq in dct.items() :\n",
    "#       if freq == max_freq  and len(temp_dict) > 0:\n",
    "#         sorted_str += key*max_freq\n",
    "#         temp_dict.pop(key)\n",
    "#         max_freq = max(temp_dict.values())\n",
    "\n",
    "#   return sorted_str      \n",
    "        \n",
    "# frequencySort('tree')\n",
    "# # frequencySort('aaaccc')\n"
   ]
  },
  {
   "cell_type": "code",
   "execution_count": 6,
   "metadata": {},
   "outputs": [
    {
     "name": "stdout",
     "output_type": "stream",
     "text": [
      "eert\n",
      "aaaccc\n"
     ]
    }
   ],
   "source": [
    "# 5 sol)\n",
    "\n",
    "def frequencySort(s) :\n",
    "  freq = {}\n",
    "  for char in s :\n",
    "    if char in freq :\n",
    "      freq[char] += 1\n",
    "    else :\n",
    "      freq[char] = 1\n",
    "      \n",
    "  freq_items = list(freq.items()) # Ex. 'tree' [('t', 1), ('r', 1), ('e', 2)]\n",
    "  # bublle sort based : 인접한 두 요소 비교해가며 정렬\n",
    "  for i in range(len(freq_items)) : \n",
    "    for j in range(i+1, len(freq_items)) :\n",
    "      if (freq_items[i][1] < freq_items[j][1]) or (freq_items[i][1] == freq_items[j][1] and freq_items[i][0] > freq_items[j][0]) :\n",
    "        freq_items[i], freq_items[j] = freq_items[j], freq_items[i]\n",
    "  \n",
    "  result = ''\n",
    "  for char, count in freq_items :\n",
    "    for _ in range(count) :\n",
    "      result += char\n",
    "  return result\n",
    "\n",
    "print(frequencySort('tree'))\n",
    "print(frequencySort('aaaccc'))\n",
    "    "
   ]
  },
  {
   "cell_type": "code",
   "execution_count": null,
   "metadata": {},
   "outputs": [],
   "source": []
  }
 ],
 "metadata": {
  "kernelspec": {
   "display_name": "base",
   "language": "python",
   "name": "python3"
  },
  "language_info": {
   "codemirror_mode": {
    "name": "ipython",
    "version": 3
   },
   "file_extension": ".py",
   "mimetype": "text/x-python",
   "name": "python",
   "nbconvert_exporter": "python",
   "pygments_lexer": "ipython3",
   "version": "3.11.5"
  }
 },
 "nbformat": 4,
 "nbformat_minor": 2
}
