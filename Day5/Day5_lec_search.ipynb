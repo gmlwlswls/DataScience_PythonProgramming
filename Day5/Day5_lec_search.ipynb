{
 "cells": [
  {
   "cell_type": "markdown",
   "metadata": {},
   "source": [
    "## Day5"
   ]
  },
  {
   "cell_type": "markdown",
   "metadata": {},
   "source": [
    "## 1. Line Search"
   ]
  },
  {
   "cell_type": "code",
   "execution_count": null,
   "metadata": {},
   "outputs": [],
   "source": [
    "# Why Search?\n",
    "# 어떻게 찾는지, 어떻게 정렬하는지\n",
    "\n",
    "# Searching is a fundamental part of programming\n",
    "# There are too massive mount of data in the world to find data you are interested\n",
    "# You should find data that you want, efficiently\n"
   ]
  },
  {
   "cell_type": "markdown",
   "metadata": {},
   "source": [
    "#### 01 Linear Search "
   ]
  },
  {
   "cell_type": "markdown",
   "metadata": {},
   "source": [
    "- Algorithm"
   ]
  },
  {
   "cell_type": "code",
   "execution_count": 7,
   "metadata": {},
   "outputs": [],
   "source": [
    "# 일일이 찾는 방법 : Linear Search\n",
    "\n",
    "# Find a target value in a list\n",
    "# To do this, search from ** the first item ** to the **last item** sequentially\n",
    "# (linear search)\n",
    "# return the index tha value **first occurs**\n",
    "# Otherwise, return -1\n",
    "\n",
    "# - index메서드를 통해 value의 list index 반환\n",
    "\n",
    "target= 4\n",
    "values= [5, -2, 0, 100, -6, 7, 4, 9, -7, 50, 9, 4]\n",
    "# idx인 6 반환, 뒤의 idx 10도 4이지만 무시됨\n",
    "# target = 1이면 없으므로 -1 반환\n"
   ]
  },
  {
   "cell_type": "markdown",
   "metadata": {},
   "source": [
    "- Impl(1) : While Loop"
   ]
  },
  {
   "cell_type": "code",
   "execution_count": 11,
   "metadata": {},
   "outputs": [
    {
     "data": {
      "text/plain": [
       "6"
      ]
     },
     "execution_count": 11,
     "metadata": {},
     "output_type": "execute_result"
    }
   ],
   "source": [
    "from typing import Any\n",
    "\n",
    "def linear_search_While(lst : list, target : Any) -> int : \n",
    "  i= 0\n",
    "  while i < len(lst) and lst[i] != target : # len(values) = 12\n",
    "    i += 1\n",
    "  if i == len(lst) : # while문 빠져 나온 상태\n",
    "     return -1    \n",
    "  else :\n",
    "    return i\n",
    "  \n",
    "linear_search_While(values, target)  "
   ]
  },
  {
   "cell_type": "markdown",
   "metadata": {},
   "source": [
    "- Imple(2) : While Loop with Sentinel"
   ]
  },
  {
   "cell_type": "code",
   "execution_count": 22,
   "metadata": {},
   "outputs": [
    {
     "data": {
      "text/plain": [
       "-1"
      ]
     },
     "execution_count": 22,
     "metadata": {},
     "output_type": "execute_result"
    }
   ],
   "source": [
    "# Sentinel의 등장배경)\n",
    "# i<len(lst) : 매번 실행해야 하는데 list 길이가 100이라면 99쯤에서만 한 번 실행하고 싶음\n",
    "\n",
    "values_lst= [5, -2, 0, 100, -6, 7, 9, -7, 50, 9]\n",
    "\n",
    "def linear_search_sentinel(lst : list, target : Any) -> int :\n",
    "  lst.append(target) # Add the sentinel > while문 반드시 끝나도록\n",
    "  i= 0\n",
    "  while lst[i] != target : # 11번째에서 반드시 같아짐\n",
    "    i += 1\n",
    "  lst.pop() # remove the sentinel\n",
    "  if i == len(lst) :\n",
    "    return -1\n",
    "  else :\n",
    "    return i\n",
    "\n",
    "linear_search_sentinel(values_lst, target)\n",
    "\n",
    "# 찾는게 빨라지지만 원본 데이터를 조작하므로 위험성이 존재"
   ]
  },
  {
   "cell_type": "markdown",
   "metadata": {},
   "source": [
    "- imple(3) : For Loop"
   ]
  },
  {
   "cell_type": "code",
   "execution_count": 23,
   "metadata": {},
   "outputs": [
    {
     "ename": "SyntaxError",
     "evalue": "incomplete input (3207591649.py, line 5)",
     "output_type": "error",
     "traceback": [
      "\u001b[1;36m  Cell \u001b[1;32mIn[23], line 5\u001b[1;36m\u001b[0m\n\u001b[1;33m    \u001b[0m\n\u001b[1;37m    ^\u001b[0m\n\u001b[1;31mSyntaxError\u001b[0m\u001b[1;31m:\u001b[0m incomplete input\n"
     ]
    }
   ],
   "source": [
    "target= 4\n",
    "values= [5, -2, 0, 100, -6, 7, 4, 9, -7, 50, 9, 4]\n",
    "\n",
    "def linear_search_for(lst : list, target : Any) -> int : \n",
    "  for i, value in enumerate(values) :\n",
    "    if value == target :\n",
    "      return i\n",
    "  return -1\n",
    "    \n",
    "  "
   ]
  },
  {
   "cell_type": "code",
   "execution_count": null,
   "metadata": {},
   "outputs": [],
   "source": [
    "def linear_search_for(lst : list, value: Any) -> int :\n",
    "  for i in range(len(lst)) :\n",
    "    if lst[i] == target :\n",
    "      return i\n",
    "  return -1 # for loop이 끝날때까지 return이 안됐다는 얘기\n",
    "\n",
    "# while vs for\n",
    "# for loop 자체에 종료되도록 제한 조건을 걸어놓음\n",
    "# while loop 은 계속 돌아감\n",
    "\n",
    "# while loop은 찾으면 loop를 탈피하게 되는데\n",
    "# for loop은 loop를 탈피하려면 중간에 인위적으로 return을 해야 함 / 혹은 break\n",
    "\n"
   ]
  },
  {
   "cell_type": "markdown",
   "metadata": {},
   "source": [
    "- Time Complexity"
   ]
  },
  {
   "cell_type": "code",
   "execution_count": 24,
   "metadata": {},
   "outputs": [
    {
     "data": {
      "text/plain": [
       "0.07149999146349728"
      ]
     },
     "execution_count": 24,
     "metadata": {},
     "output_type": "execute_result"
    }
   ],
   "source": [
    "import time\n",
    "\n",
    "t_start = time.perf_counter() # 현재 시간\n",
    "# t_start = time.time()\n",
    "# <<Your Algorithm>>\n",
    "t_end = time.perf_counter() # performance counter\n",
    "\n",
    "(t_end - t_start) * 1000.0 # the unit becomees miliseconds(보통 초단위이므로 곱해서 밀리세컨즈 단위로)\n"
   ]
  },
  {
   "cell_type": "code",
   "execution_count": null,
   "metadata": {},
   "outputs": [],
   "source": [
    "# Case) target location : First, Middle, Last\n",
    "# algorithm) while, sentinel, for, lis.index\n",
    "\n",
    "# - target value가 뒤에 있을수록\n",
    "#   Last가 Middle에 비해 걸리는 시간 딱 2배(선형적인 증가)\n",
    "\n",
    "# while > sentinel > for > list.index\n",
    "# while vs sentinel\n",
    "# sentinel이 시간 절반, while문의 조건 하나 없애는 것이 성능에 영향을 미침\n",
    "\n",
    "# list.index : 파이썬이 제공하는 메서드가 더 빠름\n",
    "# 왜? 내부 구현이 C로 되어있기 때문\n",
    "# 파이썬은 interpreter를 활용하기 때문에 시간이 오래 걸림(운영체제<->interpreter간 소통)\n",
    "# C의 경우 다 모아서 번역해놓은 것으로 운영체제와 소통\n"
   ]
  },
  {
   "cell_type": "code",
   "execution_count": 25,
   "metadata": {},
   "outputs": [],
   "source": [
    "# What if the list is sorted?\n",
    "# Can we do anything better?\n",
    " "
   ]
  },
  {
   "cell_type": "code",
   "execution_count": null,
   "metadata": {},
   "outputs": [],
   "source": [
    "# Summary\n",
    "\n",
    "# Line search\n",
    "# evaluate the first item and cut the one evaluated item # first에서 하나씩 계산\n",
    "# Time proportinal to len(L)\n",
    "# Applicable to any list"
   ]
  },
  {
   "cell_type": "markdown",
   "metadata": {},
   "source": [
    "#### 02. Binary Search"
   ]
  },
  {
   "cell_type": "code",
   "execution_count": 33,
   "metadata": {},
   "outputs": [
    {
     "data": {
      "text/plain": [
       "True"
      ]
     },
     "execution_count": 33,
     "metadata": {},
     "output_type": "execute_result"
    }
   ],
   "source": [
    "# sorted list에서 Line search 가능하지만 sorted된 것에서 이득을 보지는 못함\n",
    "\n",
    "# Binary Search - idea(sorted 활용)\n",
    "# : 반을 나눠 중간을 검증해보고 반을 통으로 날려나감\n",
    "\n",
    "start= 0\n",
    "end= 11\n",
    "middle_idx = (0+11) // 2 # int : 넘지 않는 정수, // : 나눴을 때 몫\n",
    "\n",
    "target= 9\n",
    "value_list = [-7, -6, -2, 0, 3, 4, 4, 5, 7, 9, 5, 100]\n",
    "\n",
    "# 1) middle_idx의 값과 target을 비교\n",
    "value_list[middle_idx] < target # 작다면 반을 통으로 날림\n",
    "\n",
    "# 2) start를 update\n",
    "start= 6\n",
    "\n",
    "# 3) 6+11 //2 = 8\n",
    "value_list[8] < target # 작으므로 반 난림\n",
    "\n",
    "# 4) 9,10,11 > 9+11 //2 = 10\n",
    "value_list[10] > target # 크므로 10포함 이후를 다 날림\n",
    "\n",
    "# 5) start= 9, end= 9\n",
    "value_list[9] == target # target= 9 로 종료\n",
    "\n",
    "# 답 : start\n",
    "# target이 크면 start를 올리고 \n",
    "# target이 작으면 end를 줄이고 \n",
    "# start-end 교차되는 순간 start가 답"
   ]
  },
  {
   "cell_type": "code",
   "execution_count": 2,
   "metadata": {},
   "outputs": [],
   "source": [
    "from typing import Any\n",
    "\n",
    "def binary_search(lst : list, target : Any) -> int :\n",
    "  start, end = 0, len(lst)-1 # idx start,end\n",
    "  while start != end + 1 : # ** \n",
    "    mid = (start + end) // 2\n",
    "    if lst[mid] < target :\n",
    "      start= mid + 1\n",
    "    else :\n",
    "      end= mid - 1\n",
    "  if start < len(lst) and lst[start] == target :\n",
    "    return start\n",
    "  else : \n",
    "    return -1\n",
    "\n",
    "# while문에서 end + 1을 사용하면 start > end가 되는 시점에서 루프를 종료함\n",
    "# (start : 1씩 늘어나는 값, end : 1씩 줄어드는 값으로 start == end가 되면 무한 루프 발생할 수 있음음)\n",
    "# ex) start= 8, end= 9\n",
    "# mid = 8 list[mid] = 10, target= 9\n",
    "# start= 8이고 end= 7이 되면 무한 루프 발생함\n",
    "# 변화했을 때 start = end -1인 상황 대비"
   ]
  },
  {
   "cell_type": "code",
   "execution_count": null,
   "metadata": {},
   "outputs": [],
   "source": [
    "from typing import Any\n",
    "\n",
    "def binary_search(lst: list, target : int) -> int :\n",
    "  start_idx, end_idx = 0, len(lst) - 1\n",
    "  while start_idx != end_idx + 1 :\n",
    "    mid = (start_idx + end_idx)//2\n",
    "    if lst[start_idx] < target :\n",
    "      start_idx = mid + 1\n",
    "    else :\n",
    "      end_idx = mid + 1\n",
    "  if start_idx < len(lst) & lst[start_idx] == target :\n",
    "    return start_idx\n",
    "  else :\n",
    "    return -1\n",
    "  \n",
    "  "
   ]
  },
  {
   "cell_type": "code",
   "execution_count": 3,
   "metadata": {},
   "outputs": [],
   "source": [
    "# Time Complexity\n",
    "\n",
    "# target_location : First, Middle, Last\n",
    "# sol : list.index, binary_search\n",
    "\n",
    "# - binary_search가 C로 구현된 list.index보다 빠르고 타겟의 위치에 관계없이 빠름\n",
    "\n",
    "# linear search : time delay is proportional to len(L)\n",
    "# Binary search : time delay is proportional to log2(lenL)\n",
    "# A good example why sorting is usefulL!\n",
    "# 단, sorting도 쉽지 않고 오래 걸림"
   ]
  },
  {
   "cell_type": "code",
   "execution_count": 4,
   "metadata": {},
   "outputs": [],
   "source": [
    "# Summary\n",
    "\n",
    "# Binary search\n",
    "# - Evaluate the middle item and cut the half\n",
    "# - Time proportinonal to log2(len(L))\n",
    "# - Applicable to a sorted list"
   ]
  },
  {
   "cell_type": "code",
   "execution_count": null,
   "metadata": {},
   "outputs": [],
   "source": []
  }
 ],
 "metadata": {
  "kernelspec": {
   "display_name": "base",
   "language": "python",
   "name": "python3"
  },
  "language_info": {
   "codemirror_mode": {
    "name": "ipython",
    "version": 3
   },
   "file_extension": ".py",
   "mimetype": "text/x-python",
   "name": "python",
   "nbconvert_exporter": "python",
   "pygments_lexer": "ipython3",
   "version": "3.11.5"
  }
 },
 "nbformat": 4,
 "nbformat_minor": 2
}
