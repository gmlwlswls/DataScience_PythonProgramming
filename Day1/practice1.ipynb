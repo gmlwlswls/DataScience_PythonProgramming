{
 "cells": [
  {
   "cell_type": "code",
   "execution_count": 3,
   "metadata": {},
   "outputs": [
    {
     "name": "stdout",
     "output_type": "stream",
     "text": [
      "12500 KRW is 9.62 USD.\n",
      "20 USD is 26000 KRW\n"
     ]
    }
   ],
   "source": [
    "# Currency Conversion Functions\n",
    "\n",
    "# Write functions to convert an amount from one currency to another.\n",
    "\n",
    "### Requirements\n",
    "# * Define a function `convert_to_usd(krw)`.\n",
    "# * Define a function `convert_to_krw(usd)`.\n",
    "# * The functions should return values rounded to two decimal places.\n",
    "# * Assume the exchange rate is 1 USD = 1300 KRW.\n",
    "# * Ensure that the functions produce the expected output for the given test cases.\n",
    "\n",
    "# Define a function to convert KRW to USD\n",
    "usd_to_krw_rate = 1300\n",
    "\n",
    "def convert_to_usd(krw):\n",
    "    # Write your implementation here\n",
    "    usd = krw / usd_to_krw_rate\n",
    "    return round(usd, 2)\n",
    "\n",
    "krw = 12500\n",
    "print(f\"{krw} KRW is {convert_to_usd(krw)} USD.\")    \n",
    "\n",
    "# Define a function to convert USD to KRW\n",
    "def convert_to_krw(usd):\n",
    "    # Write your implementation here\n",
    "    return usd * usd_to_krw_rate\n",
    "    \n",
    "usd= 20\n",
    "print(f\"{usd} USD is {convert_to_krw(usd)} KRW\")\n"
   ]
  },
  {
   "cell_type": "code",
   "execution_count": 4,
   "metadata": {},
   "outputs": [
    {
     "name": "stdout",
     "output_type": "stream",
     "text": [
      "I love java programming\n",
      "HELLO\n",
      "helloworld\n",
      "True\n",
      "True\n"
     ]
    }
   ],
   "source": [
    "# 2. String Manipulation and Useful Methods\n",
    "# Write functions to manipulate a given text using various string methods.\n",
    "\n",
    "### Requirements\n",
    "# *   Write a function `replace_word(text, old_word, new_word)` that takes a string `text`, a string `old`, and a string `new`. It returns a new string with all occurrences of `old` replaced by `new`.\n",
    "#   - **Hint:** Use the `str.replace(old_word, new_word)` method.\n",
    "# *   Write a function `to_uppercase(text)` that takes a string `text` and returns the string converted to uppercase.\n",
    "#   - **Hint:** Use the `str.upper()` method.\n",
    "# *   Write a function `remove_spaces(text)` that takes a string `text` and returns the string with all spaces removed.\n",
    "#   - **Hint:** Use the `str.replace(old_word, new_word)` method.\n",
    "# *   Write a function `is_numeric(text)` that takes a string `text` and returns `True` if the string is numeric, otherwise `False`.\n",
    "#   - **Hint:**  Use the `str.isnum()` method.\n",
    "# *   Write a function `contains_substring(main_string, sub_string)` that takes `main_string` text, and `sub_string` text and returns `True` if `sub_string` is found within `main_strin`g, otherwise return `False`.   \n",
    "#   - **Hint:** Use the in operation.\n",
    "# *   Ensure that the functions produce the expected output for the given test cases.\n",
    "   \n",
    "\n",
    "# 2-1. \n",
    "def replace_word(text, old_word, new_word):\n",
    "    # Write your code here\n",
    "  return text.replace(old_word, new_word)\n",
    "\n",
    "text = \"I love python programming\"\n",
    "\n",
    "print(replace_word(text, 'python', 'java'))\n",
    "\n",
    "\n",
    "# 2-2.\n",
    "def to_uppercase(text):\n",
    "  return text.upper()\n",
    "\n",
    "text= \"hello\"\n",
    "print(to_uppercase(text))\n",
    "\n",
    "\n",
    "# 2-3. remove_spaces(text)\n",
    "# hint : str.replace(old_word, new_word)\n",
    "def remove_spaces(text) :\n",
    "  return text.replace(\" \", \"\")\n",
    "\n",
    "text= \"hello world\"\n",
    "print(remove_spaces(text))\n",
    "\n",
    "    \n",
    "# 2-4. is_numeric(text)\n",
    "# hint : str.isdigit()\n",
    "def is_numeric(text) :\n",
    "  return text.isdigit()\n",
    "\n",
    "text= \"12345\"\n",
    "print(is_numeric(text))\n",
    "    \n",
    "\n",
    "def contains_substring(main_string, sub_string) :\n",
    "  return sub_string in main_string\n",
    "\n",
    "main_string= \"hello world\"\n",
    "sub_string= \"world\"\n",
    "print(contains_substring(main_string, sub_string))\n",
    "    "
   ]
  },
  {
   "cell_type": "code",
   "execution_count": null,
   "metadata": {},
   "outputs": [],
   "source": [
    "# 3. Number Comparison\n",
    "\n",
    "# Write functions to compare two numbers using if/else statements.\n",
    "\n",
    "### Requirements\n",
    "# *   Write a function `compare_numbers(num1, num2)` that takes two integers `num1` and `num2`.\n",
    "#     - Print whether `num1` is equal to `num2`\n",
    "#     - Print whether `num1` is greater than `num2`\n",
    "#     - Print whether `num1` is less than `num2`\n",
    "#     - If the inputs are not integers, print an error message: `Error: Both parameters should be integers.`\n",
    "# *   Ensure that the functions produce the expected output for the given test cases.\n",
    "\n",
    "def compare_numbers(num1, num2) :\n",
    "  if (type(num1) != str) & (type(num2) != str) :\n",
    "    if num1 > num2 :\n",
    "      print(f\"{num1} is grather than {num2}\")\n",
    "    elif num1 == num2 :\n",
    "      print(f'{num1} is equal to {num2}')\n",
    "    else :\n",
    "      print(f'{num1} is less than {num2}')\n",
    "  else :\n",
    "    print('Error: Both parameters should be integers')\n",
    "      \n",
    "compare_numbers(10, 5)\n",
    "compare_numbers(\"10\", 5)"
   ]
  },
  {
   "cell_type": "code",
   "execution_count": 6,
   "metadata": {},
   "outputs": [
    {
     "name": "stdout",
     "output_type": "stream",
     "text": [
      "10 is greater than 5\n",
      "Error : Both parameters should be integers.\n"
     ]
    }
   ],
   "source": [
    "# 3. isisntance 활용해서\n",
    "def compare_numbers(num1, num2) :\n",
    "  if isinstance(num1, str) or isinstance(num2, str) :\n",
    "    print('Error : Both parameters should be integers.')\n",
    "    return\n",
    "  \n",
    "  if num1 > num2 : \n",
    "    print(f'{num1} is greater than {num2}')\n",
    "    \n",
    "  elif num1 == num2 :\n",
    "    print(f'{num1} is equal to {num2}')\n",
    "    \n",
    "  else :\n",
    "    print(f'{num1} is less than {num2}')\n",
    "    \n",
    "compare_numbers(10, 5)\n",
    "compare_numbers(\"10\", 5) "
   ]
  },
  {
   "cell_type": "code",
   "execution_count": 7,
   "metadata": {},
   "outputs": [
    {
     "name": "stdout",
     "output_type": "stream",
     "text": [
      "10 is greater than 5\n",
      "Error : Both parameters should be integers.\n"
     ]
    }
   ],
   "source": [
    "# 3. isisntance 활용한 sol\n",
    "def compare_numbers(num1, num2) :\n",
    "  if not isinstance(num1, int) or not isinstance(num2, int) : # 둘 중에 하나 True(: int가 아닌게 True)라면면 출력\n",
    "    print('Error : Both parameters should be integers.')\n",
    "    return\n",
    "  \n",
    "  if num1 > num2 : \n",
    "    print(f'{num1} is greater than {num2}')\n",
    "    \n",
    "  elif num1 == num2 :\n",
    "    print(f'{num1} is equal to {num2}')\n",
    "    \n",
    "  else :\n",
    "    print(f'{num1} is less than {num2}')\n",
    "    \n",
    "compare_numbers(10, 5)\n",
    "compare_numbers(\"10\", 5) "
   ]
  },
  {
   "cell_type": "code",
   "execution_count": 15,
   "metadata": {},
   "outputs": [
    {
     "name": "stdout",
     "output_type": "stream",
     "text": [
      "Error: The second parameter should be a string that can be converted to an integer.\n"
     ]
    }
   ],
   "source": [
    "# 4. def compare_int_and_str(num1, num2):\n",
    "    # Write your code here\n",
    "\n",
    "def compare_int_and_str(num1, num2) :\n",
    "  if not isinstance(num1, int) :\n",
    "    print('Eror: The first parameter should be an integer.')\n",
    "    return # return이 없으면 계속 실행됨\n",
    "  if not isinstance(num2, str) :\n",
    "    print('Error: The second parameter should be a string.')\n",
    "    return\n",
    "  try :\n",
    "    num2 = int(num2)\n",
    "  except ValueError :\n",
    "    print('Error: The second parameter should be a string that can be converted to an integer.')\n",
    "    return\n",
    "  \n",
    "# 오류 상황이 발생한 경우를 제외하고 num2 = int(num2)\n",
    "  if num2 == num1 :\n",
    "    print(f'{num1} and {num2} represent the same value')\n",
    "  else :\n",
    "    print(f'{num1} and {num2} do not represent the same value')\n",
    "    # return없어도 상관없음음\n",
    "\n",
    "# compare_int_and_str(10, \"10\")\n",
    "# compare_int_and_str(\"10\", \"10\")\n",
    "compare_int_and_str(10, 'ten')"
   ]
  },
  {
   "cell_type": "code",
   "execution_count": null,
   "metadata": {},
   "outputs": [],
   "source": []
  },
  {
   "cell_type": "code",
   "execution_count": null,
   "metadata": {},
   "outputs": [],
   "source": []
  },
  {
   "cell_type": "code",
   "execution_count": null,
   "metadata": {},
   "outputs": [],
   "source": []
  },
  {
   "cell_type": "code",
   "execution_count": null,
   "metadata": {},
   "outputs": [],
   "source": []
  },
  {
   "cell_type": "code",
   "execution_count": null,
   "metadata": {},
   "outputs": [],
   "source": []
  }
 ],
 "metadata": {
  "kernelspec": {
   "display_name": "base",
   "language": "python",
   "name": "python3"
  },
  "language_info": {
   "codemirror_mode": {
    "name": "ipython",
    "version": 3
   },
   "file_extension": ".py",
   "mimetype": "text/x-python",
   "name": "python",
   "nbconvert_exporter": "python",
   "pygments_lexer": "ipython3",
   "version": "3.11.5"
  }
 },
 "nbformat": 4,
 "nbformat_minor": 2
}
