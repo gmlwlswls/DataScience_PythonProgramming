{
 "cells": [
  {
   "cell_type": "markdown",
   "metadata": {},
   "source": [
    "### Day 1 - 사전 강의"
   ]
  },
  {
   "cell_type": "markdown",
   "metadata": {},
   "source": [
    "#### 01. Primitive Expressions"
   ]
  },
  {
   "cell_type": "code",
   "execution_count": 8,
   "metadata": {},
   "outputs": [
    {
     "data": {
      "text/plain": [
       "3"
      ]
     },
     "execution_count": 8,
     "metadata": {},
     "output_type": "execute_result"
    }
   ],
   "source": [
    "# intepreter가 code를 운영체제와 소통해서 결과물을 출력\n",
    "# shift + enter : 셀 실행 및및 생성\n",
    "# esc + b : 셀 생성\n",
    "\n",
    "# Operator : \n",
    "# +, -, *, /, %, //, **\n",
    "# % : 나머지 연산자\n",
    "# // : 나눈 몫\n",
    "\n",
    "# operands : 피연산자\n",
    "\n",
    "# expressions : 표현식(연산자, 피연산자)\n",
    "\n",
    "3+4\n",
    "2**8\n",
    "100%78\n",
    "73//20\n",
    "\n",
    "# evaluation : ctrl + Enter (expression을 evaluation)\n"
   ]
  },
  {
   "cell_type": "code",
   "execution_count": 11,
   "metadata": {},
   "outputs": [
    {
     "data": {
      "text/plain": [
       "16"
      ]
     },
     "execution_count": 11,
     "metadata": {},
     "output_type": "execute_result"
    }
   ],
   "source": [
    "# Operators precedence\n",
    "# 1. **(제곱)\n",
    "# 2. -(숫자 앞에 붙는 음수로 만들 때)\n",
    "# 3. *, /, //, %\n",
    "# 4. +, -\n",
    "\n",
    "-2**4 # -16\n",
    "-(2**4) # -16\n",
    "(-2) ** 4"
   ]
  },
  {
   "cell_type": "markdown",
   "metadata": {},
   "source": [
    "#### 2. Types"
   ]
  },
  {
   "cell_type": "code",
   "execution_count": 13,
   "metadata": {},
   "outputs": [
    {
     "data": {
      "text/plain": [
       "75.0"
      ]
     },
     "execution_count": 13,
     "metadata": {},
     "output_type": "execute_result"
    }
   ],
   "source": [
    "# 1. int(integer : 정수) : 1, 4, 8, 100, ,,,\n",
    "# 2. float(floating point) : 2.5, 19.2, 7.1 ,,,\n",
    "\n",
    "# two floats produces a float\n",
    "100.0 - 25.0\n",
    "\n",
    "# int - floats makes the int to a float\n",
    "100 -25.0"
   ]
  },
  {
   "cell_type": "code",
   "execution_count": null,
   "metadata": {},
   "outputs": [],
   "source": [
    "# type에는 1. value set 2. valud에 적용할 수 있는 연산자가 정의되어 있음 ***\n",
    "# 'str'은 + 연산자의 동작 방식이 다름\n",
    "\n",
    "# - int : (1) integer numbers, (2) arthmetic operators can be applied(수학 연산자)\n",
    "# - float : (1) a subset of the real numbers(실수), (2) arthmetic operators can be applied\n",
    "\n",
    "# float 주의 : 소수점 자리(메모리 효율, 계산 빠름)\n"
   ]
  },
  {
   "cell_type": "markdown",
   "metadata": {},
   "source": [
    "#### 3. Call expressions"
   ]
  },
  {
   "cell_type": "code",
   "execution_count": 16,
   "metadata": {},
   "outputs": [
    {
     "data": {
      "text/plain": [
       "9"
      ]
     },
     "execution_count": 16,
     "metadata": {},
     "output_type": "execute_result"
    }
   ],
   "source": [
    "# funcion (함수) 호출\n",
    "# Call expressions : An expression that calls a function(함수를 호출하는 표현식)\n",
    "\n",
    "max(2,3)\n",
    "# - operators : max\n",
    "# - oprands : 2,3\n",
    "# - expressions : max(2,3)\n",
    "\n",
    "max(2,2)\n",
    "\n",
    "# An operand(피연산자 자리에) can also be a call expression\n",
    "max(min(2,3), min(9, 10))"
   ]
  },
  {
   "cell_type": "markdown",
   "metadata": {},
   "source": [
    "#### 4. Variables and Names"
   ]
  },
  {
   "cell_type": "code",
   "execution_count": null,
   "metadata": {},
   "outputs": [],
   "source": [
    "# 값(value)에 의미를 부여 : Variable\n",
    "\n",
    "# Name\n",
    "# : 문자, 숫자, _ 가능\n",
    "# : 숫자로 시작 x\n",
    "# : 대문자 소문자 구분o\n",
    "# : No empty space\n",
    "# : 파이썬 예약어(True, if, for, import 등)\n"
   ]
  },
  {
   "cell_type": "markdown",
   "metadata": {},
   "source": [
    "#### 5. Assignment"
   ]
  },
  {
   "cell_type": "code",
   "execution_count": 25,
   "metadata": {},
   "outputs": [
    {
     "data": {
      "text/plain": [
       "-15.2"
      ]
     },
     "execution_count": 25,
     "metadata": {},
     "output_type": "execute_result"
    }
   ],
   "source": [
    "# 이름과 값 사이에 매치 : Assignment\n",
    "\n",
    "temp_celsius= 31.0 # Assign한 것(31.0 float value를 Name에 assign) - 그 사이 link가 생김\n",
    "temp_celsius\n",
    "\n",
    "x, y = 1, 2\n",
    "x\n",
    "\n",
    "x, y = y,x\n",
    "y\n",
    "\n",
    "temp_celsius + 5/10\n",
    "\n",
    "# reassign available\n",
    "temp_celsius = -15.2 # 상수가 아닌 변수\n",
    "temp_celsius"
   ]
  },
  {
   "cell_type": "code",
   "execution_count": null,
   "metadata": {},
   "outputs": [],
   "source": [
    "# typing 파이썬 언어에 맞는 프로그램 > "
   ]
  },
  {
   "cell_type": "markdown",
   "metadata": {},
   "source": [
    "## Memory Model and Reassignment"
   ]
  },
  {
   "cell_type": "code",
   "execution_count": 26,
   "metadata": {},
   "outputs": [],
   "source": [
    "# What happens in the computer when you execute an assignment statement?"
   ]
  },
  {
   "cell_type": "markdown",
   "metadata": {},
   "source": [
    "#### 01. Memory Model"
   ]
  },
  {
   "cell_type": "code",
   "execution_count": null,
   "metadata": {},
   "outputs": [],
   "source": [
    "# 메모리는 하나의 아파트\n",
    "# A memory object\n",
    "# - Address (위치)\n",
    "# - value (사람)\n",
    "\n",
    "# ex) The object at the memory address id1 has type float and the value 31.0\n",
    "# id1이라는 주소에 float형식의 31.0이 살고 있음음\n",
    "# ex2) The object at the memory address id2 has type function and max\n",
    "# id2\n"
   ]
  },
  {
   "cell_type": "code",
   "execution_count": 27,
   "metadata": {},
   "outputs": [],
   "source": [
    "# - Assignment\n",
    "# <<variable>> = <<expression>> : evaluation 결과값이 variable에 할당\n",
    "\n",
    "# step 1: expression을 계산해서 값으로 만듦 > 값을 메모리 object 하나에 저장\n",
    "# step 2 : memory object의 주소를 저장(왼쪽에 있는 변수에 주소를 저장) 31.0이라는 값이 아닌 '주소'를 저장\n",
    "# variable을 클릭하는 순간 그 주소를 찾아서 안에 있는 value를 가져 옴\n",
    "\n",
    "# 이미 존재하는 경우 reassign은 새로운 주소로 바꿈\n",
    "\n",
    "# variable이 value가 store된 memory를 가리킴\n",
    "\n",
    "# temp_celsius라는 변수가 31.0이 있는 id1이라는 주소를 가리킴\n",
    "# temp_celsius > id1 > value(31.0)\n",
    "\n",
    "# 여러 reassignment 동시에 가능능"
   ]
  },
  {
   "cell_type": "code",
   "execution_count": null,
   "metadata": {},
   "outputs": [],
   "source": [
    "# 예시)\n",
    "advisor = 'Hyung-Sin Kim'\n",
    "# advisor(variable) > 942-416(id, address) > 값(value) : 할당 실행 순서\n",
    "\n",
    "# reassignment 예시)\n",
    "advisor= 'Minhwan Oh' # 942-419 (id, address) > 재할당당\n",
    "\n",
    "# 기존 value, address 삭제하는 것이 아닌\n",
    "# 또다른 주소와 가치 부여(또다른 메모리 공간)\n",
    "# advisor가 다른 주소를 가짐, 942-419\n",
    "# 이전 value, address를 가지고 있음\n",
    "\n",
    "# 기존의 메모리 공간의 값이 삭제되는 것이 아니라 새로운 공간이 생성되고 화살표를 거기로 날린다"
   ]
  },
  {
   "cell_type": "code",
   "execution_count": 28,
   "metadata": {},
   "outputs": [
    {
     "data": {
      "text/plain": [
       "11.0"
      ]
     },
     "execution_count": 28,
     "metadata": {},
     "output_type": "execute_result"
    }
   ],
   "source": [
    "temp_celsius= 31.0 # 31.0(공간 박스) <- temp_celsius \n",
    "difference= 10.0 # 10.0(공간) <- difference\n",
    "temp_celsius = temp_celsius-2*difference # expression결과 <- temp_celsius(메모리 공간 증가)\n",
    "difference= 5.0\n",
    "temp_celsius"
   ]
  },
  {
   "cell_type": "code",
   "execution_count": null,
   "metadata": {},
   "outputs": [],
   "source": [
    "# value들이 많아질수록 파이썬이 메모리 공간 중 화살표가 없는 것들은 삭제"
   ]
  },
  {
   "cell_type": "markdown",
   "metadata": {},
   "source": [
    "### 02. Functions"
   ]
  },
  {
   "cell_type": "code",
   "execution_count": null,
   "metadata": {},
   "outputs": [],
   "source": [
    "# abstraction\n",
    "# : 나와 관련있는 정보만 알아도 협업에 문제가 없음\n",
    "# : interface\n",
    "# : 하드웨어 - 운영체제 - 앱 개발자 - python intepreter - python code\n",
    "\n",
    "# expression, evaluation\n",
    "# operator(function) and operand(value)\n",
    "# value and type(int, float : 값set + 가능한 연산 )\n",
    "# Name and variable\n",
    "\n",
    "# Assignment\n",
    "\n",
    "# Memory model\n",
    "# object + address\n",
    "# address를 가리킴"
   ]
  },
  {
   "cell_type": "markdown",
   "metadata": {},
   "source": [
    "#### 03. Defining Our Own Functions"
   ]
  },
  {
   "cell_type": "code",
   "execution_count": null,
   "metadata": {},
   "outputs": [],
   "source": [
    "# 필요한 함수\n",
    "# convert_to_fahrenheit(10)\n",
    "# Equation : fahrenheit= celsius*9/5 + 32\n",
    "# convert_to_fahrenheit : 선언된 적이 없음\n",
    "\n",
    "def convert_to_fahrenheit(celsius) :\n",
    "  return celsius*9/5 + 32"
   ]
  },
  {
   "cell_type": "code",
   "execution_count": null,
   "metadata": {},
   "outputs": [
    {
     "data": {
      "text/plain": [
       "86.0"
      ]
     },
     "metadata": {},
     "output_type": "display_data"
    }
   ],
   "source": [
    "# go home, go commute, 점점 쌓아올림\n",
    "# A라는 작업의 함수 > 나중에 사용 가능 : 함수가 필요\n",
    "\n",
    "convert_to_fahrenheit(10)\n",
    "convert_to_fahrenheit(15)\n",
    "convert_to_fahrenheit(20)\n",
    "convert_to_fahrenheit(30)"
   ]
  },
  {
   "cell_type": "code",
   "execution_count": null,
   "metadata": {},
   "outputs": [],
   "source": [
    "# def <<function_name>>(<<arguments/parameters/variable>>) : # interface(function header)\n",
    "#   <<function_body>> # implementation\n",
    "#   return <<expressions>>\n",
    "\n",
    "# return 최종 결과값(expressions) : output(function call의 결과값)\n",
    "\n",
    "def convert_to_celsius(fahrenheit) : \n",
    "  return (fahrenheit- 32)*5/9"
   ]
  },
  {
   "cell_type": "code",
   "execution_count": null,
   "metadata": {},
   "outputs": [
    {
     "data": {
      "text/plain": [
       "10.0"
      ]
     },
     "metadata": {},
     "output_type": "display_data"
    }
   ],
   "source": [
    "convert_to_celsius(50)"
   ]
  },
  {
   "cell_type": "markdown",
   "metadata": {},
   "source": [
    "#### 04. Local Variabls"
   ]
  },
  {
   "cell_type": "code",
   "execution_count": null,
   "metadata": {},
   "outputs": [
    {
     "name": "stdout",
     "output_type": "stream",
     "text": [
      "10\n",
      "10.0\n"
     ]
    }
   ],
   "source": [
    "# 함수 내부에 있는 변수 : 로컬 Variable\n",
    "# 함수가 생기면서(선언) 같이 생기다가\n",
    "# 죽으면 같이 죽음\n",
    "# 함수 바깥에서 쓸 수 없음\n",
    "\n",
    "x= 10 #(전역 변수, global 변수)\n",
    "\n",
    "def convert_to_fahrenheit(celsius) : \n",
    "  x= 9/5\n",
    "  b= 32\n",
    "  return celsius*x + b\n",
    "\n",
    "print(x)\n",
    "print(convert_to_celsius(50))\n",
    "# print(a) # error"
   ]
  },
  {
   "cell_type": "code",
   "execution_count": null,
   "metadata": {},
   "outputs": [],
   "source": [
    "# Namespace\n",
    "\n",
    "# function call, it creates a namespace in which to store local variables for that call\n",
    "# 글로벌 namespace 존재(전역 변수 선언 시)\n",
    "# 함수 생성 시 특별한 namespace - 그 곳에서만 생명력을 가짐\n",
    "# 함수 variable의 이름이 전역 변수와 겹치는 경우,\n",
    "\n",
    "# 현재 있는 namespace 우선\n",
    "# 함수 실행 시 함수 namespace 우선 적용\n"
   ]
  },
  {
   "cell_type": "markdown",
   "metadata": {},
   "source": [
    "#### 05. Execute a Function Call"
   ]
  },
  {
   "cell_type": "code",
   "execution_count": null,
   "metadata": {},
   "outputs": [
    {
     "name": "stdout",
     "output_type": "stream",
     "text": [
      "20\n",
      "5\n",
      "20\n"
     ]
    }
   ],
   "source": [
    "max(3+8, 5)\n",
    "\n",
    "# step 1 : 인자를 evaluate : the arguments left to right\n",
    "# step 2 : 파라미터(max(num1, num2 <- parameter))를 포함한 지역 변수에 대한 namespace를 생성 (create a namespace to hold the function call's local variables, including the parameters\n",
    "# step 3 : argument values를 parameter에 할당 > 실제 call expression을 넣을 때는 value를 넣기 때문에 실제 실행할 때는 value와 parameter가 매칭된 상태로 실행됨\n",
    "# step 4 : 함수 body를 실행하고 return이 실행되면 값 계산을 끝내고 함수 호출의 결과로 return값을 반환함\n",
    "# return 뒤에 b=50 의미 없음\n",
    "\n",
    "def doubling(x) :\n",
    "  return 2*x\n",
    "\n",
    "x=5\n",
    "print(doubling(x+5))\n",
    "print(x) # 5\n",
    "x= doubling(x+5)\n",
    "print(x)\n",
    "\n",
    "# frames\n",
    "# - global {doubling(이름이 화살표를 날림- func doubling(,,,)), x}\n",
    "# - 새로운 namespace - doubling{x > 10으로 화살표, return_value > 20으로 화살표} \n",
    "\n",
    "# objects\n",
    "# - func doubling(...), 5, 10, 20\n",
    "# value가 이미 있으면 새로운 메모리집을 만들지 않음\n",
    "# x, y, z = 5이면 5에 3명이 화살표를 날림\n",
    "\n",
    "# expression calls(함수 호출)\n",
    "# step1 : x+5 = 10 계산\n",
    "# step2 : doubling을 위한 namespace가 마련됨\n",
    "# step3 : parameter x에 10 할당(새 함수 namespace에서)\n",
    "# step4 : reeturn 실행\n",
    "# - 새로운 namespace - doubling{x > 10으로 화살표, return_value > 20으로 화살표} \n",
    "# 끝나면 doubling namespace 사라지고 \n",
    "# objects에 func doubling, 5, 10, 20만 남음\n",
    "# x에 20을 할당하면 끝\n",
    "\n",
    "\n"
   ]
  },
  {
   "cell_type": "markdown",
   "metadata": {},
   "source": [
    "#### 06. Guidelines for Designing New Functions"
   ]
  },
  {
   "cell_type": "code",
   "execution_count": 1,
   "metadata": {},
   "outputs": [],
   "source": [
    "# 코딩 : 알고리즘을 프로그래밍 언어로 표현하는 작업\n",
    "# Writing a new function\n",
    "# Name : What do you name the function?\n",
    "# Param : What are the parameers and what types of information do they refer to?\n",
    "# - 몇 개가 필요, 무슨 의미, 이름\n",
    "# Body : What calculations are you doing with that information?\n",
    "# Return : What information does the function return?\n",
    "# Test : Does it work like you expect it to?\n"
   ]
  },
  {
   "cell_type": "code",
   "execution_count": 3,
   "metadata": {},
   "outputs": [
    {
     "data": {
      "text/plain": [
       "24"
      ]
     },
     "execution_count": 3,
     "metadata": {},
     "output_type": "execute_result"
    }
   ],
   "source": [
    "# ex. calculating difference between two days\n",
    "\n",
    "# 1. Determine function name according to what it does \n",
    "# days_difference\n",
    "\n",
    "# 2. Determine parameters and return value\n",
    "# day1(int), day2(int) - input type\n",
    "# output(return value) - difference between the two days\n",
    "\n",
    "# 3. test cases\n",
    "# days_difference(200, 224) > 24\n",
    "# days_difference(27, 27 ) > 0\n",
    "\n",
    "def days_difference(day1 : int, day2 : int) -> int :\n",
    "  # day1 : int(input type : optional), -> int(output type : optional)\n",
    "  # short description\n",
    "  # Return the number of days between day1 and day2, which are both in the range 1-365\n",
    "  # (thus indicating the day of the year)\n",
    "  return day2 - day1\n",
    "\n",
    "days_difference(200, 224) \n",
    "  "
   ]
  },
  {
   "cell_type": "code",
   "execution_count": null,
   "metadata": {},
   "outputs": [],
   "source": [
    "# Summary \n",
    "# Function structure(header and body)\n",
    "# header : interface역할로 재사용, coworker를 위해서라도 symbolic하게\n",
    "\n",
    "# Namespace and local variable\n",
    "# 함수에 대한 Namespace 생성\n",
    "# 실행하면 namespace 삭제\n",
    "\n",
    "# What happens when you call a function \n",
    "\n",
    "# guidelines for writing good functions"
   ]
  },
  {
   "cell_type": "markdown",
   "metadata": {},
   "source": [
    "## String"
   ]
  },
  {
   "cell_type": "code",
   "execution_count": 2,
   "metadata": {},
   "outputs": [
    {
     "data": {
      "text/plain": [
       "'Programming Foundations'"
      ]
     },
     "execution_count": 2,
     "metadata": {},
     "output_type": "execute_result"
    }
   ],
   "source": [
    "# int, float > number values\n",
    "# string(str) > text values\n",
    "\n",
    "# '' or \"\"1일차 수업.docx\"\n",
    "\n",
    "\"Programming Foundations\" # expressions > evaluate \"\" 없으면 오류, value"
   ]
  },
  {
   "cell_type": "code",
   "execution_count": 5,
   "metadata": {},
   "outputs": [],
   "source": [
    "# Programming # namespace"
   ]
  },
  {
   "cell_type": "code",
   "execution_count": 8,
   "metadata": {},
   "outputs": [
    {
     "data": {
      "text/plain": [
       "'19'"
      ]
     },
     "execution_count": 8,
     "metadata": {},
     "output_type": "execute_result"
    }
   ],
   "source": [
    "19\n",
    "'19' # type + operations"
   ]
  },
  {
   "cell_type": "code",
   "execution_count": 12,
   "metadata": {},
   "outputs": [
    {
     "data": {
      "text/plain": [
       "11"
      ]
     },
     "execution_count": 12,
     "metadata": {},
     "output_type": "execute_result"
    }
   ],
   "source": [
    "# len('string') # 문자열 글자수 셀 수 있음음\n",
    "\n",
    "len('string')\n",
    "len('19')\n",
    "len('Jang-heejin') # 띄어쓰기 포함"
   ]
  },
  {
   "cell_type": "code",
   "execution_count": 17,
   "metadata": {},
   "outputs": [
    {
     "data": {
      "text/plain": [
       "\"I don't like COVID-19\""
      ]
     },
     "execution_count": 17,
     "metadata": {},
     "output_type": "execute_result"
    }
   ],
   "source": [
    "# str +연산\n",
    "# 갖다붙임\n",
    "\"19\" + \"20\" # '1920'\n",
    "19 + 20\n",
    "'I ' + 'don' + \"'t \" + 'like ' + 'COVID-19'"
   ]
  },
  {
   "cell_type": "code",
   "execution_count": 20,
   "metadata": {},
   "outputs": [
    {
     "data": {
      "text/plain": [
       "'(--)(__)(--)(__)(--)(__)(--)(__)(--)(__)'"
      ]
     },
     "execution_count": 20,
     "metadata": {},
     "output_type": "execute_result"
    }
   ],
   "source": [
    "# str *연산\n",
    "# 반복\n",
    "\n",
    "'(--)(__)' * 10\n",
    "\n",
    "('(--)' + '(__)') * 5"
   ]
  },
  {
   "cell_type": "code",
   "execution_count": 27,
   "metadata": {},
   "outputs": [
    {
     "data": {
      "text/plain": [
       "'55'"
      ]
     },
     "execution_count": 27,
     "metadata": {},
     "output_type": "execute_result"
    }
   ],
   "source": [
    "# type changes\n",
    "# file에서 불러오는 데이터는 str으로 받아들임\n",
    "int('1')\n",
    "float('-234.2')\n",
    "str(5)\n",
    "type('242.2')\n",
    "type(242.2)\n",
    "\n",
    "int('1') + int('1')\n",
    "str(5) + str(5)"
   ]
  },
  {
   "cell_type": "code",
   "execution_count": 32,
   "metadata": {},
   "outputs": [
    {
     "data": {
      "text/plain": [
       "'Heejin-Jang teaches this course'"
      ]
     },
     "execution_count": 32,
     "metadata": {},
     "output_type": "execute_result"
    }
   ],
   "source": [
    "# str = str + operations\n",
    "# str 역시 variable에 assign 가능\n",
    "\n",
    "my_name = 'Heejin-Jang'\n",
    "my_name\n",
    "len(my_name)\n",
    "my_name * 2\n",
    "\n",
    "my_name + ' teaches this course'"
   ]
  },
  {
   "cell_type": "markdown",
   "metadata": {},
   "source": [
    "#### 01. Special Characters in Strings"
   ]
  },
  {
   "cell_type": "code",
   "execution_count": 44,
   "metadata": {},
   "outputs": [
    {
     "data": {
      "text/plain": [
       "'I said \"I\\'m studying\"'"
      ]
     },
     "execution_count": 44,
     "metadata": {},
     "output_type": "execute_result"
    }
   ],
   "source": [
    "# I'm studying\n",
    "\"I'm studying\"\n",
    "\n",
    "# I said \"I'm studying\"\n",
    "# \\ : 뒤에 오는 따옴표를 str으로 인식\n",
    "\"I said \\\"I\\'m studying\\\"\"\n",
    "\"I said \\\"I'm studying\\\"\" \n",
    "# 'I said \"I\\'m studying\"' - 파이썬 문자열 표현시 ''로 표현하려할 때 'm과 충돌 > \\표시됨"
   ]
  },
  {
   "cell_type": "code",
   "execution_count": 56,
   "metadata": {},
   "outputs": [
    {
     "name": "stdout",
     "output_type": "stream",
     "text": [
      "practi\\ce\n",
      "practi\\ce\n",
      "prac\ttice\n",
      "prac\n",
      "tice\n",
      "practice \n"
     ]
    }
   ],
   "source": [
    "# Escape sequence\n",
    "\n",
    "# \\' : 따옴표 문자열로 인식\n",
    "# \\\" : 동일\n",
    "# \\\\ : backslash(하나 없앰) - backslash를 그대로 표시하고 싶을때\n",
    "# \\t : tab\n",
    "# \\n : Newline\n",
    "# \\r : Carriage return(제일 앞으로 감) # 뒤의 str을 맨앞으로 출력\n",
    "\n",
    "str = 'practi\\\\ce'\n",
    "print(str)\n",
    "\n",
    "str = 'practi\\ce'\n",
    "print(str)\n",
    "\n",
    "str = 'prac\\ttice'\n",
    "print(str)\n",
    "\n",
    "str= 'prac\\ntice'\n",
    "print(str)\n",
    "\n",
    "str= '         \\rpractice'\n",
    "print(str)"
   ]
  },
  {
   "cell_type": "markdown",
   "metadata": {},
   "source": [
    "#### 02. Printing"
   ]
  },
  {
   "cell_type": "code",
   "execution_count": 65,
   "metadata": {},
   "outputs": [
    {
     "name": "stdout",
     "output_type": "stream",
     "text": [
      "2\n",
      "2\n",
      "I like this.\n",
      "1 2 3\n",
      "1 2 3\n",
      "The diameter of the circle is 6 m.\n",
      "\n",
      "Name\tNationality\n",
      "Kim\tKorean\n",
      "Culler\tAmerican\n"
     ]
    }
   ],
   "source": [
    "# input \n",
    "# output 기능 : print\n",
    "\n",
    "print(1+1) # 안의 식을 계산\n",
    "print(2)\n",
    "print('I like this.') # \"\", int, 등 의미 없음, 그냥 결과물을 보여줌\n",
    "print(1, 2, 3)\n",
    "print(1,2,3) # 자동으로 띄어쓰기해서 출력\n",
    "\n",
    "radius= 3\n",
    "print('The diameter of the circle is', radius*2, 'm.')\n",
    "print()\n",
    "\n",
    "print('Name\\tNationality\\nKim\\tKorean\\nCuller\\tAmerican')"
   ]
  },
  {
   "cell_type": "markdown",
   "metadata": {},
   "source": [
    "#### 03. Getting Input from the Keyboard"
   ]
  },
  {
   "cell_type": "code",
   "execution_count": 68,
   "metadata": {},
   "outputs": [
    {
     "data": {
      "text/plain": [
       "'232123'"
      ]
     },
     "execution_count": 68,
     "metadata": {},
     "output_type": "execute_result"
    }
   ],
   "source": [
    "a= input()\n",
    "# user 입력하기를 기다림\n",
    "# string type으로 받아옴\n",
    "\n",
    "a"
   ]
  },
  {
   "cell_type": "code",
   "execution_count": 70,
   "metadata": {},
   "outputs": [],
   "source": [
    "name= input('Please enter your name : ')"
   ]
  },
  {
   "cell_type": "code",
   "execution_count": 72,
   "metadata": {},
   "outputs": [
    {
     "data": {
      "text/plain": [
       "'heejin'"
      ]
     },
     "execution_count": 72,
     "metadata": {},
     "output_type": "execute_result"
    }
   ],
   "source": [
    "name"
   ]
  },
  {
   "cell_type": "code",
   "execution_count": null,
   "metadata": {},
   "outputs": [],
   "source": [
    "# String values and operations\n",
    "# Special characters - \\\\, \\r, \\n, \\t 등\n",
    "# Print and Input"
   ]
  },
  {
   "cell_type": "markdown",
   "metadata": {},
   "source": [
    "## Control Structures - Boolean Types"
   ]
  },
  {
   "cell_type": "code",
   "execution_count": 76,
   "metadata": {},
   "outputs": [],
   "source": [
    "# func을 전체 실행하면 비효율적\n",
    "# boolean을 활용\n",
    "\n",
    "# depending on typing yes or no\n",
    "# whether the number of students is less than 40 or not\n",
    "\n",
    "# Control flow\n",
    "# Boolean - True, False(논리값)\n",
    "\n",
    "# type : bool\n",
    "# operators : not, and, or"
   ]
  },
  {
   "cell_type": "code",
   "execution_count": 80,
   "metadata": {},
   "outputs": [
    {
     "data": {
      "text/plain": [
       "False"
      ]
     },
     "execution_count": 80,
     "metadata": {},
     "output_type": "execute_result"
    }
   ],
   "source": [
    "True\n",
    "False\n",
    "\n",
    "type(True)\n",
    "\n",
    "not True\n",
    "\n",
    "False and True"
   ]
  },
  {
   "cell_type": "code",
   "execution_count": 81,
   "metadata": {},
   "outputs": [],
   "source": [
    "cold= True\n",
    "windy= False"
   ]
  },
  {
   "cell_type": "code",
   "execution_count": 83,
   "metadata": {},
   "outputs": [
    {
     "data": {
      "text/plain": [
       "True"
      ]
     },
     "execution_count": 83,
     "metadata": {},
     "output_type": "execute_result"
    }
   ],
   "source": [
    "cold"
   ]
  },
  {
   "cell_type": "code",
   "execution_count": 84,
   "metadata": {},
   "outputs": [
    {
     "data": {
      "text/plain": [
       "False"
      ]
     },
     "execution_count": 84,
     "metadata": {},
     "output_type": "execute_result"
    }
   ],
   "source": [
    "(not cold) and windy"
   ]
  },
  {
   "cell_type": "markdown",
   "metadata": {},
   "source": [
    "#### 01. Relational Operators"
   ]
  },
  {
   "cell_type": "code",
   "execution_count": 89,
   "metadata": {},
   "outputs": [
    {
     "data": {
      "text/plain": [
       "False"
      ]
     },
     "execution_count": 89,
     "metadata": {},
     "output_type": "execute_result"
    }
   ],
   "source": [
    "# > , <, >=, <=, ==, !=\n",
    "# 비교 연산자\n",
    "# 입력하는게 bool이 아닌데도 bool 출력\n",
    "\n",
    "22 > 10\n",
    "30 > 40\n",
    "55 == 55\n",
    "56!= 56"
   ]
  },
  {
   "cell_type": "code",
   "execution_count": 86,
   "metadata": {},
   "outputs": [
    {
     "data": {
      "text/plain": [
       "False"
      ]
     },
     "execution_count": 86,
     "metadata": {},
     "output_type": "execute_result"
    }
   ],
   "source": [
    "# bool type 연산 : 논리 연산자\n",
    "# bool type이 아닌 연산으로 bool 결과 : 비교 연산자(relational operators)"
   ]
  },
  {
   "cell_type": "code",
   "execution_count": 91,
   "metadata": {},
   "outputs": [
    {
     "data": {
      "text/plain": [
       "False"
      ]
     },
     "execution_count": 91,
     "metadata": {},
     "output_type": "execute_result"
    }
   ],
   "source": [
    "def is_positive(x : float) -> bool :\n",
    "  return x > 0\n",
    "\n",
    "is_positive(3)\n",
    "is_positive(-2)"
   ]
  },
  {
   "cell_type": "markdown",
   "metadata": {},
   "source": [
    "#### 02. More Complex Comparisons"
   ]
  },
  {
   "cell_type": "code",
   "execution_count": 92,
   "metadata": {},
   "outputs": [
    {
     "data": {
      "text/plain": [
       "False"
      ]
     },
     "execution_count": 92,
     "metadata": {},
     "output_type": "execute_result"
    }
   ],
   "source": [
    "# 연산 순서\n",
    "# 수학적 연산자(+, -, /, //, %, ,,) - 비교 연산자(>, <, ==, ,,) - boolean 논리 연산자(and, or, not)\n",
    "\n",
    "True and (3==3) and (7 > 3+4)"
   ]
  },
  {
   "cell_type": "code",
   "execution_count": 97,
   "metadata": {},
   "outputs": [
    {
     "data": {
      "text/plain": [
       "True"
      ]
     },
     "execution_count": 97,
     "metadata": {},
     "output_type": "execute_result"
    }
   ],
   "source": [
    "# short-circuit evaluation\n",
    "# true and false and true and true ,,, 이면\n",
    "# false 나온 순간 연산 멈춤 ***\n",
    "\n",
    "(2>3) and (5>7) and (5==5)\n",
    "(3+5 == 8) or (1/0) # (1/0) : error이나 앞 True이므로 or연산으로 **뒤의 계산 안함**\n",
    "# False or (1/0)\n",
    "\n",
    "# 모든 evaluate 하는 코드하면 오류는 잘 찾을 수 있으나 속도가 느려짐"
   ]
  },
  {
   "cell_type": "markdown",
   "metadata": {},
   "source": [
    "#### 03. ASCII Code and Comparing Strings"
   ]
  },
  {
   "cell_type": "code",
   "execution_count": 103,
   "metadata": {},
   "outputs": [
    {
     "data": {
      "text/plain": [
       "True"
      ]
     },
     "execution_count": 103,
     "metadata": {},
     "output_type": "execute_result"
    }
   ],
   "source": [
    "# string 비교\n",
    "# string > 숫자로 mapping되어있음\n",
    "# computer 숫자로 인식 가능\n",
    "\n",
    "# A는 컴퓨터가 65로 받음\n",
    "# 다시 A로 반환해줌\n",
    "\n",
    "# 문자의 ASCII CODE 반환 ord(A)\n",
    "ord('A')\n",
    "\n",
    "# 사전상 순서와 동일일\n",
    "\"A\" < \"B\" \n",
    "\"A\" < \"a\"\n",
    "\"abc\" < \"abd\"\n",
    "\"abdaaa\" < \"abc\"\n",
    "\"abc\" < \"abcd\"\n",
    "\n",
    "# 비교 연산자에 숫자, 문자열(아스키코드 상상) 둘 다 가능"
   ]
  },
  {
   "cell_type": "markdown",
   "metadata": {},
   "source": [
    "#### 04. A String inside Another String"
   ]
  },
  {
   "cell_type": "code",
   "execution_count": 107,
   "metadata": {},
   "outputs": [
    {
     "data": {
      "text/plain": [
       "True"
      ]
     },
     "execution_count": 107,
     "metadata": {},
     "output_type": "execute_result"
    }
   ],
   "source": [
    "# 'in' operator\n",
    "\n",
    "\"Sep\" in \"09 Sep 2020\"\n",
    "\"Oct\" in \"09 Sep 2020\"\n",
    "\n",
    "# 공집합은 모든 집합의 부분집합\n",
    "# 비어있는 문자열은 모든 문자열에 포함\n",
    "\"\" in 'abc'\n",
    "\n",
    "\"\" in \"\" # 공집합은 공집합의 부분집합\n"
   ]
  },
  {
   "cell_type": "code",
   "execution_count": null,
   "metadata": {},
   "outputs": [],
   "source": [
    "# Boolean type - nor, and, or\n",
    "\n",
    "# Relational operators and comparisons(숫자, 문자열 가능)\n",
    "\n",
    "# \"in\" operator"
   ]
  },
  {
   "cell_type": "markdown",
   "metadata": {},
   "source": [
    "## Control Structures - If/Else"
   ]
  },
  {
   "cell_type": "code",
   "execution_count": 111,
   "metadata": {},
   "outputs": [
    {
     "name": "stdout",
     "output_type": "stream",
     "text": [
      "After Programming Foundations\n"
     ]
    },
    {
     "data": {
      "text/plain": [
       "'12:30'"
      ]
     },
     "execution_count": 111,
     "metadata": {},
     "output_type": "execute_result"
    }
   ],
   "source": [
    "# if <<condition>> :\n",
    "# elif  <<condition2>> :\n",
    "#         <<block>>\n",
    "# else :\n",
    "#         <<block>>\n",
    "\n",
    "# ex)\n",
    "time= input('Enter the current time in the format HH:MM')\n",
    "\n",
    "if time < \"11:00\" :\n",
    "  print('Before Programming Foundations')\n",
    "elif time < '12:15' :\n",
    "  print('During Programming Foundations')\n",
    "else :\n",
    "  print('After Programming Foundations')\n",
    "\n",
    "time"
   ]
  },
  {
   "cell_type": "markdown",
   "metadata": {},
   "source": [
    "#### 01. Nested If Statements"
   ]
  },
  {
   "cell_type": "code",
   "execution_count": 114,
   "metadata": {},
   "outputs": [
    {
     "name": "stdout",
     "output_type": "stream",
     "text": [
      "medium\n"
     ]
    }
   ],
   "source": [
    "# if문 안의 if문\n",
    "\n",
    "# ex) assume that you have two variables age and bmi\n",
    "\n",
    "age= int(input('input age as int :'))\n",
    "bmi= float(input('input bmi as float :'))\n",
    "\n",
    "young= (age < 45)\n",
    "slim = (bmi < 22.0)\n",
    "\n",
    "if young :\n",
    "  if slim : # str vs int\n",
    "    risk= 'low'\n",
    "  else :\n",
    "    risk= 'medium'\n",
    "else : \n",
    "  if slim :\n",
    "    risk= 'medium'\n",
    "  else :\n",
    "    risk= 'high'\n",
    "\n",
    "print(risk)"
   ]
  },
  {
   "cell_type": "code",
   "execution_count": null,
   "metadata": {},
   "outputs": [],
   "source": [
    "# 'if' and 'else' statements\n",
    "\n",
    "# Nested if statements"
   ]
  },
  {
   "cell_type": "code",
   "execution_count": 122,
   "metadata": {},
   "outputs": [
    {
     "name": "stdout",
     "output_type": "stream",
     "text": [
      "Hello, heejin!\n",
      "Pi is approximately 3.\n",
      "Pi is approximately 3.141593.\n",
      "Pi is approximately 3.14.\n",
      "Hexadecimal: ff\n",
      "character : A.\n"
     ]
    }
   ],
   "source": [
    "# ** quiz\n",
    "\n",
    "# %s \n",
    "print('Hello, %s!' % name)\n",
    "\n",
    "# %d\n",
    "pi = 3.14159265\n",
    "print('Pi is approximately %d.' % pi)\n",
    "\n",
    "# %f \n",
    "print('Pi is approximately %f.' %pi)\n",
    "\n",
    "# %2f \n",
    "print('Pi is approximately %.2f.' %pi)\n",
    "\n",
    "# %x : convert lowercase hexadecimal to string(16진수)\n",
    "num= 255\n",
    "print('Hexadecimal: %x' %num)\n",
    "\n",
    "# %c : convert num to ASCII\n",
    "num= 65\n",
    "print('character : %c.' %num)\n",
    "\n",
    "# %% : %문자를 표기하고 싶을 때\n",
    "percentage= 50\n",
    "print('completion : %d%%' % percentage)\n"
   ]
  },
  {
   "cell_type": "code",
   "execution_count": 144,
   "metadata": {},
   "outputs": [],
   "source": [
    "# namespace : dictionary{variable_name : pointing out value}를 담은 테이블\n",
    "\n",
    "# (f\"the first var is {var1}\"))\n",
    "# ('the first var is {}.format(var1)') \n",
    "\n"
   ]
  },
  {
   "cell_type": "code",
   "execution_count": 155,
   "metadata": {},
   "outputs": [],
   "source": [
    "# print(str)\n",
    "del str\n",
    "# str = 'a'"
   ]
  },
  {
   "cell_type": "code",
   "execution_count": 157,
   "metadata": {},
   "outputs": [
    {
     "name": "stdout",
     "output_type": "stream",
     "text": [
      "Data4\n",
      "learning3.0\n"
     ]
    }
   ],
   "source": [
    "a= 'Data'\n",
    "b= 4.0\n",
    "int(b)\n",
    "print(a + str(int(b)))\n",
    "# str변수명을 사용하고 있으면 함수 사용 불가능\n",
    "# object is not callable\n",
    "\n",
    "text = \"learning\"\n",
    "num = 3\n",
    "output = text + str(float(num))\n",
    "print(output)"
   ]
  },
  {
   "cell_type": "code",
   "execution_count": 158,
   "metadata": {},
   "outputs": [],
   "source": [
    "def string_comparison(str1, str2):\n",
    "    if str1 <= str2:\n",
    "        if str1 == str2:\n",
    "            result = \"Case 1\"\n",
    "        else:\n",
    "            result = \"Case 2\"\n",
    "    else:\n",
    "        if not str1 > str2:\n",
    "            result = \"Case 3\"\n",
    "        else:\n",
    "            result = \"Case 4\"\n",
    "    return result"
   ]
  },
  {
   "cell_type": "code",
   "execution_count": 161,
   "metadata": {},
   "outputs": [
    {
     "name": "stdout",
     "output_type": "stream",
     "text": [
      "Case 2\n",
      "Case 4\n",
      "Case 1\n"
     ]
    }
   ],
   "source": [
    "print(string_comparison(\"apple\", \"banana\")) \n",
    "\n",
    "print(string_comparison(\"cherry\", \"banana\"))\n",
    "\n",
    "print(string_comparison(\"apple\", \"apple\"))\n",
    "\n",
    "\n",
    "# apple < banana < cherry"
   ]
  }
 ],
 "metadata": {
  "kernelspec": {
   "display_name": "base",
   "language": "python",
   "name": "python3"
  },
  "language_info": {
   "codemirror_mode": {
    "name": "ipython",
    "version": 3
   },
   "file_extension": ".py",
   "mimetype": "text/x-python",
   "name": "python",
   "nbconvert_exporter": "python",
   "pygments_lexer": "ipython3",
   "version": "3.11.5"
  }
 },
 "nbformat": 4,
 "nbformat_minor": 2
}
