{
 "cells": [
  {
   "cell_type": "code",
   "execution_count": null,
   "metadata": {},
   "outputs": [],
   "source": [
    "# Gradescope\n",
    "# py파일\n",
    "# 문제 설명\n",
    "# Skeleton Code - 파일명 함수명, 변수명 되도록 변경하면 안됨\n",
    "# 해당하는 과제 = 제출물 업로드\n",
    "# 전체 문제 한 번에 제출 / 개별 제출 둘 다 가능\n",
    "# jupyter에서 풀고 디버깅해보면서 나중에 python파일로 작성 추천 "
   ]
  },
  {
   "cell_type": "markdown",
   "metadata": {},
   "source": [
    "### Practice 1"
   ]
  },
  {
   "cell_type": "markdown",
   "metadata": {},
   "source": [
    "#### 01. Exercise"
   ]
  },
  {
   "cell_type": "code",
   "execution_count": 37,
   "metadata": {},
   "outputs": [
    {
     "name": "stdout",
     "output_type": "stream",
     "text": [
      "0.2 KRW is 0.0 USD.\n",
      "20 USD is 26000 KRW\n"
     ]
    }
   ],
   "source": [
    "# 1. 환율 변환 함수 (원화 > 달러)\n",
    "# 소수점 2째자리까지\n",
    "\n",
    "### Requirements\n",
    "# * Define a function `convert_to_usd(krw)`.\n",
    "# * Define a function `convert_to_krw(usd)`.\n",
    "\n",
    "# * The functions should return values rounded to two decimal places.\n",
    "\n",
    "# * Assume the exchange rate is 1 USD = 1300 KRW.\n",
    "\n",
    "# * Ensure that the functions produce the expected output for the given test cases.\n",
    "\n",
    "usd_to_krw_rate = 1300\n",
    "\n",
    "# Define a function to convert KRW to USD\n",
    "def convert_to_usd(krw):\n",
    "    # Write your implementation here\n",
    "    usd = krw / usd_to_krw_rate\n",
    "    return usd\n",
    "\n",
    "krw = 0.2\n",
    "usd = round(convert_to_usd(krw), 2)\n",
    "print(f\"{krw} KRW is {usd} USD.\")    \n",
    "\n",
    "# Define a function to convert USD to KRW\n",
    "def convert_to_krw(usd):\n",
    "    # Write your implementation here\n",
    "    return round(usd* usd_to_krw_rate, 2)\n",
    "    \n",
    "usd= 20\n",
    "krw= convert_to_krw(usd)\n",
    "print(f\"{usd} USD is {krw} KRW\")    "
   ]
  },
  {
   "cell_type": "code",
   "execution_count": 38,
   "metadata": {},
   "outputs": [
    {
     "name": "stdout",
     "output_type": "stream",
     "text": [
      "I love java programming\n",
      "HELLO\n",
      "helloworld\n",
      "helloworld\n",
      "True\n",
      "True\n"
     ]
    }
   ],
   "source": [
    "# 2. String Manipulation and Useful Methods\n",
    "# 2-1. replace_word(text, old, new)\n",
    "# hint : str.replace(old_word, new_word) method\n",
    "\n",
    "def replace_word(text, old_word, new_word) :\n",
    "  text = text.replace(old_word, new_word)\n",
    "  return text\n",
    "\n",
    "text = \"I love python programming\"\n",
    "\n",
    "print(replace_word(text, 'python', 'java'))\n",
    "\n",
    "# 2-2. to_uppercase(text)\n",
    "# hint : str.upper()\n",
    "\n",
    "def to_uppercase(text):\n",
    "  text = text.upper()\n",
    "  return text\n",
    "\n",
    "text= \"hello\"\n",
    "print(to_uppercase(text))\n",
    "  \n",
    "# 2-3. remove_spaces(text)\n",
    "# hint : str.replace(old_word, new_word)\n",
    "def remove_spaces(text) :\n",
    "  text = text.replace(\" \", \"\")\n",
    "  return text\n",
    "\n",
    "text= \"hello world\"\n",
    "print(remove_spaces(text))\n",
    "print(replace_word(text, ' ', ''))\n",
    "\n",
    "# 2-4. is_numeric(text)\n",
    "# hint : str.isdigit()\n",
    "def is_numeric(text) :\n",
    "  return text.isdigit()\n",
    "\n",
    "text= \"12345\"\n",
    "print(is_numeric(text))\n",
    "\n",
    "# 2-5. contrains_substring(main_string, sub_string)\n",
    "# if sub_string is found within main_string, otherwise return False. \n",
    "# hint : in operation\n",
    "\n",
    "def contains_substring(main_string, sub_string) :\n",
    "  return sub_string in main_string\n",
    "\n",
    "main_string= \"hello world\"\n",
    "sub_string= \"world\"\n",
    "print(contains_substring(main_string, sub_string))\n",
    "\n"
   ]
  },
  {
   "cell_type": "code",
   "execution_count": 23,
   "metadata": {},
   "outputs": [
    {
     "data": {
      "text/plain": [
       "str"
      ]
     },
     "execution_count": 23,
     "metadata": {},
     "output_type": "execute_result"
    }
   ],
   "source": [
    "num1= 10\n",
    "type(num1)\n",
    "\n",
    "num1 = \"12\"\n",
    "num2 = 2\n",
    "type(num1)"
   ]
  },
  {
   "cell_type": "code",
   "execution_count": 27,
   "metadata": {},
   "outputs": [
    {
     "data": {
      "text/plain": [
       "False"
      ]
     },
     "execution_count": 27,
     "metadata": {},
     "output_type": "execute_result"
    }
   ],
   "source": [
    "(type(num1) != str) & (type(num2) != str)"
   ]
  },
  {
   "cell_type": "code",
   "execution_count": 31,
   "metadata": {},
   "outputs": [
    {
     "name": "stdout",
     "output_type": "stream",
     "text": [
      "10 is grather than 5\n",
      "Error: Both parameters should be integers\n"
     ]
    }
   ],
   "source": [
    "# 3. Number Comparison\n",
    "# compare_numbers(num1, num2)\n",
    "# input에 대한 검증이 포함된 코드\n",
    "\n",
    "# 1. Print whether `num1` is equal to `num2`\n",
    "# 2. Print whether `num1` is greater than `num2`\n",
    "# 3. Print whether `num1` is less than `num2`\n",
    "# 4. If the inputs are not integers, print an error message: `Error: Both parameters should be integers.`\n",
    "# 5. Ensure that the functions produce the expected output for the given test cases.\n",
    "\n",
    "def compare_numbers(num1, num2) :\n",
    "  if (type(num1) != str) & (type(num2) != str) :\n",
    "    if num1 > num2 :\n",
    "      print(f\"{num1} is grater than {num2}\")\n",
    "    elif num1 == num2 :\n",
    "      print(f'{num1} is equal to {num2}')\n",
    "    else :\n",
    "      print(f'{num1} is less than {num2}')\n",
    "  else :\n",
    "    print('Error: Both parameters should be integers')\n",
    "      \n",
    "compare_numbers(10, 5)\n",
    "compare_numbers(\"10\", 5)\n"
   ]
  },
  {
   "cell_type": "code",
   "execution_count": 41,
   "metadata": {},
   "outputs": [
    {
     "name": "stdout",
     "output_type": "stream",
     "text": [
      "10 and 10 represent the same value.\n",
      "Error: The first parameter should be an integer.\n",
      "Error: The second parameter should be a string that can be converted to an integer.\n"
     ]
    }
   ],
   "source": [
    "# 4. Compare Integer and String Representing Integer\n",
    "# compare_int_and_str\n",
    "# str > integer\n",
    "\n",
    "# ### Requirements\n",
    "# *   If `num1` is not an integer, print\n",
    "# `Error: The first parameter should be an integer.`\n",
    "# *   If `num2` is not a string or cannot be converted to an integer, print\n",
    "# `Error: The second parameter should be a string that can be converted to an integer.`\n",
    "#   - **Hint:** Use `try` and `except` to handle the conversion.\n",
    "#   ``` Python\n",
    "#           try:\n",
    "#               # Attempt to convert num2 to an integer\n",
    "#               do something\n",
    "#           except ValueError:  # If an error occurs in the try block\n",
    "#               # Print an error message\n",
    "#               print(\"...\")\n",
    "#   ```\n",
    "# *   If the integer value of `num2` is equal to `num1`, print `{num1} and {num2} represent the same value.`\n",
    "# *   Otherwise, print `{num1} and {num2} do not represent the same value.`\n",
    "# *   Ensure that the function produces the expected output for the given test cases.\n",
    "\n",
    "\n",
    "def compare_int_and_str(num1, num2):\n",
    "    # Write your code here\n",
    "    if not isinstance(num1, int) :\n",
    "      print('Error: The first parameter should be an integer.')\n",
    "      return\n",
    "    \n",
    "    try : \n",
    "      num2= int(num2)\n",
    "    except ValueError: # if an error occurs in the try block, valueerror가 일어났다면\n",
    "      print('Error: The second parameter should be a string that can be converted to an integer.')\n",
    "      return\n",
    "    \n",
    "    if num1 == num2 :\n",
    "      print(f'{num1} and {num2} represent the same value.')\n",
    "    else :\n",
    "      print(f'{num1} and {num2} do not represent the same value')\n",
    "\n",
    "compare_int_and_str(10, \"10\")\n",
    "compare_int_and_str(\"10\", \"10\")\n",
    "compare_int_and_str(10, \"ten\")\n",
    "    "
   ]
  },
  {
   "cell_type": "code",
   "execution_count": null,
   "metadata": {},
   "outputs": [],
   "source": []
  },
  {
   "cell_type": "code",
   "execution_count": null,
   "metadata": {},
   "outputs": [],
   "source": []
  },
  {
   "cell_type": "code",
   "execution_count": null,
   "metadata": {},
   "outputs": [],
   "source": []
  },
  {
   "cell_type": "code",
   "execution_count": null,
   "metadata": {},
   "outputs": [],
   "source": []
  },
  {
   "cell_type": "code",
   "execution_count": null,
   "metadata": {},
   "outputs": [],
   "source": []
  },
  {
   "cell_type": "code",
   "execution_count": null,
   "metadata": {},
   "outputs": [],
   "source": []
  },
  {
   "cell_type": "code",
   "execution_count": null,
   "metadata": {},
   "outputs": [],
   "source": []
  }
 ],
 "metadata": {
  "kernelspec": {
   "display_name": "base",
   "language": "python",
   "name": "python3"
  },
  "language_info": {
   "codemirror_mode": {
    "name": "ipython",
    "version": 3
   },
   "file_extension": ".py",
   "mimetype": "text/x-python",
   "name": "python",
   "nbconvert_exporter": "python",
   "pygments_lexer": "ipython3",
   "version": "3.11.5"
  }
 },
 "nbformat": 4,
 "nbformat_minor": 2
}
