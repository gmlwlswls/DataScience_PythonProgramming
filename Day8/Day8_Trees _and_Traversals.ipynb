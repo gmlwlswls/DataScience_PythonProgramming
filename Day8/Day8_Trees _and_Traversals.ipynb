{
 "cells": [
  {
   "cell_type": "markdown",
   "metadata": {},
   "source": [
    "## Trees and Traversals"
   ]
  },
  {
   "cell_type": "markdown",
   "metadata": {},
   "source": [
    "- Tree Traversals : 이진 트리 순회"
   ]
  },
  {
   "cell_type": "code",
   "execution_count": 2,
   "metadata": {},
   "outputs": [],
   "source": [
    "# Review\n",
    "\n",
    "# - Tree\n",
    "# - LinkedList의 일종(TreeNode-link)\n",
    "# LinkedList < Tree\n",
    "\n",
    "# RootedTree\n",
    "# A > B > C,D\n",
    "\n",
    "# Rooted binary Tree\n",
    "# 자녀 개수를 2개로 제한\n",
    "\n",
    "# Binary search Tree\n",
    "# 모든 value는 unique\n",
    "# 모든 value는 순서가 있음(왼쪽은 작고 오른쪽은 크고)\n"
   ]
  },
  {
   "cell_type": "markdown",
   "metadata": {},
   "source": [
    "### 1. Trees"
   ]
  },
  {
   "cell_type": "code",
   "execution_count": 3,
   "metadata": {},
   "outputs": [],
   "source": [
    "# Bread-first Traversal\n",
    "# Depth-first Traversal\n",
    "# - Depth-first Traversal\n",
    "# - Preorder\n",
    "# - Inorder\n",
    "# - Postorder\n"
   ]
  },
  {
   "cell_type": "code",
   "execution_count": 4,
   "metadata": {},
   "outputs": [],
   "source": [
    "# Trees are everywhere\n",
    "# list, set으로도 충분할 것 같은데 왜 tree?\n",
    "\n",
    "# 일상적인 데이터 구조가 트리로 이루어짐\n",
    "# - Organization chart\n",
    "# - Genealogy(family tree) : 족보\n",
    "# - File system : root(C:) > bin,dev,etc,home, ,,, > bin-cp,ksh,is,pwd, ,,\n"
   ]
  },
  {
   "cell_type": "code",
   "execution_count": null,
   "metadata": {},
   "outputs": [],
   "source": [
    "# K-ary Trees\n",
    "# : 일반적인 tree(꼭 2개의 자녀만 있을 필요 없음)\n",
    "# A general tree node does not have to have only two children nodes\n",
    "# A tree that allows each node to have up to k children nodes is called \"k-ary tree\"\n"
   ]
  }
 ],
 "metadata": {
  "kernelspec": {
   "display_name": "base",
   "language": "python",
   "name": "python3"
  },
  "language_info": {
   "codemirror_mode": {
    "name": "ipython",
    "version": 3
   },
   "file_extension": ".py",
   "mimetype": "text/x-python",
   "name": "python",
   "nbconvert_exporter": "python",
   "pygments_lexer": "ipython3",
   "version": "3.11.5"
  }
 },
 "nbformat": 4,
 "nbformat_minor": 2
}
