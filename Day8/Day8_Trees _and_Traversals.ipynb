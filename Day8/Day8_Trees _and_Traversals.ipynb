{
 "cells": [
  {
   "cell_type": "markdown",
   "metadata": {},
   "source": [
    "## Trees and Traversals"
   ]
  },
  {
   "cell_type": "markdown",
   "metadata": {},
   "source": [
    "- Tree Traversals : 이진 트리 순회"
   ]
  },
  {
   "cell_type": "code",
   "execution_count": 2,
   "metadata": {},
   "outputs": [],
   "source": [
    "# Review\n",
    "\n",
    "# - Tree\n",
    "# - LinkedList의 일종(TreeNode-link)\n",
    "# LinkedList < Tree\n",
    "\n",
    "# RootedTree\n",
    "# A > B > C,D\n",
    "\n",
    "# Rooted binary Tree\n",
    "# 자녀 개수를 2개로 제한\n",
    "\n",
    "# Binary search Tree\n",
    "# 모든 value는 unique\n",
    "# 모든 value는 순서가 있음(왼쪽은 작고 오른쪽은 크고)\n"
   ]
  },
  {
   "cell_type": "markdown",
   "metadata": {},
   "source": [
    "### 1. Trees"
   ]
  },
  {
   "cell_type": "code",
   "execution_count": 3,
   "metadata": {},
   "outputs": [],
   "source": [
    "# Bread-first Traversal\n",
    "# Depth-first Traversal\n",
    "# - Depth-first Traversal\n",
    "# - Preorder\n",
    "# - Inorder\n",
    "# - Postorder\n"
   ]
  },
  {
   "cell_type": "code",
   "execution_count": 4,
   "metadata": {},
   "outputs": [],
   "source": [
    "# Trees are everywhere\n",
    "# list, set으로도 충분할 것 같은데 왜 tree?\n",
    "\n",
    "# 일상적인 데이터 구조가 트리로 이루어짐\n",
    "# - Organization chart\n",
    "# - Genealogy(family tree) : 족보\n",
    "# - File system : root(C:) > bin,dev,etc,home, ,,, > bin-cp,ksh,is,pwd, ,,\n"
   ]
  },
  {
   "cell_type": "code",
   "execution_count": 1,
   "metadata": {},
   "outputs": [],
   "source": [
    "# K-ary Trees\n",
    "# : 일반적인 tree(꼭 2개의 자녀만 있을 필요 없음)\n",
    "# A general tree node does not have to have only two children nodes\n",
    "# A tree that allows each node to have up to k children nodes is called \"k-ary tree\"\n",
    "# k개의 화살표 - 자녀가 없을 때는 K개의 None list\n",
    "\n",
    "class TreeNode() :\n",
    "  def __init__(self, x: int, k: int): # -> None\n",
    "    self.val = x\n",
    "    self.k_ary = k\n",
    "    self.child = [None] * k\n"
   ]
  },
  {
   "cell_type": "markdown",
   "metadata": {},
   "source": [
    "- How to navigate the whold tree conveniently?"
   ]
  },
  {
   "cell_type": "markdown",
   "metadata": {},
   "source": [
    "### 1. Breadth-First Traversal"
   ]
  },
  {
   "cell_type": "code",
   "execution_count": null,
   "metadata": {},
   "outputs": [],
   "source": [
    "# 넓이 탐색하면서 차례로 아래로 내려가는\n",
    "# Level-order : 한 레벨을 탐색\n",
    "\n",
    "# Visit nodes from left to right and from top to bottom\n",
    "\n",
    "class TreeNode() :\n",
    "  def __init__(self, x: int, k: int): # -> None\n",
    "    self.val = x\n",
    "    self.k_ary = k\n",
    "    self.child = [None] * k\n",
    "\n",
    "class Tree() :\n",
    "  def __init__(self):\n",
    "    pass\n",
    "  \n",
    "  # visit 함수를 통해 이 알고리즘이 전체 node를 확인했다는 것을 확인인\n",
    "  def visit(self, node: TreeNode) :\n",
    "    print(node.val) # 해당 node를 방문했다는 기록 \n",
    "\n",
    "  def BFT(self) :\n",
    "    if self.root == None :\n",
    "      return\n",
    "    \n",
    "    q = [self.root] # 방문을 기다리는 node들\n",
    "    while q :\n",
    "      curNode = q.pop(0)\n",
    "      self.visit(curNode)\n",
    "      for childNode in curNode.child :\n",
    "        if childNode:\n",
    "          q.append(childNode)\n",
    "   \n",
    "#    4\n",
    "#  2   6\n",
    "# 1 3 5 7\n",
    "\n",
    "# 1-1. \n",
    "# q = [TreeNode(4)] \n",
    "# q.pop(0) - 가장 왼쪽에 있는 값 삭제하여 다음 방문할 curNode에 매핑 > q = []\n",
    "# visit을 통해 curNode를 방문 > curNode = TreeNode(4) \n",
    "# ** print(4)\n",
    "\n",
    "# 1-2. 1st while loop\n",
    "# 다음으로 4가 가지고 있는 다음 level의 node들을 q에 할당\n",
    "# - k개의 childlist를 for loop을 돌림\n",
    "# - childnode 중 None이 아니면 q에 append(childnode) > visit_list인 q에 append를 통해 뒤에 입력\n",
    "# q = [TreeNode(2), TreeNode(6)] >> 2nd while\n",
    "\n",
    "# 2. 2nd while loop\n",
    "# curNode = TreeNode(2) / q = [TreeNode(6)]\n",
    "# ** print(2)\n",
    "# q = [TreeNode(6), TreeNode(1), TreeNode(3)]\n",
    "\n",
    "# 3. 3rd while loop\n",
    "# curNode = TreeNode(6) / q = [TreeNode(1), TreeNode(3)]\n",
    "# ** print(6)\n",
    "# q = [TreeNode(1), TreeNode(3), TreeNode(5), TreeNode(7)]\n",
    "\n",
    "# 4. 4th while loop\n",
    "# curNode = TreeNode(1) / q = [TreeNode(3), TreeNode(5), TreeNode(7)]\n",
    "# ** print(1)\n",
    "\n",
    "# ,,,\n",
    "\n",
    "# q.pop(0) > q = []\n"
   ]
  },
  {
   "cell_type": "code",
   "execution_count": null,
   "metadata": {},
   "outputs": [],
   "source": [
    "# >> 모든 TreeNode를 반드시 방문할 수 밖에 없는 강력한 알고리즘\n",
    "# 단, 성능에서 list에서의 append, pop은 바람직하지 않음(resizing 가능성)\n",
    "# 이 때, linked_list의 형태로 파이썬에서 제공하는 리스트 : Deque (Doubly-linkedlist의 형태)\n",
    "# - 자주 넣었다 뺐다 하는 종류의 데이터 구조는 Deque를 활용하면 편리\n",
    "# Deque의 메서드\n",
    "# - append(x) : 오른쪽에 삽입\n",
    "# - appendleft(x) : 왼쪽에 삽입\n",
    "# - pop() : 오른쪽 삭제\n",
    "# - popleft() : 왼쪽 삭제\n",
    "\n",
    "from collections import deque\n",
    "\n",
    "class TreeNode() :\n",
    "  def __init__(self, x: int, k: int): # -> None\n",
    "    self.val = x\n",
    "    self.k_ary = k\n",
    "    self.child = [None] * k\n",
    "\n",
    "class Tree() :\n",
    "  def __init__(self):\n",
    "    pass\n",
    "  \n",
    "  # visit 함수를 통해 이 알고리즘이 전체 node를 확인했다는 것을 확인인\n",
    "  def visit(self, node: TreeNode) :\n",
    "    print(node.val) # 해당 node를 방문했다는 기록 \n",
    "\n",
    "  def BFT(self) :\n",
    "    if self.root == None :\n",
    "      return\n",
    "    \n",
    "    q = deque([self.root]) # 방문을 기다리는 node들\n",
    "    while q :\n",
    "      curNode = q.popleft(0)\n",
    "      self.visit(curNode)\n",
    "      for childNode in curNode.child :\n",
    "        if childNode:\n",
    "          q.append(childNode)"
   ]
  },
  {
   "cell_type": "code",
   "execution_count": null,
   "metadata": {},
   "outputs": [],
   "source": [
    "# 큐를 사용할 때는 기본 리스트 대신 deque를 사용하는것이 유리\n",
    "# 메모리는 링크에 대한 메모리가 할당되지만 치명적이지는 않음\n",
    "# deque는 linkedlist가 강한 환경(넣었다 뺏다 하는 것이 많은 경우) - 속도가 빠름"
   ]
  },
  {
   "cell_type": "markdown",
   "metadata": {},
   "source": [
    "### 2. Depth-First Traversal"
   ]
  },
  {
   "cell_type": "code",
   "execution_count": null,
   "metadata": {},
   "outputs": [],
   "source": []
  }
 ],
 "metadata": {
  "kernelspec": {
   "display_name": "base",
   "language": "python",
   "name": "python3"
  },
  "language_info": {
   "codemirror_mode": {
    "name": "ipython",
    "version": 3
   },
   "file_extension": ".py",
   "mimetype": "text/x-python",
   "name": "python",
   "nbconvert_exporter": "python",
   "pygments_lexer": "ipython3",
   "version": "3.11.5"
  }
 },
 "nbformat": 4,
 "nbformat_minor": 2
}
