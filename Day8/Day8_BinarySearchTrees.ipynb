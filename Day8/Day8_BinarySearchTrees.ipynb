{
 "cells": [
  {
   "cell_type": "markdown",
   "metadata": {},
   "source": [
    "## Day8"
   ]
  },
  {
   "cell_type": "code",
   "execution_count": 3,
   "metadata": {},
   "outputs": [],
   "source": [
    "# Review\n",
    "\n",
    "# 1) Arrays\n",
    "# A sequence of **neighboring** memory boxes\n",
    "# Know where an arbitrary(i-th) element is located, by using the neighboring rule\n",
    "# - 첫번째 요소의 위치만 알면 n-th 요소를 알 수 있음(규칙때문)\n",
    "# Limitation) Fixed length and Expensive resizing\n",
    "# Make a brand-new array + copy all the existing elements\n",
    "# Improvement) Resizing step adjustment (1step씩이 아니라 5step씩)\n",
    "\n",
    "# 2) Linked Lists\n",
    "# A list of nodes each of which has a link to another node\n",
    "# Know where the next element is located, by using the next pointer\n",
    "# - neighboring rule이 없어서 0번째 애가 1번째 애로 가는 link를 제공해야 갈 수 있음\n",
    "# Limitation) Don't know what is where + Frequent navigation through the list\n",
    "# value 정보만 있어도 되는데 link정보까지 있어야 하니까 heavy함\n",
    "# for loop을 돌릴 여지가 많음\n",
    "# Improvement) Caching and sentinel (navigation 적게 하려면 자주 쓰이는 정보는 저장,\n",
    "#                                    if-else문을 적게 하기 위한 sentinel 도입)\n",
    "\n",
    "# Queues(FIFO) and Stacks(LIFO)\n",
    "# Queues : 먼저 들어온 것이 먼저 빠짐\n",
    "# Stacks : 나중에 들어온 것이 먼저 빠짐"
   ]
  },
  {
   "cell_type": "code",
   "execution_count": 4,
   "metadata": {},
   "outputs": [],
   "source": [
    "# Binary Search Tree\n",
    "# Binary Search : by list\n",
    "# Binary Search Tree : by linked_list\n",
    "\n",
    "# 1) Tree\n",
    "# 2) Binary Search Tree\n",
    "# - Search\n",
    "# - Insert\n",
    "# - Delete"
   ]
  },
  {
   "cell_type": "code",
   "execution_count": 5,
   "metadata": {},
   "outputs": [],
   "source": [
    "# Downside of Linked Lists\n",
    "# - Slow search (O(N)) even when items are sorted\n",
    "# - first를 맨 왼쪽에 위치\n",
    "\n",
    "# An improvement for seaerch\n",
    "# - Change the first node to middle (first를 중간으로 위치)\n",
    "# - Reverse the direction of left arrows\n",
    "\n",
    "# Tree\n",
    "# - like Binary Search!\n",
    "# first 4 > 2  > 1 , 3\n",
    "#         > 6 > 5, 7\n",
    "# 왼쪽보다 크면 왼쪽(1/2씩)이 다 날아가는 방식\n",
    "# (sorting이 잘 되어있다면)\n"
   ]
  },
  {
   "cell_type": "markdown",
   "metadata": {},
   "source": [
    "### 1. Tree"
   ]
  },
  {
   "cell_type": "code",
   "execution_count": 7,
   "metadata": {},
   "outputs": [],
   "source": [
    "# - A tree comprises a set of nodes that are connected(linked) to each other\n",
    "# - There is only one path between two nodes in a tree\n",
    "\n",
    "# Choose Trees!\n",
    "# 2,5 - 회로같이 돌 수 있는 길목이 있기 때문\n"
   ]
  },
  {
   "cell_type": "markdown",
   "metadata": {},
   "source": [
    "### 2. Rooted Binary Trees"
   ]
  },
  {
   "cell_type": "code",
   "execution_count": 9,
   "metadata": {},
   "outputs": [],
   "source": [
    "# Rooted Tree\n",
    "# A > B > C,D\n",
    "# - there is **one** root node(at the top of the tree)\n",
    "# - Every node(except the root) has one parent - the first node on its path toward the root\n",
    "# - A node without a child is a leaf(마지막)\n",
    "\n",
    "# Relationship\n",
    "# - A is the root and a parent of B\n",
    "# - B is a child of A and a parent of C and D \n",
    "# - C and D are leaves and children of B \n",
    " \n",
    "# Rooted binary tree\n",
    "# - Each node has at most two children nodes\n",
    "\n",
    "# (Rooted) Binary Search Trees\n",
    "# A binary search tree is a rooted binary tree thas has the following two properties\n",
    "# For every node x,\n",
    "# 1) x's value is unique in the whole tree\n",
    "# 2) Every node y in the *left* subtree of node x has value *less* than x's value\n",
    "# 3) Every node z in the *right* subtree of node x has value *greater* than x's value\n",
    "# => 유일, 정렬\n"
   ]
  },
  {
   "cell_type": "code",
   "execution_count": null,
   "metadata": {},
   "outputs": [],
   "source": [
    "class TreeNode() :\n",
    "  def __init__(self, x : int):\n",
    "    self.val = x\n",
    "    self.left = None\n",
    "    self.right = None\n",
    "\n",
    "class BST() :\n",
    "  def __init__(self):\n",
    "    self.root = None\n",
    "  \n",
    "  # search(3)\n",
    "  # 3 < 4 : go left\n",
    "  # 3 > 2 : go right\n",
    "  # 3 == 3 : return curNode > TreeNode(3)  \n",
    "  def __searchHelp(curNode: TreeNode, x : int) : # -> TreeNode\n",
    "    if not curNode : # <=> curNode is None => base case\n",
    "      return None\n",
    "    if x == curNode.val :\n",
    "      return curNode\n",
    "    elif x < curNode.val :\n",
    "      return self.__searchHelp(curNode.left, x)\n",
    "    else : # x > curNode.val\n",
    "      return self.__searchHelp(curNode.right, x) # leaf까지 확인했는데 없는 경우 None 반환\n",
    "\n",
    "  # insert(5)\n",
    "  # 5 > 4 : go right\n",
    "  # 5 < 6 : go left > None > TreeNode(5)\n",
    "  # curNode.val = 6, curNode.left = TreeNode(5) ** assignment, curNode.right = 7\n",
    "  # return curNode\n",
    "  def __insertHelp(curNode: TreeNode, x: int) : # -> TreeNode\n",
    "    if not curNode : # <=> curNode is None\n",
    "      return TreeNode(x)\n",
    "    if x < curNode.val :\n",
    "      # search의 return과 달리 assignment\n",
    "      # 새로 생긴 node의 부모를 찾아야 하기 때문\n",
    "      curNode.left = self.__insertHelp(curNode.left, x) \n",
    "    elif x > curNode.val :\n",
    "      curNode.right = self.__insertHelp(curNode.right, x)\n",
    "    return curNode\n",
    "  \n",
    "  def search(self, x : int) : # -> TreeNode : x를 입력하면 속해있는 treenode를 반환\n",
    "    return self.__searchHelp(self.root, x) # self.root랑 같거나 아래에 있는 node 중 x를 찾아줘\n",
    "  \n",
    "  def insert(self, x : int) :\n",
    "    self.root = self.__insertHelp(self.root, x)\n",
    "\n",
    "  # Case 1) Delete a leaf node(not child)\n",
    "  # - Search the node using its key value\n",
    "  # - Simply cut the parent's link\n",
    "  # - Then the target node is gone\n",
    "  \n",
    "  # Case 2) Delete a node with one child \n",
    "  # > What should we do for its child?\n",
    "  # - Search the node using its key value\n",
    "  # - Cut the parent's link to the target\n",
    "  # - Move the child node to where the target node was\n",
    "  # : 단순히 삭제해도 괜찮은게 부모 node(6)는 상위 노드(8)보다 무조건 작은 값으로\n",
    "  #  그 아래 위치한 자녀 node(7)는 상위 노드에 단순히 붙어도 상관없음\n",
    "  \n",
    "  # Case 3) Delete a node with two children\n",
    "  # - Search the node using its key value\n",
    "  # - Find a subtree node that can be located at the target node's location\n",
    "  # - The node's value must be larger than all the left subtree node's values\n",
    "  # - The node's value must be smaller than all the right subtree node's values\n",
    "  # : 가장 상위 node(4)를 삭제하려고 할 때\n",
    "  # (1) 왼쪽subtree에 위치한 값은 무조건 4보다 작은데 그 중 가장 value가 큰 값을 가져오면 됨\n",
    "  # 2 > 1, 3 : 2에서 최대로 오른쪽으로 가면 3이 제일 큰 값으로\n",
    "  # 이 3이 4번 위치로 오면 문제가 없음 - 그 외 값은 다 3보다 작음\n",
    "  # 또한, 3은 원래 4보다 작은 값으로 오른쪽 subtree(4보다 큰)와도 문제가 없음\n",
    "  # (2) 마찬가지로 오른쪽 subtree의 가장 작은은 값을 올려도 상관없음\n",
    "  # <=> Either the rightmost node in the left subtree or the leftmost node in the right subtree works\n",
    "  # Ex(1) Delete 3(rightmost node in the left subtree) and place copy at the target's node(4)\n",
    "  # Ex(2) Delete 6(leftmost node in the right subtree) + 6의 child인 7을 상위노드(8)에 왼쪽으로 연결 + place copy at the target's node(4) \n",
    "  \n",
    "  def delete(self, x: int) :\n",
    "    \n",
    "    \n",
    "    \n",
    "    \n",
    "  \n",
    "    "
   ]
  },
  {
   "cell_type": "code",
   "execution_count": null,
   "metadata": {},
   "outputs": [],
   "source": [
    "# Bst operations require O(logN), which is its depth\n",
    "# - Only if the BST is balanced\n",
    "\n",
    "# Maintaining a BST to be balanced is very important to maximize its performance!\n",
    "# - Which is out of scope of this course\n",
    "# insert를 balance를 유지하면서 해야 함(자료구조 : B-tree, B-plus-tree)"
   ]
  },
  {
   "cell_type": "markdown",
   "metadata": {},
   "source": [
    "- Summary"
   ]
  },
  {
   "cell_type": "code",
   "execution_count": null,
   "metadata": {},
   "outputs": [],
   "source": [
    "# Tree\n",
    "# - A tree comprises a set of nodes that are connected(linked) to each other\n",
    "# - There is only ** one path ** between two nodes in a tree\n",
    "\n",
    "# Rooted tree\n",
    "# - There is one root node (at the top of the tree)\n",
    "# - Every node(except the root) has one parent - the first node on its path toward the root\n",
    "# - A node without a child is a leaf\n",
    "\n",
    "# Rooted binary tree\n",
    "# - Each node has at most two children nodes\n",
    "\n",
    "# Binary Search Tree\n",
    "# For every node x,\n",
    "# x's value is unique in the whole tree\n",
    "# Every node y in the left subtree of node x has value less than x's value\n",
    "# Every node z in the right subtree of node x has value greater than x's value\n",
    "\n",
    "# 일반적인 데이터 구조(flexible한 list)에서도 돌아가는 알고리즘을 만들어야 하고\n",
    "# 가공할 수 있다면 속도를 높일 수 있는 방법도 찾아야 함함"
   ]
  }
 ],
 "metadata": {
  "kernelspec": {
   "display_name": "base",
   "language": "python",
   "name": "python3"
  },
  "language_info": {
   "codemirror_mode": {
    "name": "ipython",
    "version": 3
   },
   "file_extension": ".py",
   "mimetype": "text/x-python",
   "name": "python",
   "nbconvert_exporter": "python",
   "pygments_lexer": "ipython3",
   "version": "3.11.5"
  }
 },
 "nbformat": 4,
 "nbformat_minor": 2
}
