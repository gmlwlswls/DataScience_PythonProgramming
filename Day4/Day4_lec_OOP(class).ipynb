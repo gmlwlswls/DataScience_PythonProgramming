{
 "cells": [
  {
   "cell_type": "markdown",
   "metadata": {},
   "source": [
    "## Day4"
   ]
  },
  {
   "cell_type": "markdown",
   "metadata": {},
   "source": [
    "### Object-Oriented Programming - Motivation"
   ]
  },
  {
   "cell_type": "code",
   "execution_count": null,
   "metadata": {},
   "outputs": [],
   "source": [
    "# What is OOP?\n",
    "\n",
    "# Procedural Programming : varaibles, data structures, funcitons\n",
    "# 이들은 global space(object로)에 흩어져 있음\n",
    "# A.method는 procedural programming에서 쓰일 일이 없음\n",
    "# Ex. max(2,4), convert_to_celsius(80)\n",
    "\n",
    "# OOP : classes + objects\n",
    "# variable, method가 class안에 들어가있음\n",
    "# 바깥 세상에서 보면 object만 보임(object들끼리 관계를 맺음)\n",
    "# object의 내부적인 구조를 어떻게 구성할지가 중요\n",
    "# programming task를 object에 기반해서 나눔\n",
    "# ex. students.append('inhoe'), students.clear()\n"
   ]
  },
  {
   "cell_type": "code",
   "execution_count": null,
   "metadata": {},
   "outputs": [],
   "source": [
    "# Why OOP? - Spaghetti Code\n",
    "# Spaghetti Code : many modules(functions) are ** super inter-dependent ** to each other\n",
    "# - Very hard to understand and fix\n",
    "# - fixing one function might cause another problem to several other functions\n",
    "\n",
    "# With procedural programming, it is easy to generate this.\n",
    "# Various funcitons and variables become dependent on each other\n",
    "# global space에 func, variable 많은 상태\n",
    "\n",
    "# Why OOP? - Toward More Modular Coding\n",
    "# Combine a group of related variables(attributes) and functions(methods) into a unit,\n",
    "# which is called object(encapsulation)\n",
    "# 하나의 object 안에 related variables, functions > attributes, methods\n",
    "# procedural은 산발적으로 돌아다님(variables, functions)\n",
    "\n",
    "# attributes : object의 특성을 나타내는 표현\n",
    "# method : object가 할 수 있는 기능\n",
    "\n",
    "# +) A object 안 method가 잘 작동하지 않으면 그것만 고치면 됨. B, C는 상관없음(독립적적)"
   ]
  },
  {
   "cell_type": "markdown",
   "metadata": {},
   "source": [
    "#### 01. Principles"
   ]
  },
  {
   "cell_type": "code",
   "execution_count": null,
   "metadata": {},
   "outputs": [],
   "source": [
    "# Four Principles\n",
    "\n",
    "# 1. Encapsulation\n",
    "# 2. Abstraction\n",
    "# 3. Inheritance\n",
    "# 4. Polymorphism(많은 형태)"
   ]
  },
  {
   "cell_type": "code",
   "execution_count": 2,
   "metadata": {},
   "outputs": [],
   "source": [
    "# 1. Encapsulation\n",
    "# Class 성질 1\n",
    "# related info and behaviors(attributes and methods) in an object\n",
    "\n",
    "# Example of grading\n",
    "\n",
    "# 01. Procedual Programming ) \n",
    "# 4 lists, name ,hw, medterm, and final, each of which has 100 elements\n",
    "# name_lst, midtem_lst, hw_lst, final_lst\n",
    "\n",
    "def get_total(midterm, final) :\n",
    "  return midterm * 0.3 + final * 0.4\n",
    "# -> Variables(midterm_lst, final_lst) and methods(get_total) are ** decoupled **\n",
    "# -> variables, methods는 function call할 때 묶여짐\n",
    "# 정보가 많으면 많을수록 function with many parameters(많은 바깥 변수)\n",
    "# get_total(midterm[0], final[0]) # 일일이 parameter 불러와야 함\n",
    "\n",
    "# 02. OOP )\n",
    "# A list of 100 students obejcts\n",
    "# Student obejct(class) = attributes(name, hw, midterm, final), methods(get_total)\n",
    "def get_total(self) :\n",
    "  return self.midterm * 0.3 + self.final * 0.4\n",
    "\n",
    "      # 내장된 attribute > self.midterm\n",
    "# -> Variables and methods are ** encapsulated ** in an object\n",
    "# > 바깥에서 student object를 100개\n",
    "# students[0].get_total() # function with no parameters!, 이미 unit에 parameter 포함되어 있ㅇ므\n",
    "\n",
    "# variable 바깥에 있으면 func parameter정의해서 가져와야지 쓸 수 있고\n",
    "# capsule안에 있으면 self를 통해 가져올 수 있어 call expression이 간편\n"
   ]
  },
  {
   "cell_type": "code",
   "execution_count": 3,
   "metadata": {},
   "outputs": [],
   "source": [
    "# Problem : forgot including 'hw' score!\n",
    "\n",
    "# 01. Procedural Programming(PP)\n",
    "def get_total(midterm, final, hw) : \n",
    "  return midterm * 0.3 + final * 0.4 + hw* 0.3\n",
    "\n",
    "# get_total(midterm[0], final[0], hw[0])\n",
    "# get_total(midetem[1], final[1], hw[1]) ,,,\n",
    "# -> change all the function calls\n",
    "\n",
    "# 02. OOP\n",
    "# student class\n",
    "def get_total(self) :\n",
    "  return self.midterm * 0.3 + self.final * 0.4 + self.hw * 0.3\n",
    "\n",
    "# students[0].get_total()\n",
    "# -> Change only function definition and DONE!\n",
    "\n",
    "# \"The best functions are those with no parameters\"\n",
    "# easier to use and maintain...\n"
   ]
  },
  {
   "cell_type": "code",
   "execution_count": 4,
   "metadata": {},
   "outputs": [],
   "source": [
    "# 2. Abstraction\n",
    "# Class 성질 2\n",
    "\n",
    "# Hide details(many attributes and methods) from outside\n",
    "# private method(__) : 내부용 함수\n",
    "# Class : x1, x2, x3, ,,, xn, func1,(), func2(), ,,,\n",
    "# interface : func1(), func2()만 open해도 문제 없음(그 외 구현 인자 등)\n",
    "\n",
    "# Simpler interface\n",
    "# : However complex an object is, users can understand and use it by studying only a few methods\n",
    "\n",
    "# Isolated impact of change\n",
    "# : 개발자의 입장에서 프로그램 ver update할 때 user 지장이 없게 하는게 좋음\n",
    "# : 구현 detail만 변화하고 user interface 가능한 변화없도록\n",
    "# : Changing an object's attributes and methods does not impact users' application code at all\n",
    "#   as long as its public methods operate as expected\n",
    "\n",
    "# ex. Jupyter notebook\n",
    "# : We ** don't know how its underlying codes ** work and how it interacts with an operating system(immplementation details)\n",
    "# : But we know that if we put a code line and press [CTRL+Enter], we will see a corresponding result(interface)\n",
    "# : When Jupyter ver is updated, we don't worry about studying it from scratch again. \n",
    "#   Because, we already know how to use its ** interfaces **\n"
   ]
  },
  {
   "cell_type": "code",
   "execution_count": 5,
   "metadata": {},
   "outputs": [],
   "source": [
    "# 3. Inheritance **\n",
    "# class 성질 3\n",
    "\n",
    "# class들간의 계층 : 엄마 클래스, 자녀 클래스\n",
    "# 엄마 클래스가 자녀 클래스에 자신의 모든 정보를 상속(엄마 클래스 < 자녀 클래스)\n",
    "\n",
    "# ex. 학교 포탈 사이트\n",
    "# student class, faculty class(교직원)\n",
    "# 공통 : name, email, address, DoB(birthday), affiliation(입적)\n",
    "# 차이 : students) student_num, advisor(지도 교수), courses_taken, courses_taking, GPA\n",
    "#        faculty) faculty_num, advisees(지도 학생), courses_teaching\n",
    "# 교수 클래스, 행정 직원 클래스 또 따로 typing? 비효율적임\n",
    "\n",
    "# > 계층적 사고\n",
    "# : 교직원이든 학생이든 학내 구성원이라면 공통으로 가지는 특성 존재\n",
    "# Member class : name, email, address, DoB, affiliation\n",
    "# Student class(Member) : Inherit Member's attributes and methods + distinct att, methods\n",
    "# Faculty class(Member) : Inherit Member's attributes and methods + distinct att, methods\n"
   ]
  },
  {
   "cell_type": "code",
   "execution_count": 7,
   "metadata": {},
   "outputs": [],
   "source": [
    "# 4. Polymorphism(many forms)\n",
    "# class 성질 4\n",
    "# 부모 클래스의 함수 object의 자녀 클래스에서 구체적인 구현을 다르게 하는 것을을 허용\n",
    "\n",
    "# class들간의 method 이름은 같지만 서로 다른 일을 하는 경우\n",
    "# a single method to do different things depending on what object it is included in\n",
    "# ex. int, str, list의 + 기호 기능이 다름\n",
    "\n",
    "# ex. studentA.switch_affiliation() and facultyA.switch_affiliation() do different things\n",
    "# Member class : name, email, address, DoB, affiliation, ** switch_affiliation **\n",
    "# Student class(Member) : inherit, def switch_affiliation() :\n",
    "                                    # <<block for student>>\n",
    "# Faculty class(Member) : inherit, def switch_affiliation() :\n",
    "                                    # <<block for faculty>>\n",
    "                                   \n",
    "\n",
    "# if using procedural programming, there will be ugly if/else statements\n",
    "# def switch_affiliation(member) :\n",
    "#   if type(member) == faculty :\n",
    "#       <<block for faculty>>\n",
    "#   elif type(member) == student :\n",
    "#        <<block for student>> ..\n"
   ]
  },
  {
   "cell_type": "code",
   "execution_count": 8,
   "metadata": {},
   "outputs": [],
   "source": [
    "# Summary\n",
    "\n",
    "# Encapsulation : Contain related information in an object\n",
    "# - Reduce complexity(모든 애들이 바깥에 있지 않음) and increase reusability\n",
    "\n",
    "# Abstraction : Expose only high level interfaces to the outside world\n",
    "# - Reduce complexity and isolate impact of changes(debugging, ver update에 간편)\n",
    "\n",
    "# Inheritance : Child classes inherit data and behaviors from parent class\n",
    "# - Eliminate rebundant code\n",
    "\n",
    "# Polymorphism : A single method acts in a different way depending on objects(class에 따라 다르게 행동하는 것 지원원)\n",
    "# - Escape from complex if/else statements\n"
   ]
  },
  {
   "cell_type": "code",
   "execution_count": 9,
   "metadata": {},
   "outputs": [],
   "source": [
    "# Review\n",
    "# Class vs Class object \n",
    "# 설계도 vs 실제 건물\n",
    "# 설계도 : attribute, method 있어야 하는데 아직 attribute에 value는 없음\n",
    "#        : value는 class object만들 때 class 내 init 함수를 돌리게 됨\n",
    "#   ***  : class object = class(parameter) > parameter가 attribute에 mapping됨\n",
    "\n",
    "# Method vs Function\n",
    "# : method도 function인데 class 안에 정의되어 있는 function\n",
    "# : 사용하려면 실존하는 class **object**.method\n",
    "# : method안에 자동으로 들어가는 parameter > class object\n",
    "# : self.* \n",
    "\n",
    "# Object-oriented programming\n",
    "# Encapsulation: 모든 애들이 바깥에 있지 않아 복잡성을 낮춤\n",
    "# Abstraction : 구현 디테일 말고 주요 interface(variable, method)만 바깥에 - update가 용이\n",
    "# Inheritance : 공유된 특성, method를 묶어 상위 카테고리의 클래스(부모 클래스)\n",
    "# Polymorphism : 상속받았을 때 부모의 동작과 다르게 하고 싶음 - 이름은 그대로, 동작만 다르게 정의가 가능(** 자녀가 구현하면 부모에게서 상속받는 것은 무시됨 **)\n",
    "\n",
    "# C++ : oop 공부에 좋음\n"
   ]
  },
  {
   "cell_type": "markdown",
   "metadata": {},
   "source": [
    "#### 02. Examples"
   ]
  },
  {
   "cell_type": "markdown",
   "metadata": {},
   "source": [
    "- Inheritance"
   ]
  },
  {
   "cell_type": "code",
   "execution_count": 10,
   "metadata": {},
   "outputs": [],
   "source": [
    "# SchoolMember - Member Class\n",
    "\n",
    "# 가장 상위 클래스\n",
    "class Member :\n",
    "  # initialize 라는 method는 모든 class에 존재\n",
    "  # class object 만들 때 무조건 실행되는 함수\n",
    "  # class 상태에서는 variable 이름만 있고 value는 없는 상태로\n",
    "  # 실제 object로 불러올 때 value mapping이 되도록 하는 작업\n",
    "  def __init__(self, name: str, address: str, email: str, DoB: str, affiliation: str) -> None :\n",
    "    # __init__ : private class(내부자를 위한 func, variables)\n",
    "    self.name = name # class의 name이라는 변수에 class object parameter로 입력받은 name 할당\n",
    "    self.address = address\n",
    "    self.email = email\n",
    "    self.DoB = DoB\n",
    "    self.affiliation = affiliation\n",
    "    self.info_list = [self.name, self.address, self.email, self.DoB, self.affiliation]\n",
    "    # ? : 그냥 name, address, email,, 으로 하면 안되나?\n",
    "    # 값을 입력받아 현실적인 멤버 생성\n",
    "\n",
    "  def print_info(self) :\n",
    "    print(self.info_list)\n"
   ]
  },
  {
   "cell_type": "code",
   "execution_count": 18,
   "metadata": {},
   "outputs": [],
   "source": [
    "# SchoolMember - Member Class\n",
    "\n",
    "# 가장 상위 클래스\n",
    "class Member :\n",
    "  # initialize 라는 method는 모든 class에 존재\n",
    "  # class object 만들 때 무조건 실행되는 함수\n",
    "  # class 상태에서는 variable 이름만 있고 value는 없는 상태로\n",
    "  # 실제 object로 불러올 때 value mapping이 되도록 하는 작업\n",
    "  def __init__(self, name: str, address: str, email: str, DoB: str, affiliation: str) -> None :\n",
    "    # __init__ : private class(내부자를 위한 func, variables)\n",
    "    self.name = name # class의 name이라는 변수에 class object parameter로 입력받은 name 할당\n",
    "    self.address = address\n",
    "    self.email = email\n",
    "    self.DoB = DoB\n",
    "    self.affiliation = affiliation\n",
    "    self.info_list = [name, address, email, DoB, affiliation]\n",
    "    # ? : 그냥 name, address, email,, 으로 하면 안되나? : 되네!\n",
    "    # 아마 입력받지 않는 변수들의 경우도 존재하기 때문에 self.xxx로 쓰나보다\n",
    "    # 값을 입력받아 현실적인 멤버 생성\n",
    "\n",
    "  def print_info(self) :\n",
    "    print(self.info_list)"
   ]
  },
  {
   "cell_type": "code",
   "execution_count": 25,
   "metadata": {},
   "outputs": [
    {
     "data": {
      "text/plain": [
       "<__main__.Member at 0x16fc5fca2d0>"
      ]
     },
     "execution_count": 25,
     "metadata": {},
     "output_type": "execute_result"
    }
   ],
   "source": [
    "member_A = Member(name= 'semin', address= 'ilsan', email= 'smartboy@nate.com',\n",
    "                  DoB= '990809', affiliation='2018-03') # init함수 자동 실행 - init함수의 parameter로 mapping\n",
    "\n",
    "member_A # Member class의 object"
   ]
  },
  {
   "cell_type": "code",
   "execution_count": 26,
   "metadata": {},
   "outputs": [
    {
     "name": "stdout",
     "output_type": "stream",
     "text": [
      "['semin', 'ilsan', 'smartboy@nate.com', '990809', '2018-03']\n"
     ]
    }
   ],
   "source": [
    "member_A.name\n",
    "member_A.address\n",
    "member_A.email\n",
    "member_A.DoB\n",
    "member_A.affiliation\n",
    "\n",
    "member_A.print_info()"
   ]
  },
  {
   "cell_type": "code",
   "execution_count": 27,
   "metadata": {},
   "outputs": [],
   "source": [
    "# SchoolMember - Student Class\n",
    "\n",
    "# 자녀 클래스\n",
    "class Student(Member) : # Member class 상속\n",
    "  def __init__(self, name: str, address: str, email: str, DoB: str, affiliation: str,\n",
    "               student_num : str) -> None : # 다른 student_num 변수\n",
    "    super().__init__(name, address, email, DoB, affiliation) \n",
    "    # student_num을 제외한 다른 parameter는 Member class와 동일하므로 그대로 받아오려 함\n",
    "    # Member.__init__에 있는 모든 변수를 받아옴(info_list 포함)\n",
    "    # Member.__init__(name, address, email, DoB, affiliation)로 이해하면 될듯\n",
    "    self.student_num = student_num\n",
    "    self.advisor = ''\n",
    "    self.courses_taken = []\n",
    "    self.courses_taking = []\n",
    "    self.GPA = 0\n",
    "    # 신입생의 경우 없는 정보들은 입력받을 필요 없음\n",
    "    # class 함수의 모든 변수를 init 함수에 입력할 필요는 없음(어차피 초기화된 변수라면)\n",
    "    self.info_list += [self.student_num, self.advisor, self.courses_taken, self.courses_taking, self.GPA]\n",
    "    # Member에서 __init__에서 정의된 info_list 상속받아옴\n",
    "    \n",
    "    # print_info() 역시 상속받았기 때문에 정의안해줘도 실행할 수 있음\n",
    "    # print_info(info_list) # 이 때의 info_list는 자녀의 info_list\n",
    "    "
   ]
  },
  {
   "cell_type": "code",
   "execution_count": 28,
   "metadata": {},
   "outputs": [],
   "source": [
    "# SchoolMember - Faculty Class\n",
    "\n",
    "class Faculty(Member) :\n",
    "  def __init__(self, name: str, address: str, email: str, DoB: str, affiliation: str,\n",
    "               faculty_num: str) -> None :\n",
    "    super().__init__(name, address, email, DoB, affiliation)\n",
    "    self.faculty_num = faculty_num\n",
    "    self.advisees= [] # 신임 교수라 지도학생 없음\n",
    "    self.courses_taking= []\n",
    "    self.info_list += [self.faculty_num, self.advisees, self.courses_taking]\n"
   ]
  },
  {
   "cell_type": "code",
   "execution_count": 36,
   "metadata": {},
   "outputs": [
    {
     "data": {
      "text/plain": [
       "__main__.Student"
      ]
     },
     "execution_count": 36,
     "metadata": {},
     "output_type": "execute_result"
    }
   ],
   "source": [
    "# SchoolMembere - Making A Class Object\n",
    "# Members(부모) + Students, Faculty(자녀)\n",
    "\n",
    "hyungsin = Faculty('Hyung-Sin Kim', '942-416', 'hyungkim@snu.ac.kr', '2020.01.01', 'Data Science', 'A99999')\n",
    "type(hyungsin) # __main__.Faculty - Faculty라는 type(int처럼)\n",
    "type(hyungsin) == Faculty # **\n",
    "# hyungsin \n",
    "\n",
    "heejin = Student('Heejin Jang', 'yong-in', 'chjin0509@naver.com', '1997.05.09', 'Statistics', '12174045')\n",
    "type(heejin) # __main__.Student - type : Student\n"
   ]
  },
  {
   "cell_type": "code",
   "execution_count": 39,
   "metadata": {},
   "outputs": [
    {
     "name": "stdout",
     "output_type": "stream",
     "text": [
      "['Hyung-Sin Kim', '942-416', 'hyungkim@snu.ac.kr', '2020.01.01', 'Data Science', 'A99999', [], []]\n",
      "['Heejin Jang', 'yong-in', 'chjin0509@naver.com', '1997.05.09', 'Statistics', '12174045', '', [], [], 0]\n"
     ]
    }
   ],
   "source": [
    "# different items in info_list\n",
    "# but both have member's items\n",
    "hyungsin.print_info() # Member 상속받았기 때문에 정의안해도 사용 가능\n",
    "heejin.print_info()"
   ]
  },
  {
   "cell_type": "markdown",
   "metadata": {},
   "source": [
    "- Polymorphism"
   ]
  },
  {
   "cell_type": "code",
   "execution_count": 61,
   "metadata": {},
   "outputs": [],
   "source": [
    "# SchoolMember - Testing Polymorphism\n",
    "\n",
    "# 상황 1)\n",
    "# Member : switch_affiliation 함수 추가 - 전과(학생, 교직원에서 동작 차이 존재)\n",
    "\n",
    "class Member :\n",
    "  def __init__(self, name: str, address: str, email: str, DoB: str, affiliation: str) -> None :\n",
    "    # __init__ : private class(내부자를 위한 func, variables)\n",
    "    self.name = name # class의 name이라는 변수에 class object parameter로 입력받은 name 할당\n",
    "    self.address = address\n",
    "    self.email = email\n",
    "    self.DoB = DoB\n",
    "    self.affiliation = affiliation\n",
    "    self.info_list = [self.name, self.address, self.email, self.DoB, self.affiliation]\n",
    "\n",
    "  def print_info(self) :\n",
    "    print(self.info_list)\n",
    "    \n",
    "  def switch_affiliation(self, new_affiliation: str) :\n",
    "    print('Member', self.name, 'change affiliation from', self.affiliation, 'to', new_affiliation)\n",
    "    self.affiliation= new_affiliation\n",
    "    # print_info했을때 전과한 과를 나타낼 것\n",
    "    \n",
    "    self.info_list[4] = new_affiliation \n",
    "    # Member.__init__에서 info_list 정의되었으므로\n",
    "    # self.affiliation은 바뀌었지만 self.info_list는 바뀌지 않음\n",
    "    # 또한 Member.__init__, Student,Faculty.__init__이 수행되므로\n",
    "    # info_list[-1]은 다른걸 가리킴(** __init__이 우선!!! **)\n",
    "    "
   ]
  },
  {
   "cell_type": "code",
   "execution_count": 62,
   "metadata": {},
   "outputs": [],
   "source": [
    "# Student, Faculty는 동일\n",
    "# SchoolMember - Student Class\n",
    "\n",
    "# 자녀 클래스\n",
    "class Student(Member) : # Member class 상속\n",
    "  def __init__(self, name: str, address: str, email: str, DoB: str, affiliation: str,\n",
    "               student_num : str) -> None : # 다른 student_num 변수\n",
    "    super().__init__(name, address, email, DoB, affiliation) \n",
    "    self.student_num = student_num\n",
    "    self.advisor = ''\n",
    "    self.courses_taken = []\n",
    "    self.courses_taking = []\n",
    "    self.GPA = 0\n",
    "    self.info_list += [self.student_num, self.advisor, self.courses_taken, self.courses_taking, self.GPA]\n",
    "    \n",
    "# SchoolMember - Faculty Class\n",
    "\n",
    "class Faculty(Member) :\n",
    "  def __init__(self, name: str, address: str, email: str, DoB: str, affiliation: str,\n",
    "               faculty_num: str) -> None :\n",
    "    super().__init__(name, address, email, DoB, affiliation)\n",
    "    self.faculty_num = faculty_num\n",
    "    self.advisees= [] # 신임 교수라 지도학생 없음\n",
    "    self.courses_taking= []\n",
    "    self.info_list += [self.faculty_num, self.advisees, self.courses_taking]\n",
    "    "
   ]
  },
  {
   "cell_type": "code",
   "execution_count": 64,
   "metadata": {},
   "outputs": [],
   "source": [
    "hyungsin = Faculty('Hyung-Sin Kim', '942-416', 'hyungkim@snu.ac.kr', '2020.01.01', 'Data Science', 'A99999')\n"
   ]
  },
  {
   "cell_type": "code",
   "execution_count": 65,
   "metadata": {},
   "outputs": [
    {
     "name": "stdout",
     "output_type": "stream",
     "text": [
      "Member Hyung-Sin Kim change affiliation from Data Science to CS\n"
     ]
    }
   ],
   "source": [
    "hyungsin.switch_affiliation('CS')"
   ]
  },
  {
   "cell_type": "code",
   "execution_count": 67,
   "metadata": {},
   "outputs": [
    {
     "data": {
      "text/plain": [
       "'CS'"
      ]
     },
     "execution_count": 67,
     "metadata": {},
     "output_type": "execute_result"
    }
   ],
   "source": [
    "hyungsin.affiliation"
   ]
  },
  {
   "cell_type": "code",
   "execution_count": 68,
   "metadata": {},
   "outputs": [],
   "source": [
    "# SchoolMember - Testing Polymorphism\n",
    "\n",
    "# 상황 2)\n",
    "# Member : switch_affiliation의 print에서 student는 student로 faculty는 faculty로 출력 변경\n",
    "\n",
    "class Member :\n",
    "  def __init__(self, name: str, address: str, email: str, DoB: str, affiliation: str) -> None :\n",
    "    # __init__ : private class(내부자를 위한 func, variables)\n",
    "    self.name = name # class의 name이라는 변수에 class object parameter로 입력받은 name 할당\n",
    "    self.address = address\n",
    "    self.email = email\n",
    "    self.DoB = DoB\n",
    "    self.affiliation = affiliation\n",
    "    self.info_list = [self.name, self.address, self.email, self.DoB, self.affiliation]\n",
    "\n",
    "  def print_info(self) :\n",
    "    print(self.info_list)\n",
    "    \n",
    "  def switch_affiliation(self, new_affiliation: str) :\n",
    "    print('Member', self.name, 'change affiliation from', self.affiliation, 'to', new_affiliation)\n",
    "    self.affiliation= new_affiliation\n",
    "   "
   ]
  },
  {
   "cell_type": "code",
   "execution_count": 71,
   "metadata": {},
   "outputs": [],
   "source": [
    "# SchoolMember - Student Class\n",
    "# switch_affilimation에서 print하는 내용 변경경\n",
    "\n",
    "# 자녀 클래스\n",
    "class Student(Member) : # Member class 상속\n",
    "  def __init__(self, name: str, address: str, email: str, DoB: str, affiliation: str,\n",
    "               student_num : str) -> None : # 다른 student_num 변수\n",
    "    super().__init__(name, address, email, DoB, affiliation) \n",
    "    self.student_num = student_num\n",
    "    self.advisor = ''\n",
    "    self.courses_taken = []\n",
    "    self.courses_taking = []\n",
    "    self.GPA = 0\n",
    "    self.info_list += [self.student_num, self.advisor, self.courses_taken, self.courses_taking, self.GPA]\n",
    "  \n",
    "  # 부모 클래스의 function 덮어씌어짐  \n",
    "  def switch_affiliation(self, new_affiliation: str) -> None :\n",
    "    print('Student', self.name, 'change affiliation from', self.affiliation, 'to', new_affiliation)\n",
    "    self.affiliation= new_affiliation    "
   ]
  },
  {
   "cell_type": "code",
   "execution_count": 70,
   "metadata": {},
   "outputs": [],
   "source": [
    "# SchoolMember - Faculty Class\n",
    "\n",
    "class Faculty(Member) :\n",
    "  def __init__(self, name: str, address: str, email: str, DoB: str, affiliation: str,\n",
    "               faculty_num: str) -> None :\n",
    "    super().__init__(name, address, email, DoB, affiliation)\n",
    "    self.faculty_num = faculty_num\n",
    "    self.advisees= [] # 신임 교수라 지도학생 없음\n",
    "    self.courses_taking= []\n",
    "    self.info_list += [self.faculty_num, self.advisees, self.courses_taking]\n",
    "  \n",
    "  def switch_affiliation(self, new_affiliation : str) -> None :\n",
    "    print('Faculty', self.name, 'change affiliation from', self.affiliation, 'to', new_affiliation)\n",
    "    self.affiliation = new_affiliation"
   ]
  },
  {
   "cell_type": "code",
   "execution_count": 77,
   "metadata": {},
   "outputs": [],
   "source": [
    "hyungsin = Faculty('Hyung-Sin Kim', '942-416', 'hyungkim@snu.ac.kr', '2020.01.01', 'Data Science', 'A99999')\n",
    "heejin = Student('Heejin Jang', 'yong-in', 'chjin0509@naver.com', '1997.05.09', 'Statistics', '12174045')"
   ]
  },
  {
   "cell_type": "code",
   "execution_count": 78,
   "metadata": {},
   "outputs": [
    {
     "name": "stdout",
     "output_type": "stream",
     "text": [
      "Faculty Hyung-Sin Kim change affiliation from Data Science to CS\n"
     ]
    },
    {
     "data": {
      "text/plain": [
       "'CS'"
      ]
     },
     "execution_count": 78,
     "metadata": {},
     "output_type": "execute_result"
    }
   ],
   "source": [
    "hyungsin.switch_affiliation('CS')\n",
    "hyungsin.affiliation"
   ]
  },
  {
   "cell_type": "code",
   "execution_count": 79,
   "metadata": {},
   "outputs": [
    {
     "name": "stdout",
     "output_type": "stream",
     "text": [
      "Student Heejin Jang change affiliation from Statistics to Data Science\n"
     ]
    },
    {
     "data": {
      "text/plain": [
       "'Data Science'"
      ]
     },
     "execution_count": 79,
     "metadata": {},
     "output_type": "execute_result"
    }
   ],
   "source": [
    "heejin.switch_affiliation('Data Science')\n",
    "heejin.affiliation"
   ]
  },
  {
   "cell_type": "code",
   "execution_count": null,
   "metadata": {},
   "outputs": [],
   "source": [
    "# Execute switch_affiliation of a Student object and a Faculty object\n",
    "# See they prints different messages eventhough member class already has switch_affiliation's definition\n"
   ]
  },
  {
   "cell_type": "markdown",
   "metadata": {},
   "source": [
    "- 실습 문제"
   ]
  },
  {
   "cell_type": "code",
   "execution_count": 80,
   "metadata": {},
   "outputs": [],
   "source": [
    "# Catesian Plane\n",
    "\n",
    "# Write two classes Point and Line that give the same output as below :\n",
    "# line = Line(Point(1,1), Point(3,2)) # a line comprised of two 2D points\n",
    "# line.slpe() > 0.5\n",
    "# line.length() > 2.23606797749979\n",
    "\n",
    "# Point class : 2개의 point(x, y)\n",
    "# Line class : point 2개를 입력받는 클래스(라인: 점 2개 이은 선)\n",
    "#            : method 1(.slpe()) = y좌표 차/x좌표 차\n",
    "#            : method 2(.length()) = sqrt((x1 - x2)**2 + (y1 - y2) ** 2)\n",
    "\n"
   ]
  },
  {
   "cell_type": "code",
   "execution_count": 88,
   "metadata": {},
   "outputs": [],
   "source": [
    "class Point :\n",
    "  def __init__(self, x : int, y : int) -> None :\n",
    "    self.x= x\n",
    "    self.y= y \n",
    " "
   ]
  },
  {
   "cell_type": "code",
   "execution_count": 89,
   "metadata": {},
   "outputs": [],
   "source": [
    "import math\n",
    "\n",
    "# class Line() :\n",
    "#   def __init__(self, x1, y1, x2, y2) -> None:\n",
    "#     self.x1= x1\n",
    "#     self.y1= y1\n",
    "#     self.x2= x2\n",
    "#     self.y2= y2  \n",
    "  \n",
    "#   def slope(self) :\n",
    "#     return (self.y2- self.y1) / (self.x2- self.x1)\n",
    "  \n",
    "#   def length(self) :\n",
    "#     return math.sqrt((self.x1- self.x2)** 2 + (self.y1- self.y2)** 2)"
   ]
  },
  {
   "cell_type": "code",
   "execution_count": null,
   "metadata": {},
   "outputs": [],
   "source": [
    "# sol)\n",
    "\n",
    "class Line() :\n",
    "  def __init__(self, p1: Point, p2: Point) -> None : # 클래스를 parameter로\n",
    "    self.p1 = p1\n",
    "    self.p2 = p2\n",
    "  \n",
    "  def slope(self) -> float :\n",
    "    return (self.p2.y - self.p1.y) / (self.p2.x - self.p1.x)\n",
    "  \n",
    "  def length(self) -> float :\n",
    "    return math.sqrt((self.p1.x - self.p2.x) ** 2 + (self.p1.y - self.p2.y) ** 2)\n",
    "  "
   ]
  },
  {
   "cell_type": "code",
   "execution_count": 91,
   "metadata": {},
   "outputs": [
    {
     "data": {
      "text/plain": [
       "0.5"
      ]
     },
     "execution_count": 91,
     "metadata": {},
     "output_type": "execute_result"
    }
   ],
   "source": [
    "line = Line(Point(1,1), Point(3,2))\n",
    "\n",
    "line.slope()"
   ]
  },
  {
   "cell_type": "code",
   "execution_count": 92,
   "metadata": {},
   "outputs": [
    {
     "data": {
      "text/plain": [
       "2.23606797749979"
      ]
     },
     "execution_count": 92,
     "metadata": {},
     "output_type": "execute_result"
    }
   ],
   "source": [
    "line.length()"
   ]
  },
  {
   "cell_type": "code",
   "execution_count": null,
   "metadata": {},
   "outputs": [],
   "source": [
    "# For your OOP\n",
    "\n",
    "# 현상을 보고 이해하는 안목\n",
    "# 어떤 object 구성, 각 object의 특성(variable), 각 object의 활동\n",
    "# define objects by using related information and behaviors\n",
    "# figure out relationship between objects\n",
    "# drawing a block diagram to understand your program\n",
    "\n",
    "# ex. 통신 상황 - 통신 method 친구<=> 나\n",
    "# ex. 면담 신청 - 면담 신청 method 교수<=> 학생"
   ]
  }
 ],
 "metadata": {
  "kernelspec": {
   "display_name": "base",
   "language": "python",
   "name": "python3"
  },
  "language_info": {
   "codemirror_mode": {
    "name": "ipython",
    "version": 3
   },
   "file_extension": ".py",
   "mimetype": "text/x-python",
   "name": "python",
   "nbconvert_exporter": "python",
   "pygments_lexer": "ipython3",
   "version": "3.11.5"
  }
 },
 "nbformat": 4,
 "nbformat_minor": 2
}
